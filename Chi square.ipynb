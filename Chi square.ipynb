{
 "cells": [
  {
   "cell_type": "code",
   "execution_count": 2,
   "id": "3b22efdc-3ace-4c9e-8d98-2fde455c0367",
   "metadata": {},
   "outputs": [],
   "source": [
    "#### Chi square test"
   ]
  },
  {
   "cell_type": "code",
   "execution_count": 5,
   "id": "31424d19-790d-4397-90c7-33906426eb02",
   "metadata": {},
   "outputs": [],
   "source": [
    "import scipy.stats as stats\n",
    "import numpy as np\n",
    "# number of hours students study\n",
    "## catergorty is monday - sunday\n",
    "## summation of expected and observed must be equal\n",
    "expected = [8,6,7,9,6,9,7]\n",
    "observed = [7,8,6,9,9,6,7]"
   ]
  },
  {
   "cell_type": "code",
   "execution_count": 6,
   "id": "a281dc5e-52ee-45bb-9f0b-705d64804675",
   "metadata": {},
   "outputs": [],
   "source": [
    "# chi square goodness of fit test\n",
    "chi_square_test_statistic,p_value = stats.chisquare(observed, expected)"
   ]
  },
  {
   "cell_type": "code",
   "execution_count": 7,
   "id": "90e5df68-aeee-4ad5-8949-e51a3ba6c450",
   "metadata": {},
   "outputs": [
    {
     "data": {
      "text/plain": [
       "(3.4345238095238093, 0.7526596580922865)"
      ]
     },
     "execution_count": 7,
     "metadata": {},
     "output_type": "execute_result"
    }
   ],
   "source": [
    "chi_square_test_statistic,p_value"
   ]
  },
  {
   "cell_type": "code",
   "execution_count": 11,
   "id": "d32f2d05-4659-4674-879c-e484d0c3f852",
   "metadata": {},
   "outputs": [],
   "source": [
    "## finding the critical value\n",
    "significance_value = 0.05\n",
    "dof = len(expected)-1\n",
    "critical_value = stats.chi2.ppf(1- significance_value,dof)"
   ]
  },
  {
   "cell_type": "code",
   "execution_count": 12,
   "id": "d042a021-e68f-4085-8be6-cbc5f1ee378c",
   "metadata": {},
   "outputs": [
    {
     "data": {
      "text/plain": [
       "12.591587243743977"
      ]
     },
     "execution_count": 12,
     "metadata": {},
     "output_type": "execute_result"
    }
   ],
   "source": [
    "critical_value"
   ]
  },
  {
   "cell_type": "code",
   "execution_count": 13,
   "id": "a1bde539-c52c-4210-ad0b-d549dbf9b298",
   "metadata": {},
   "outputs": [
    {
     "name": "stdout",
     "output_type": "stream",
     "text": [
      "Except the null hypothesis\n"
     ]
    }
   ],
   "source": [
    "# if chi square is greater than critical value then we reject the null hypothesis else we accept it\n",
    "if chi_square_test_statistic > critical_value:\n",
    "    print(\"Reject the null hypothesis\")\n",
    "else:\n",
    "    print(\"Except the null hypothesis\")"
   ]
  },
  {
   "cell_type": "code",
   "execution_count": null,
   "id": "7f8a75b8-6ea2-4e25-9d13-a2c1ffd88ecd",
   "metadata": {},
   "outputs": [],
   "source": []
  }
 ],
 "metadata": {
  "kernelspec": {
   "display_name": "Python 3 (ipykernel)",
   "language": "python",
   "name": "python3"
  },
  "language_info": {
   "codemirror_mode": {
    "name": "ipython",
    "version": 3
   },
   "file_extension": ".py",
   "mimetype": "text/x-python",
   "name": "python",
   "nbconvert_exporter": "python",
   "pygments_lexer": "ipython3",
   "version": "3.10.8"
  }
 },
 "nbformat": 4,
 "nbformat_minor": 5
}
