{
 "cells": [
  {
   "cell_type": "markdown",
   "id": "7435203b-70d8-4723-bb87-5e91115d4aa2",
   "metadata": {},
   "source": [
    "## TRY EXCEPT ELSE FINALLY"
   ]
  },
  {
   "cell_type": "code",
   "execution_count": 1,
   "id": "337d479d-9c62-490e-a41c-c229907fc66d",
   "metadata": {},
   "outputs": [],
   "source": [
    "a = 10"
   ]
  },
  {
   "cell_type": "code",
   "execution_count": 2,
   "id": "2bf3ac5a-cd5f-4725-8dd2-3ce5668ba9b1",
   "metadata": {},
   "outputs": [
    {
     "ename": "ZeroDivisionError",
     "evalue": "division by zero",
     "output_type": "error",
     "traceback": [
      "\u001b[0;31m---------------------------------------------------------------------------\u001b[0m",
      "\u001b[0;31mZeroDivisionError\u001b[0m                         Traceback (most recent call last)",
      "Cell \u001b[0;32mIn[2], line 1\u001b[0m\n\u001b[0;32m----> 1\u001b[0m \u001b[43ma\u001b[49m\u001b[38;5;241;43m/\u001b[39;49m\u001b[38;5;241;43m0\u001b[39;49m\n",
      "\u001b[0;31mZeroDivisionError\u001b[0m: division by zero"
     ]
    }
   ],
   "source": [
    "a/0"
   ]
  },
  {
   "cell_type": "code",
   "execution_count": 4,
   "id": "817d9efa-cc7b-43b2-a6be-0c44e47f7d9d",
   "metadata": {},
   "outputs": [
    {
     "ename": "NameError",
     "evalue": "name 'file' is not defined",
     "output_type": "error",
     "traceback": [
      "\u001b[0;31m---------------------------------------------------------------------------\u001b[0m",
      "\u001b[0;31mNameError\u001b[0m                                 Traceback (most recent call last)",
      "Cell \u001b[0;32mIn[4], line 1\u001b[0m\n\u001b[0;32m----> 1\u001b[0m \u001b[43mfile\u001b[49m\u001b[38;5;241m.\u001b[39mopen(\u001b[38;5;124m\"\u001b[39m\u001b[38;5;124mtest.txt\u001b[39m\u001b[38;5;124m\"\u001b[39m , \u001b[38;5;124m\"\u001b[39m\u001b[38;5;124mr\u001b[39m\u001b[38;5;124m\"\u001b[39m)\n\u001b[1;32m      2\u001b[0m \u001b[38;5;28mprint\u001b[39m(\u001b[38;5;124m\"\u001b[39m\u001b[38;5;124mthis is my print\u001b[39m\u001b[38;5;124m\"\u001b[39m)\n",
      "\u001b[0;31mNameError\u001b[0m: name 'file' is not defined"
     ]
    }
   ],
   "source": [
    "## python runs code in a sequential manner \n",
    "# in this case the error is in the first line so it will stop executing in the first line itself\n",
    "file.open(\"test.txt\" , \"r\")\n",
    "print(\"this is my print\")\n"
   ]
  },
  {
   "cell_type": "markdown",
   "id": "4a11f772-e86e-4968-aace-9366f25bff89",
   "metadata": {},
   "source": [
    "##### try Except"
   ]
  },
  {
   "cell_type": "markdown",
   "id": "97e708e3-c747-4a15-8c62-1835a5b1d5ed",
   "metadata": {},
   "source": [
    "we use try in the place where there is a most probablity of getting an error\n",
    "the try block send the error to the except block\n",
    "\n",
    "only the code gets into exception block if an error occcurs"
   ]
  },
  {
   "cell_type": "code",
   "execution_count": 12,
   "id": "d0a1a0a5-0a29-4b78-a798-3f56e152d7a5",
   "metadata": {},
   "outputs": [
    {
     "name": "stdout",
     "output_type": "stream",
     "text": [
      "this is my except block not writable\n"
     ]
    }
   ],
   "source": [
    "try:\n",
    "    f = open(\"test.txt\" , \"r\")\n",
    "    f.write(\"this is write\")\n",
    "    f.close()\n",
    "except Exception as e: # this will handle the error i.e it will not stop the program if encounterd with error\n",
    "    print(\"this is my except block\",e)"
   ]
  },
  {
   "cell_type": "code",
   "execution_count": 13,
   "id": "d6e70a55-e7e0-4ceb-80ae-c243682109ad",
   "metadata": {},
   "outputs": [],
   "source": [
    "try:\n",
    "    f = open(\"test.txt\" , \"w\")\n",
    "    f.write(\"this is write\")\n",
    "    f.close()\n",
    "except Exception as e: # this will handle the error i.e it will not stop the program if encounterd with error\n",
    "    print(\"this is my except block\",e)"
   ]
  },
  {
   "cell_type": "markdown",
   "id": "dd3ee823-4df4-48de-8880-203b6b231eac",
   "metadata": {},
   "source": [
    "#### else"
   ]
  },
  {
   "cell_type": "code",
   "execution_count": 16,
   "id": "5b07711f-4915-450d-a538-ee37169c84aa",
   "metadata": {},
   "outputs": [
    {
     "name": "stdout",
     "output_type": "stream",
     "text": [
      "this is my except block [Errno 2] No such file or directory: 'text.txt'\n"
     ]
    }
   ],
   "source": [
    "try:\n",
    "    f = open(\"text.txt\" , \"r\")\n",
    "    f.write(\"this is write\")\n",
    "except Exception as e: # this will handle the error i.e it will not stop the program if encounterd with error\n",
    "    print(\"this is my except block\",e)\n",
    "# if except block is true then else block will execute\n",
    "else:\n",
    "    f.close()\n",
    "    print(\"this will execute once you execute without error\")"
   ]
  },
  {
   "cell_type": "code",
   "execution_count": 18,
   "id": "410dda7c-b66c-45c2-8b64-e8a37581f243",
   "metadata": {},
   "outputs": [
    {
     "name": "stdout",
     "output_type": "stream",
     "text": [
      "this is my except block [Errno 2] No such file or directory: 'tet.txt'\n"
     ]
    }
   ],
   "source": [
    "## if except executes then else block will not run\n",
    "## we can use nested try else and except\n",
    "try:\n",
    "    f = open(\"tet.txt\" , \"r\")\n",
    "    f.write(\"this is write\")\n",
    "except Exception as e: # this will handle the error i.e it will not stop the program if encounterd with error\n",
    "    print(\"this is my except block\",e)\n",
    "# if except block is true then else block will execute\n",
    "else:\n",
    "    f.close()\n",
    "    print(\"this will execute once you execute without error\")"
   ]
  },
  {
   "cell_type": "code",
   "execution_count": null,
   "id": "60f6b5ed-0d79-424d-ba23-989a5d59f91d",
   "metadata": {},
   "outputs": [],
   "source": []
  },
  {
   "cell_type": "code",
   "execution_count": null,
   "id": "6bae68cd-cb8b-4b81-a2c9-18f5444a9174",
   "metadata": {},
   "outputs": [],
   "source": []
  },
  {
   "cell_type": "code",
   "execution_count": 19,
   "id": "fe957656-df09-4d39-b654-0bd39d8330ab",
   "metadata": {},
   "outputs": [
    {
     "name": "stdout",
     "output_type": "stream",
     "text": [
      "finally will execute in any situation\n"
     ]
    },
    {
     "ename": "FileNotFoundError",
     "evalue": "[Errno 2] No such file or directory: 'test0.txt'",
     "output_type": "error",
     "traceback": [
      "\u001b[0;31m---------------------------------------------------------------------------\u001b[0m",
      "\u001b[0;31mFileNotFoundError\u001b[0m                         Traceback (most recent call last)",
      "Cell \u001b[0;32mIn[19], line 2\u001b[0m\n\u001b[1;32m      1\u001b[0m \u001b[38;5;28;01mtry\u001b[39;00m:\n\u001b[0;32m----> 2\u001b[0m     f \u001b[38;5;241m=\u001b[39m \u001b[38;5;28;43mopen\u001b[39;49m\u001b[43m(\u001b[49m\u001b[38;5;124;43m\"\u001b[39;49m\u001b[38;5;124;43mtest0.txt\u001b[39;49m\u001b[38;5;124;43m\"\u001b[39;49m\u001b[43m \u001b[49m\u001b[43m,\u001b[49m\u001b[43m \u001b[49m\u001b[38;5;124;43m\"\u001b[39;49m\u001b[38;5;124;43mr\u001b[39;49m\u001b[38;5;124;43m\"\u001b[39;49m\u001b[43m)\u001b[49m\n\u001b[1;32m      3\u001b[0m     f\u001b[38;5;241m.\u001b[39mwrite(\u001b[38;5;124m\"\u001b[39m\u001b[38;5;124mthis is write\u001b[39m\u001b[38;5;124m\"\u001b[39m)\n\u001b[1;32m      4\u001b[0m \u001b[38;5;28;01mfinally\u001b[39;00m:\n",
      "File \u001b[0;32m/opt/conda/lib/python3.10/site-packages/IPython/core/interactiveshell.py:282\u001b[0m, in \u001b[0;36m_modified_open\u001b[0;34m(file, *args, **kwargs)\u001b[0m\n\u001b[1;32m    275\u001b[0m \u001b[38;5;28;01mif\u001b[39;00m file \u001b[38;5;129;01min\u001b[39;00m {\u001b[38;5;241m0\u001b[39m, \u001b[38;5;241m1\u001b[39m, \u001b[38;5;241m2\u001b[39m}:\n\u001b[1;32m    276\u001b[0m     \u001b[38;5;28;01mraise\u001b[39;00m \u001b[38;5;167;01mValueError\u001b[39;00m(\n\u001b[1;32m    277\u001b[0m         \u001b[38;5;124mf\u001b[39m\u001b[38;5;124m\"\u001b[39m\u001b[38;5;124mIPython won\u001b[39m\u001b[38;5;124m'\u001b[39m\u001b[38;5;124mt let you open fd=\u001b[39m\u001b[38;5;132;01m{\u001b[39;00mfile\u001b[38;5;132;01m}\u001b[39;00m\u001b[38;5;124m by default \u001b[39m\u001b[38;5;124m\"\u001b[39m\n\u001b[1;32m    278\u001b[0m         \u001b[38;5;124m\"\u001b[39m\u001b[38;5;124mas it is likely to crash IPython. If you know what you are doing, \u001b[39m\u001b[38;5;124m\"\u001b[39m\n\u001b[1;32m    279\u001b[0m         \u001b[38;5;124m\"\u001b[39m\u001b[38;5;124myou can use builtins\u001b[39m\u001b[38;5;124m'\u001b[39m\u001b[38;5;124m open.\u001b[39m\u001b[38;5;124m\"\u001b[39m\n\u001b[1;32m    280\u001b[0m     )\n\u001b[0;32m--> 282\u001b[0m \u001b[38;5;28;01mreturn\u001b[39;00m \u001b[43mio_open\u001b[49m\u001b[43m(\u001b[49m\u001b[43mfile\u001b[49m\u001b[43m,\u001b[49m\u001b[43m \u001b[49m\u001b[38;5;241;43m*\u001b[39;49m\u001b[43margs\u001b[49m\u001b[43m,\u001b[49m\u001b[43m \u001b[49m\u001b[38;5;241;43m*\u001b[39;49m\u001b[38;5;241;43m*\u001b[39;49m\u001b[43mkwargs\u001b[49m\u001b[43m)\u001b[49m\n",
      "\u001b[0;31mFileNotFoundError\u001b[0m: [Errno 2] No such file or directory: 'test0.txt'"
     ]
    }
   ],
   "source": [
    "## if code fails or runs finally will execute\n",
    "try:\n",
    "    f = open(\"test0.txt\" , \"r\")\n",
    "    f.write(\"this is write\")\n",
    "finally:\n",
    "    print(\"finally will execute in any situation\")"
   ]
  },
  {
   "cell_type": "code",
   "execution_count": null,
   "id": "04e65c22-229f-4cd8-aa63-5a754ce82b8f",
   "metadata": {},
   "outputs": [],
   "source": []
  },
  {
   "cell_type": "code",
   "execution_count": null,
   "id": "adbcb49d-a1d9-4ac0-8229-11fe0ee5ae09",
   "metadata": {},
   "outputs": [],
   "source": []
  },
  {
   "cell_type": "markdown",
   "id": "cf336948-3622-4878-accf-703835fa642b",
   "metadata": {},
   "source": [
    "### Exception Handling for custom errors"
   ]
  },
  {
   "cell_type": "code",
   "execution_count": 21,
   "id": "de6e9d6e-5bce-45b8-baec-f8b08f88bc73",
   "metadata": {},
   "outputs": [
    {
     "name": "stdin",
     "output_type": "stream",
     "text": [
      "enter your age -1465\n"
     ]
    }
   ],
   "source": [
    "# for system negative age is not an error\n",
    "# but error cannot be negative in that case we can create a custom exception\n",
    "age = int(input(\"enter your age\"))"
   ]
  },
  {
   "cell_type": "code",
   "execution_count": 34,
   "id": "82b47f9e-cb40-4070-8dd6-94d7508af240",
   "metadata": {},
   "outputs": [],
   "source": [
    "## Inheritance\n",
    "class validateage(Exception):\n",
    "    def __init__ (self, msg):\n",
    "        self.msg = msg"
   ]
  },
  {
   "cell_type": "code",
   "execution_count": 35,
   "id": "a7232195-df94-4d10-93dc-c2976789563d",
   "metadata": {},
   "outputs": [],
   "source": [
    "def validateage1(age):\n",
    "    if age < 0 :\n",
    "        raise validateage(\"Entered age is negative\")\n",
    "    elif age > 100 :\n",
    "        raise validateage(\"Entered age is very high\")\n",
    "    else:\n",
    "        print(\"age is valid\")"
   ]
  },
  {
   "cell_type": "code",
   "execution_count": 36,
   "id": "1e7b0e39-035a-4fe6-a679-6fbdb01b80da",
   "metadata": {},
   "outputs": [
    {
     "name": "stdin",
     "output_type": "stream",
     "text": [
      "enter your age -4\n"
     ]
    },
    {
     "name": "stdout",
     "output_type": "stream",
     "text": [
      "Entered age is negative\n"
     ]
    }
   ],
   "source": [
    "try:\n",
    "    age = int(input(\"enter your age\"))\n",
    "    validateage1(age)\n",
    "except validateage as e:\n",
    "    print(e)"
   ]
  },
  {
   "cell_type": "code",
   "execution_count": null,
   "id": "208bffb7-7472-4978-9177-c435802e525d",
   "metadata": {},
   "outputs": [],
   "source": []
  },
  {
   "cell_type": "markdown",
   "id": "740f8870-2188-41b5-b89a-8fb86b8be11c",
   "metadata": {},
   "source": [
    "#### Types of errors\n"
   ]
  },
  {
   "cell_type": "code",
   "execution_count": 3,
   "id": "8a51176a-7ef9-4469-9529-1e9a55fa5797",
   "metadata": {},
   "outputs": [
    {
     "name": "stdout",
     "output_type": "stream",
     "text": [
      "division by zero\n"
     ]
    }
   ],
   "source": [
    "## ZeroDivision Error\n",
    "try :\n",
    "    a = 5 /0 \n",
    "except ZeroDivisionError as e :\n",
    "    print(e)"
   ]
  },
  {
   "cell_type": "code",
   "execution_count": 6,
   "id": "5f9ee4c1-67f1-4bc4-99bc-a778d6e58485",
   "metadata": {},
   "outputs": [
    {
     "name": "stdout",
     "output_type": "stream",
     "text": [
      "invalid literal for int() with base 10: 'Prakash'\n"
     ]
    }
   ],
   "source": [
    "## Multiple error in a single except block\n",
    "try:\n",
    "    int(\"Prakash\")\n",
    "except (TypeError , ValueError) as e:\n",
    "    print(e)"
   ]
  },
  {
   "cell_type": "code",
   "execution_count": 7,
   "id": "a7269cbb-86d4-4f6b-afab-ebbe2bf1fc3d",
   "metadata": {},
   "outputs": [
    {
     "name": "stdout",
     "output_type": "stream",
     "text": [
      "this will catch error\n"
     ]
    }
   ],
   "source": [
    "# Commenting a statement in case error not known\n",
    "try:\n",
    "    int(\"Prakash\")\n",
    "except:\n",
    "    print(\"this will catch error\")"
   ]
  },
  {
   "cell_type": "code",
   "execution_count": 9,
   "id": "3a859230-6a3a-4156-9da2-b583e25c1a91",
   "metadata": {},
   "outputs": [
    {
     "name": "stdout",
     "output_type": "stream",
     "text": [
      "No module named 'sudh'\n"
     ]
    },
    {
     "data": {
      "text/plain": [
       "2.5"
      ]
     },
     "execution_count": 9,
     "metadata": {},
     "output_type": "execute_result"
    }
   ],
   "source": [
    "# Import error\n",
    "try:\n",
    "    import sudh\n",
    "except ImportError as e:\n",
    "    print (e)\n",
    "10/4"
   ]
  },
  {
   "cell_type": "code",
   "execution_count": 13,
   "id": "d536f611-fb22-4775-9ee7-1e5cc985a452",
   "metadata": {},
   "outputs": [
    {
     "name": "stdout",
     "output_type": "stream",
     "text": [
      "'key2'\n"
     ]
    }
   ],
   "source": [
    "# Key error\n",
    "try :\n",
    "    d = {1:[1,2,3,5],\"key\" : \"prakash\"}\n",
    "    print(d[\"key2\"])\n",
    "except KeyError as e:\n",
    "    print(e)"
   ]
  },
  {
   "cell_type": "code",
   "execution_count": 15,
   "id": "785d43ad-1906-4e71-ada1-ca6662afc792",
   "metadata": {},
   "outputs": [
    {
     "name": "stdout",
     "output_type": "stream",
     "text": [
      "'str' object has no attribute 'test'\n"
     ]
    }
   ],
   "source": [
    "# Attribute error\n",
    "try:\n",
    "    \"string\".test()\n",
    "except AttributeError as e:\n",
    "    print(e)"
   ]
  },
  {
   "cell_type": "code",
   "execution_count": 16,
   "id": "5998fc18-7eab-4e12-a25f-0c97959b5e9c",
   "metadata": {},
   "outputs": [
    {
     "name": "stdout",
     "output_type": "stream",
     "text": [
      "list index out of range\n"
     ]
    }
   ],
   "source": [
    "## Index error\n",
    "try:\n",
    "    l = [2,1,4,5,6]\n",
    "    l[5]\n",
    "except IndexError as e:\n",
    "    print(e)"
   ]
  },
  {
   "cell_type": "code",
   "execution_count": 17,
   "id": "f0a2a4e9-102b-4b98-90e1-094b1a417e01",
   "metadata": {},
   "outputs": [
    {
     "name": "stdout",
     "output_type": "stream",
     "text": [
      "unsupported operand type(s) for +: 'int' and 'str'\n"
     ]
    }
   ],
   "source": [
    "## Type error\n",
    "try:\n",
    "    123+\"sudh\"\n",
    "except TypeError as e:\n",
    "    print(e)"
   ]
  },
  {
   "cell_type": "code",
   "execution_count": 19,
   "id": "cb738db7-a213-436f-9e2e-a76e19a3ecb5",
   "metadata": {},
   "outputs": [
    {
     "name": "stdout",
     "output_type": "stream",
     "text": [
      "[Errno 2] No such file or directory: 'prakash.txt'\n"
     ]
    }
   ],
   "source": [
    "## File not found error\n",
    "try:\n",
    "    with open(\"prakash.txt\", \"r\") as d:\n",
    "        d.read()\n",
    "except FileNotFoundError as e:\n",
    "    print(e)"
   ]
  },
  {
   "cell_type": "code",
   "execution_count": 21,
   "id": "20977301-c5ed-4086-9514-fbe07e2564e7",
   "metadata": {},
   "outputs": [
    {
     "name": "stdout",
     "output_type": "stream",
     "text": [
      "[Errno 2] No such file or directory: 'prakash.txt'\n"
     ]
    }
   ],
   "source": [
    "## Bad Practice\n",
    "try:\n",
    "    with open(\"prakash.txt\", \"r\") as d:\n",
    "        d.read()\n",
    "except Exception as e:\n",
    "    print(e)\n",
    "    \n",
    "# this will not run because super class is already handling the error\n",
    "# this is a bad practice so super class should not be on the top\n",
    "\n",
    "except FileNotFoundError as e:\n",
    "    print(e)"
   ]
  },
  {
   "cell_type": "code",
   "execution_count": 31,
   "id": "37827d1b-5437-4a5a-ace3-635dc847dbab",
   "metadata": {},
   "outputs": [],
   "source": [
    "## try except inside a function\n",
    "def test(file):\n",
    "    try:\n",
    "        with open(\"prakash.txt\", \"r\") as d:\n",
    "            d.read()\n",
    "    except Exception as e:\n",
    "        print(e)\n",
    "    \n",
    "    except FileNotFoundError as e:\n",
    "        print(e, \"This is a file not found error\")"
   ]
  },
  {
   "cell_type": "code",
   "execution_count": null,
   "id": "bbef1eb8-bc29-4bdc-94e5-f95f172d0111",
   "metadata": {},
   "outputs": [],
   "source": []
  },
  {
   "cell_type": "markdown",
   "id": "fc173f13-c03e-488c-93ac-359b6df64395",
   "metadata": {},
   "source": [
    "#### Best practice for Exception Handling\n"
   ]
  },
  {
   "cell_type": "markdown",
   "id": "cf56637b-e708-45be-a6f1-92b28f359cf6",
   "metadata": {},
   "source": [
    "- Use always a specific error - mention the correct error that can be encounter instead of using the Exception class itself in the except block\n",
    "\n",
    "- Print always a Proper Message.\n",
    "\n",
    "- Always log your error.\n",
    "- Alwyas avoid writing multiple exception handling.\n",
    "- Document all the errors.\n",
    "- Cleanup all resources."
   ]
  },
  {
   "cell_type": "code",
   "execution_count": 36,
   "id": "1cd47361-66be-4ec8-9d16-5604a37dda57",
   "metadata": {},
   "outputs": [],
   "source": [
    "## - Always log your error.\n",
    "import logging\n",
    "logging.basicConfig(filename = \"prakash.logging\",level = logging.DEBUG)\n",
    "try :\n",
    "    a = 5 /0 \n",
    "except ZeroDivisionError as e :\n",
    "    logging.error(\"Handle Zero division error\".format (e))"
   ]
  },
  {
   "cell_type": "code",
   "execution_count": 37,
   "id": "fea3615c-192f-425c-8daa-3e96714b2b6a",
   "metadata": {},
   "outputs": [],
   "source": [
    "##- Alwyas avoid writing multiple exception handling.\n",
    "try :\n",
    "    a = 5 /0 \n",
    "except IndexError as e :\n",
    "    logging.error(\"Handle Zero division error\".format (e))\n",
    "except ZeroDivisionError as e :\n",
    "    logging.error(\"Handle Zero division error\".format (e))\n",
    "except TypeError as e :\n",
    "    logging.error(\"Handle Zero division error\".format (e))"
   ]
  },
  {
   "cell_type": "code",
   "execution_count": 38,
   "id": "268d9efe-84a2-485b-9f23-b991c9a9530e",
   "metadata": {},
   "outputs": [],
   "source": [
    "## - Cleanup all resources.\n",
    "\n",
    "try:\n",
    "    with open(\"test.txt\",\"w\") as f:\n",
    "        f.write(\"I want to become Data Scientist\")\n",
    "except FileNotFoundError as e:\n",
    "    logging.error(\"Here we are checking for finle not found error\".format(e))\n",
    "    \n",
    "    \n",
    "## here the file will be closed if code gives a error or not    \n",
    "## closing the file is crucial as if it is not closed it would be running in the backgroud\n",
    "finally :\n",
    "    f.close()"
   ]
  },
  {
   "cell_type": "code",
   "execution_count": null,
   "id": "4b652298-56a5-4b97-9822-f9fb09dd0dd6",
   "metadata": {},
   "outputs": [],
   "source": []
  },
  {
   "cell_type": "code",
   "execution_count": null,
   "id": "913611bf-327a-4ff6-99ae-fe24aa4eb539",
   "metadata": {},
   "outputs": [],
   "source": []
  },
  {
   "cell_type": "code",
   "execution_count": null,
   "id": "c216a823-9801-4cb8-85e7-c5427731ab99",
   "metadata": {},
   "outputs": [],
   "source": []
  }
 ],
 "metadata": {
  "kernelspec": {
   "display_name": "Python 3 (ipykernel)",
   "language": "python",
   "name": "python3"
  },
  "language_info": {
   "codemirror_mode": {
    "name": "ipython",
    "version": 3
   },
   "file_extension": ".py",
   "mimetype": "text/x-python",
   "name": "python",
   "nbconvert_exporter": "python",
   "pygments_lexer": "ipython3",
   "version": "3.10.8"
  }
 },
 "nbformat": 4,
 "nbformat_minor": 5
}
