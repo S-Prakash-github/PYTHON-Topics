{
 "cells": [
  {
   "cell_type": "markdown",
   "id": "da433cd2-3ddd-433f-a0ec-371311eb4078",
   "metadata": {},
   "source": [
    "### F test with Python"
   ]
  },
  {
   "cell_type": "code",
   "execution_count": 1,
   "id": "12608328-a456-4b87-831e-786ed156d481",
   "metadata": {},
   "outputs": [],
   "source": [
    "## evidence to say that two population vcariences are not equal\n",
    "worker1= [18, 19, 22, 25, 27, 28, 41, 45, 51, 55]\n",
    "worker2= [14, 15, 15, 17, 18, 22, 25, 25, 27, 34]"
   ]
  },
  {
   "cell_type": "code",
   "execution_count": 19,
   "id": "d4221987-6cb3-412c-8a26-7416b1c49a37",
   "metadata": {},
   "outputs": [],
   "source": [
    "## calculating f test\n",
    "import numpy as np \n",
    "import pandas as pd\n",
    "degree_of_f1 = len(worker1) -1 \n",
    "degree_of_f2 = len(worker2) -1 \n",
    "significance_value = 0.05\n",
    "f_test = np.var(worker1)/np.var(worker2)"
   ]
  },
  {
   "cell_type": "code",
   "execution_count": 20,
   "id": "5cbabc07-3c83-40a6-991d-1d3d6ca22acf",
   "metadata": {},
   "outputs": [],
   "source": [
    "import scipy.stats as stat"
   ]
  },
  {
   "cell_type": "code",
   "execution_count": 21,
   "id": "c6155472-266d-45b5-8b1c-5192eada5f4d",
   "metadata": {},
   "outputs": [],
   "source": [
    "critical_value = stat.f.ppf(q = 1 - significance_value , dfn = degree_of_f1 , dfd = degree_of_f2)"
   ]
  },
  {
   "cell_type": "code",
   "execution_count": 22,
   "id": "ddaad52d-c1f2-4c24-bb1b-5f8e92efe7ab",
   "metadata": {},
   "outputs": [
    {
     "data": {
      "text/plain": [
       "3.178893104458269"
      ]
     },
     "execution_count": 22,
     "metadata": {},
     "output_type": "execute_result"
    }
   ],
   "source": [
    "critical_value"
   ]
  },
  {
   "cell_type": "code",
   "execution_count": 24,
   "id": "4f273606-38a0-4f09-adca-bd25dd2507a0",
   "metadata": {},
   "outputs": [
    {
     "name": "stdout",
     "output_type": "stream",
     "text": [
      "Reject the null hypothesis\n"
     ]
    }
   ],
   "source": [
    "if f_test > critical_value :\n",
    "    print(\"Reject the null hypothesis\")\n",
    "else:\n",
    "    print(\"We fail to reject the null hypothesis\")"
   ]
  },
  {
   "cell_type": "code",
   "execution_count": null,
   "id": "c6d4415e-17ca-46ba-9c45-5f3782a10acd",
   "metadata": {},
   "outputs": [],
   "source": [
    "\n"
   ]
  },
  {
   "cell_type": "code",
   "execution_count": null,
   "id": "188afe54-0fb3-4d5a-acbe-c4dd076c1a2f",
   "metadata": {},
   "outputs": [],
   "source": []
  }
 ],
 "metadata": {
  "kernelspec": {
   "display_name": "Python 3 (ipykernel)",
   "language": "python",
   "name": "python3"
  },
  "language_info": {
   "codemirror_mode": {
    "name": "ipython",
    "version": 3
   },
   "file_extension": ".py",
   "mimetype": "text/x-python",
   "name": "python",
   "nbconvert_exporter": "python",
   "pygments_lexer": "ipython3",
   "version": "3.10.8"
  }
 },
 "nbformat": 4,
 "nbformat_minor": 5
}
