{
 "cells": [
  {
   "cell_type": "code",
   "execution_count": 51,
   "id": "f3391cf1-3a5c-4548-9df4-5c55371269eb",
   "metadata": {},
   "outputs": [],
   "source": [
    "F = open(\"test.txt\",\"w\")"
   ]
  },
  {
   "cell_type": "code",
   "execution_count": 52,
   "id": "0949acbe-8344-41ab-8a68-74239ce1cd8e",
   "metadata": {},
   "outputs": [
    {
     "data": {
      "text/plain": [
       "'/home/jovyan/work/ML'"
      ]
     },
     "execution_count": 52,
     "metadata": {},
     "output_type": "execute_result"
    }
   ],
   "source": [
    "pwd"
   ]
  },
  {
   "cell_type": "code",
   "execution_count": 53,
   "id": "222a7f6f-0c98-411a-ac5c-dde251b1975b",
   "metadata": {},
   "outputs": [
    {
     "name": "stdout",
     "output_type": "stream",
     "text": [
      "test.txt\n"
     ]
    }
   ],
   "source": [
    "ls"
   ]
  },
  {
   "cell_type": "code",
   "execution_count": 54,
   "id": "e96917d0-8208-4a98-bfc0-d1f4390b48db",
   "metadata": {},
   "outputs": [
    {
     "name": "stdout",
     "output_type": "stream",
     "text": [
      "[Errno 2] No such file or directory: 'ML'\n",
      "/home/jovyan/work/ML\n"
     ]
    }
   ],
   "source": [
    "cd ML"
   ]
  },
  {
   "cell_type": "code",
   "execution_count": 55,
   "id": "edb04608-02b8-4e8c-b20f-7cc517194095",
   "metadata": {},
   "outputs": [
    {
     "name": "stdout",
     "output_type": "stream",
     "text": [
      "test.txt\n"
     ]
    }
   ],
   "source": [
    "ls"
   ]
  },
  {
   "cell_type": "code",
   "execution_count": 56,
   "id": "81f892f0-4122-46f2-8187-0b9ce2fd3348",
   "metadata": {},
   "outputs": [
    {
     "data": {
      "text/plain": [
       "21"
      ]
     },
     "execution_count": 56,
     "metadata": {},
     "output_type": "execute_result"
    }
   ],
   "source": [
    "F.write(\"This is my first file\")"
   ]
  },
  {
   "cell_type": "code",
   "execution_count": 57,
   "id": "86eb02ba-75a7-4a6d-8125-178e47a57f55",
   "metadata": {},
   "outputs": [],
   "source": [
    "F.close()"
   ]
  },
  {
   "cell_type": "code",
   "execution_count": 58,
   "id": "37862fb1-6c00-4705-b145-c36d14231066",
   "metadata": {},
   "outputs": [],
   "source": [
    "F= open(\"test.txt\",\"w\")"
   ]
  },
  {
   "cell_type": "code",
   "execution_count": 59,
   "id": "070dac70-f298-49e0-9a16-d669a0a1bf58",
   "metadata": {},
   "outputs": [
    {
     "data": {
      "text/plain": [
       "3"
      ]
     },
     "execution_count": 59,
     "metadata": {},
     "output_type": "execute_result"
    }
   ],
   "source": [
    "F.write(\"Yes\")\n"
   ]
  },
  {
   "cell_type": "code",
   "execution_count": 60,
   "id": "18927c48-48ca-4fdf-93ae-657605b8681b",
   "metadata": {},
   "outputs": [],
   "source": [
    "F.close()"
   ]
  },
  {
   "cell_type": "code",
   "execution_count": 61,
   "id": "065b6973-a6b3-4c21-931f-06145b95c034",
   "metadata": {},
   "outputs": [],
   "source": [
    "F= open(\"test.txt\",\"a\")"
   ]
  },
  {
   "cell_type": "code",
   "execution_count": 62,
   "id": "00abef7c-9db9-43ca-969a-e730bcb138d6",
   "metadata": {},
   "outputs": [
    {
     "data": {
      "text/plain": [
       "22"
      ]
     },
     "execution_count": 62,
     "metadata": {},
     "output_type": "execute_result"
    }
   ],
   "source": [
    "F.write(\"Yes My name is Prakash\")"
   ]
  },
  {
   "cell_type": "code",
   "execution_count": 63,
   "id": "81f5f1c1-6972-480a-a41f-11caf97305c7",
   "metadata": {},
   "outputs": [],
   "source": [
    "F.close()"
   ]
  },
  {
   "cell_type": "code",
   "execution_count": 64,
   "id": "34eea447-8e3e-45d6-82f1-60e3575e6e26",
   "metadata": {},
   "outputs": [],
   "source": [
    "F= open(\"test.txt\",\"r\")"
   ]
  },
  {
   "cell_type": "code",
   "execution_count": 65,
   "id": "d097c863-d1a9-40c9-a591-1f4f670abe01",
   "metadata": {},
   "outputs": [
    {
     "data": {
      "text/plain": [
       "'YesYes My name is Prakash'"
      ]
     },
     "execution_count": 65,
     "metadata": {},
     "output_type": "execute_result"
    }
   ],
   "source": [
    "F.read()"
   ]
  },
  {
   "cell_type": "code",
   "execution_count": 66,
   "id": "a624c97e-3a77-4724-8465-9105bcb24854",
   "metadata": {},
   "outputs": [],
   "source": [
    "data = open(\"test.txt\",\"r\")"
   ]
  },
  {
   "cell_type": "code",
   "execution_count": 67,
   "id": "b7c87290-33f6-4ee8-a932-f3cbc9884e94",
   "metadata": {},
   "outputs": [
    {
     "data": {
      "text/plain": [
       "'YesYes My name is Prakash'"
      ]
     },
     "execution_count": 67,
     "metadata": {},
     "output_type": "execute_result"
    }
   ],
   "source": [
    "data.read()"
   ]
  },
  {
   "cell_type": "code",
   "execution_count": 68,
   "id": "a12b39a6-97ae-4766-b790-d5c20a8e17fb",
   "metadata": {},
   "outputs": [
    {
     "data": {
      "text/plain": [
       "''"
      ]
     },
     "execution_count": 68,
     "metadata": {},
     "output_type": "execute_result"
    }
   ],
   "source": [
    "data.readline()"
   ]
  },
  {
   "cell_type": "code",
   "execution_count": 69,
   "id": "01f3b0d5-4ffb-4b3e-9dd9-e5ac0ea8077b",
   "metadata": {},
   "outputs": [
    {
     "data": {
      "text/plain": [
       "0"
      ]
     },
     "execution_count": 69,
     "metadata": {},
     "output_type": "execute_result"
    }
   ],
   "source": [
    "data.seek (0)"
   ]
  },
  {
   "cell_type": "code",
   "execution_count": null,
   "id": "42953983-6e10-4e86-9469-98b46d09c26c",
   "metadata": {},
   "outputs": [],
   "source": []
  },
  {
   "cell_type": "code",
   "execution_count": 70,
   "id": "18ff7b5b-92f0-4540-9efe-d16be89ea373",
   "metadata": {},
   "outputs": [
    {
     "data": {
      "text/plain": [
       "'YesYes My name is Prakash'"
      ]
     },
     "execution_count": 70,
     "metadata": {},
     "output_type": "execute_result"
    }
   ],
   "source": [
    "data.readline()"
   ]
  },
  {
   "cell_type": "code",
   "execution_count": 71,
   "id": "aa73ffc0-0985-4ef1-873f-f7751b5bc1e4",
   "metadata": {},
   "outputs": [
    {
     "data": {
      "text/plain": [
       "''"
      ]
     },
     "execution_count": 71,
     "metadata": {},
     "output_type": "execute_result"
    }
   ],
   "source": [
    "data.read()"
   ]
  },
  {
   "cell_type": "code",
   "execution_count": 72,
   "id": "a66669dc-02f9-419f-9907-67da7ccda9c9",
   "metadata": {},
   "outputs": [
    {
     "data": {
      "text/plain": [
       "3"
      ]
     },
     "execution_count": 72,
     "metadata": {},
     "output_type": "execute_result"
    }
   ],
   "source": [
    "data.seek(3) ## set pointer to  read the items from the file\n"
   ]
  },
  {
   "cell_type": "code",
   "execution_count": 73,
   "id": "02f21d5a-5c8f-4713-9428-4399d13ed730",
   "metadata": {},
   "outputs": [
    {
     "data": {
      "text/plain": [
       "'Yes My name is Prakash'"
      ]
     },
     "execution_count": 73,
     "metadata": {},
     "output_type": "execute_result"
    }
   ],
   "source": [
    "data.readline()"
   ]
  },
  {
   "cell_type": "code",
   "execution_count": 74,
   "id": "051ed47b-27ae-4d1b-a28c-3ea88f08805d",
   "metadata": {},
   "outputs": [],
   "source": [
    "data1 = open(\"test.txt\",\"r\")"
   ]
  },
  {
   "cell_type": "code",
   "execution_count": 75,
   "id": "67342035-eaa0-4dae-87f5-e4e0b82fdc09",
   "metadata": {},
   "outputs": [
    {
     "name": "stdout",
     "output_type": "stream",
     "text": [
      "YesYes My name is Prakash\n"
     ]
    }
   ],
   "source": [
    "## Reading data line by line\n",
    "for i in data1:\n",
    "    print(i)"
   ]
  },
  {
   "cell_type": "code",
   "execution_count": 76,
   "id": "7f57701d-70b0-457c-aaab-cedbc48b5018",
   "metadata": {},
   "outputs": [
    {
     "data": {
      "text/plain": [
       "25"
      ]
     },
     "execution_count": 76,
     "metadata": {},
     "output_type": "execute_result"
    }
   ],
   "source": [
    "##size of the file\n",
    "import os\n",
    "os.path.getsize(\"test.txt\")"
   ]
  },
  {
   "cell_type": "code",
   "execution_count": 77,
   "id": "ddef679b-e38a-4185-9bb0-2d8f8ed9498d",
   "metadata": {},
   "outputs": [],
   "source": [
    "## delete a file \n",
    "os.remove(\"test.txt\")"
   ]
  },
  {
   "cell_type": "code",
   "execution_count": 89,
   "id": "3186d3f5-7040-4fbf-8e31-4087ae9eab6e",
   "metadata": {},
   "outputs": [],
   "source": [
    "f = open(\"test1.txt\",\"w\")"
   ]
  },
  {
   "cell_type": "code",
   "execution_count": 90,
   "id": "a1860c8c-5f1d-4c26-8f3e-a8d85b717b71",
   "metadata": {},
   "outputs": [
    {
     "data": {
      "text/plain": [
       "1"
      ]
     },
     "execution_count": 90,
     "metadata": {},
     "output_type": "execute_result"
    }
   ],
   "source": [
    "f.write( \"Write a Python program that matches a word containing 'z', not at the start or end of the word. Go to the editor Write a Python program that matches a word containing 'z', not at the start or end of the word. Go to the editorClick me to see the solution\")\n",
    "\n",
    "1"
   ]
  },
  {
   "cell_type": "code",
   "execution_count": 91,
   "id": "c1f9566e-be8e-4f90-8484-9a9ef627de47",
   "metadata": {},
   "outputs": [],
   "source": [
    "f.close()"
   ]
  },
  {
   "cell_type": "code",
   "execution_count": 92,
   "id": "2a885bbd-ee3b-442d-8993-37ee22d85e5b",
   "metadata": {},
   "outputs": [
    {
     "data": {
      "text/plain": [
       "'/home/jovyan/work/ML'"
      ]
     },
     "execution_count": 92,
     "metadata": {},
     "output_type": "execute_result"
    }
   ],
   "source": [
    "pwd"
   ]
  },
  {
   "cell_type": "code",
   "execution_count": 93,
   "id": "3d2aae99-4599-432d-b9de-241d461a8310",
   "metadata": {},
   "outputs": [],
   "source": [
    "os.rename(\"test1.txt\",\"new.txt\")"
   ]
  },
  {
   "cell_type": "code",
   "execution_count": 94,
   "id": "28e0d736-a880-4140-973f-a6a814d7796c",
   "metadata": {},
   "outputs": [],
   "source": [
    "## copy the file\n",
    "import shutil"
   ]
  },
  {
   "cell_type": "code",
   "execution_count": 95,
   "id": "8fa51933-61d4-488e-99f1-458abb788312",
   "metadata": {},
   "outputs": [
    {
     "data": {
      "text/plain": [
       "'copy_new.txt'"
      ]
     },
     "execution_count": 95,
     "metadata": {},
     "output_type": "execute_result"
    }
   ],
   "source": [
    "shutil.copy(\"new.txt\",\"copy_new.txt\")"
   ]
  },
  {
   "cell_type": "code",
   "execution_count": 101,
   "id": "bedd6dfb-a9d6-46a4-9865-9e71d3696320",
   "metadata": {},
   "outputs": [
    {
     "name": "stdout",
     "output_type": "stream",
     "text": [
      "Write a Python program that matches a word containing 'z', not at the start or end of the word. Go to the editor Write a Python program that matches a word containing 'z', not at the start or end of the word. Go to the editorClick me to see the solution\n"
     ]
    }
   ],
   "source": [
    "## another way of opening a file inread mode\n",
    "with open(\"copy_new.txt\",\"r\") as A :\n",
    "    print(A.read())"
   ]
  },
  {
   "cell_type": "code",
   "execution_count": null,
   "id": "b6cedc1e-01fc-4878-8730-7a8671ad6678",
   "metadata": {},
   "outputs": [],
   "source": [
    "\n",
    " "
   ]
  },
  {
   "cell_type": "markdown",
   "id": "6c737a7b-698c-4c0c-8702-e955f755c529",
   "metadata": {},
   "source": [
    "## more on file operations\n",
    "### Json"
   ]
  },
  {
   "cell_type": "code",
   "execution_count": 4,
   "id": "2c5d2519-a98a-4e11-972f-46b35bc3096e",
   "metadata": {},
   "outputs": [],
   "source": [
    "data = { \n",
    "    \"name\" : \"Prakash\",\n",
    "    \"mailid\" : \"prakash@gmail.com\",\n",
    "    \"phone_num\" : 78778794,\n",
    "    \"subjects\": [\"Python\",\"statistics\",\"power bi \"]\n",
    "}"
   ]
  },
  {
   "cell_type": "code",
   "execution_count": 5,
   "id": "bb2d2d37-70b3-49ac-aed5-545a5c51e4b8",
   "metadata": {},
   "outputs": [],
   "source": [
    "import json"
   ]
  },
  {
   "cell_type": "code",
   "execution_count": 8,
   "id": "af57d612-a660-4224-85f1-0badc4e077fc",
   "metadata": {},
   "outputs": [],
   "source": [
    "# creating a jason file with values in data\n",
    "with open(\"data.json\",\"w\") as d:\n",
    "    json.dump(data,d)\n",
    "    "
   ]
  },
  {
   "cell_type": "code",
   "execution_count": 12,
   "id": "09f79553-f7f2-4212-8ba9-dcf0815e79c9",
   "metadata": {},
   "outputs": [],
   "source": [
    "with open(\"data.json\",\"r\") as d:\n",
    "    data1 = json.load(d)"
   ]
  },
  {
   "cell_type": "code",
   "execution_count": 16,
   "id": "fde9966e-d63c-46dd-b506-4dc76585c887",
   "metadata": {},
   "outputs": [
    {
     "data": {
      "text/plain": [
       "['Python', 'statistics', 'power bi ']"
      ]
     },
     "execution_count": 16,
     "metadata": {},
     "output_type": "execute_result"
    }
   ],
   "source": [
    "# retreiving data\n",
    "data1[\"subjects\"]"
   ]
  },
  {
   "cell_type": "code",
   "execution_count": 17,
   "id": "24fa7e0f-7f55-4606-bee9-144184088d5e",
   "metadata": {},
   "outputs": [
    {
     "data": {
      "text/plain": [
       "'statistics'"
      ]
     },
     "execution_count": 17,
     "metadata": {},
     "output_type": "execute_result"
    }
   ],
   "source": [
    "## indexing\n",
    "data1[\"subjects\"][1]"
   ]
  },
  {
   "cell_type": "markdown",
   "id": "1077acd9-e6a9-43dc-abdd-e28fff84c6ed",
   "metadata": {},
   "source": [
    "### csv"
   ]
  },
  {
   "cell_type": "code",
   "execution_count": 18,
   "id": "6e127797-0e7a-495b-8a90-68a0191a3577",
   "metadata": {},
   "outputs": [],
   "source": [
    "## importing csv\n",
    "import csv"
   ]
  },
  {
   "cell_type": "code",
   "execution_count": 19,
   "id": "b462b2e3-9c4f-4621-8318-75a8c8129eaf",
   "metadata": {},
   "outputs": [],
   "source": [
    "data = [[\"name\",\"email\",\"phone_number\"],       # heading\n",
    "        [\"prakash\",\"prakash@gmail.com\",7787877894],\n",
    "        [\"Singh\",\"singh@gmail.com\",8897544569],\n",
    "        [\"Raj\",\"raj@gmail.com\",9887784558]]"
   ]
  },
  {
   "cell_type": "code",
   "execution_count": 24,
   "id": "b7624dab-25ed-413b-b3ce-a6e9a1dcf793",
   "metadata": {},
   "outputs": [],
   "source": [
    "with open(\"data.csv\",\"w\") as t:\n",
    "    csv_data = csv.writer(t)\n",
    "    \n",
    "    for i in data:\n",
    "        csv_data.writerow(i)"
   ]
  },
  {
   "cell_type": "code",
   "execution_count": 25,
   "id": "6f568c8b-3a6a-4c15-8b81-f978921e9fa6",
   "metadata": {},
   "outputs": [
    {
     "name": "stdout",
     "output_type": "stream",
     "text": [
      "['name', 'email', 'phone_number']\n",
      "['prakash', 'prakash@gmail.com', '7787877894']\n",
      "['Singh', 'singh@gmail.com', '8897544569']\n",
      "['Raj', 'raj@gmail.com', '9887784558']\n"
     ]
    }
   ],
   "source": [
    "with open(\"data.csv\",\"r\") as d:\n",
    "    read_data = csv.reader(d)\n",
    "    for i in read_data:\n",
    "        print(i)"
   ]
  },
  {
   "cell_type": "code",
   "execution_count": null,
   "id": "65905642-c821-4aca-8601-a6df079bd2a8",
   "metadata": {},
   "outputs": [],
   "source": []
  },
  {
   "cell_type": "markdown",
   "id": "794e3364-cdd7-4658-8af0-9ff2e3ffd006",
   "metadata": {},
   "source": [
    "#### Binary"
   ]
  },
  {
   "cell_type": "code",
   "execution_count": 8,
   "id": "9812b875-3a7e-4ffa-a6e5-ad3d0302b23c",
   "metadata": {},
   "outputs": [],
   "source": [
    "## creation\n",
    "with open(\"test4.bin\",\"wb\") as f:\n",
    "    f.write(b\"\\x01\\x02\")"
   ]
  },
  {
   "cell_type": "code",
   "execution_count": 10,
   "id": "0b3e14ee-7dd7-4577-86bb-c3ba92786f9e",
   "metadata": {},
   "outputs": [
    {
     "name": "stdout",
     "output_type": "stream",
     "text": [
      "b'\\x01\\x02'\n"
     ]
    }
   ],
   "source": [
    "## raeading the file\n",
    "with open(\"test4.bin\",\"rb\") as f:\n",
    "    print(f.read())"
   ]
  },
  {
   "cell_type": "markdown",
   "id": "71db6ed7-4dc0-49ec-951f-4025dec5d309",
   "metadata": {},
   "source": [
    "### Buffered Read and write"
   ]
  },
  {
   "cell_type": "code",
   "execution_count": 22,
   "id": "282b7e89-23db-4b8a-88a8-911dc78025f5",
   "metadata": {},
   "outputs": [],
   "source": [
    "# import input output\n",
    "import io"
   ]
  },
  {
   "cell_type": "code",
   "execution_count": 27,
   "id": "c6a93a00-b9f3-4cad-9b40-3378ba1cbca7",
   "metadata": {},
   "outputs": [],
   "source": [
    "with open(\"test1.txt\",\"wb\") as f:\n",
    "    file = io.BufferedWriter(f)\n",
    "    file.write(b\"This is the standard way of constructing a new DataFrahe one you are most likely to encounter.\")\n",
    "    file.write(b\"file.writeThis is the standard way of constructing a new DataFrahe one you are most likely to encounter.\")\n",
    "    file.flush()## to make the writen statements show in file"
   ]
  },
  {
   "cell_type": "code",
   "execution_count": 33,
   "id": "d3eac6a5-2b4e-4385-81d9-42bffd37befc",
   "metadata": {},
   "outputs": [
    {
     "name": "stdout",
     "output_type": "stream",
     "text": [
      "b'This is the standard way of constructing a new DataFrahe one you are most likely to encounter.file.w'\n"
     ]
    }
   ],
   "source": [
    "with open(\"test1.txt\",\"rb\") as f:\n",
    "    file = io.BufferedReader(f)\n",
    "    data = file.read(100)\n",
    "    print(data)"
   ]
  },
  {
   "cell_type": "code",
   "execution_count": null,
   "id": "1b35a597-4e64-4f1c-8433-84835e1bb015",
   "metadata": {},
   "outputs": [],
   "source": []
  },
  {
   "cell_type": "code",
   "execution_count": null,
   "id": "3838f363-d138-406d-88a1-ac835fc5d17f",
   "metadata": {},
   "outputs": [],
   "source": []
  },
  {
   "cell_type": "code",
   "execution_count": null,
   "id": "0c941278-f3d0-4e37-ac5c-875a2642af48",
   "metadata": {},
   "outputs": [],
   "source": []
  }
 ],
 "metadata": {
  "kernelspec": {
   "display_name": "Python 3 (ipykernel)",
   "language": "python",
   "name": "python3"
  },
  "language_info": {
   "codemirror_mode": {
    "name": "ipython",
    "version": 3
   },
   "file_extension": ".py",
   "mimetype": "text/x-python",
   "name": "python",
   "nbconvert_exporter": "python",
   "pygments_lexer": "ipython3",
   "version": "3.10.8"
  }
 },
 "nbformat": 4,
 "nbformat_minor": 5
}
