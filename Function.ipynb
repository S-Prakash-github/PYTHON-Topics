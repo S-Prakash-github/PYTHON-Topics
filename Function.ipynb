{
 "cells": [
  {
   "cell_type": "markdown",
   "id": "f3aa50c9-8867-41ba-9b45-5cff282d9c6f",
   "metadata": {},
   "source": [
    "#### DEF FUNCTION"
   ]
  },
  {
   "cell_type": "code",
   "execution_count": 27,
   "id": "af946ef9-267f-4469-ac16-8f7ef46648b1",
   "metadata": {},
   "outputs": [
    {
     "name": "stdout",
     "output_type": "stream",
     "text": [
      "[1, 2, 3, 4, 5, 'True']\n"
     ]
    }
   ],
   "source": [
    "## five i=only int and sttr values in a list\n",
    "def tes(l):\n",
    "    l1 = []\n",
    "    for i in l:\n",
    "        if type(i) == int or type(i) == str:\n",
    "            l1.append(i)\n",
    "    print(l1)\n",
    "    \n",
    "\n",
    "tes([1,2,3,4,5,\"True\", True])"
   ]
  },
  {
   "cell_type": "code",
   "execution_count": 11,
   "id": "58bfbb65-a97a-49a6-95a2-3a7cc39ce6d3",
   "metadata": {},
   "outputs": [
    {
     "name": "stdout",
     "output_type": "stream",
     "text": [
      "[1, 2, 3, 4, 5, 'True', True]\n"
     ]
    }
   ],
   "source": [
    "# extracting data from the list inside a list and append the values extracted into a list\n",
    "\n",
    "def test(l):\n",
    "    l1 = []\n",
    "    for i in l:\n",
    "        if type(i) == list :\n",
    "            for j in i:\n",
    "                l1.append(j)\n",
    "   \n",
    "        else:\n",
    "            if type(i) == int or type(i) == str:\n",
    "                l1.append(i)\n",
    "       \n",
    "    print(l1)\n",
    "    \n",
    "    \n",
    "test([1,2,3,4,5,[\"True\", True],(1,2,3,4)])"
   ]
  },
  {
   "cell_type": "code",
   "execution_count": 18,
   "id": "7affe561-ea6a-4a9b-836e-3c448d7546ed",
   "metadata": {},
   "outputs": [
    {
     "name": "stdout",
     "output_type": "stream",
     "text": [
      "[1, 2, 3, 4, 5, 'True', True]\n"
     ]
    }
   ],
   "source": [
    "# Create a Doctsting for a function -\n",
    "# docsting basically shows the info about the function \n",
    "## info should be written in double quotes and inside the function \n",
    "def test1(l):\n",
    "    \"\"\"This is a function to extract elements inside a list as well as list inside the list\"\"\"\n",
    "    l1 = []\n",
    "    for i in l:\n",
    "        if type(i) == list :\n",
    "            for j in i:\n",
    "                l1.append(j)\n",
    "   \n",
    "        else:\n",
    "            if type(i) == int or type(i) == str:\n",
    "                l1.append(i)\n",
    "       \n",
    "    print(l1)\n",
    "    \n",
    "    \n",
    "test1([1,2,3,4,5,[\"True\", True],(1,2,3,4)])\n"
   ]
  },
  {
   "cell_type": "markdown",
   "id": "3c54fbcf-4f3c-44f0-b291-ef5bd3a66c5d",
   "metadata": {},
   "source": [
    "##### args\n",
    ">The special syntax *args in function definitions in python is used to pass a variable number of arguments to a function. It is used to pass a non-key\n",
    "worded, variable-length argument list."
   ]
  },
  {
   "cell_type": "code",
   "execution_count": 37,
   "id": "bb3a69be-6e4c-4c5c-8289-622a75a39c69",
   "metadata": {},
   "outputs": [
    {
     "data": {
      "text/plain": [
       "('Prakash', 1, 2, 5, 6, 8, 9, 4, 5, 9)"
      ]
     },
     "execution_count": 37,
     "metadata": {},
     "output_type": "execute_result"
    }
   ],
   "source": [
    "def args(*args):\n",
    "    return args\n",
    "args(\"Prakash\",1,2,5,6,8,9,4,5,9) ## Values are kept in form of a tuple\n"
   ]
  },
  {
   "cell_type": "code",
   "execution_count": 25,
   "id": "289dfe5e-e7d3-4ac1-992e-de3e7a51194d",
   "metadata": {},
   "outputs": [
    {
     "data": {
      "text/plain": [
       "(5, 6, 8, 7, 9)"
      ]
     },
     "execution_count": 25,
     "metadata": {},
     "output_type": "execute_result"
    }
   ],
   "source": [
    "## args is a convection we can take any variable inplace of args but * should be present\n",
    "\n",
    "def args1(*Prakash):\n",
    "    return Prakash\n",
    "args1(5,6,8,7,9)"
   ]
  },
  {
   "cell_type": "code",
   "execution_count": 26,
   "id": "f424d835-3fb2-4872-af35-dc92dabf48d6",
   "metadata": {},
   "outputs": [
    {
     "data": {
      "text/plain": [
       "((1, 2, 3, 4, 5, 6, 8), 9)"
      ]
     },
     "execution_count": 26,
     "metadata": {},
     "output_type": "execute_result"
    }
   ],
   "source": [
    "# to assign a function  with function(x,y) where x is *args(multiple input) and x will take single input\n",
    "def test5(*args , x):\n",
    "    return (args , x)\n",
    "\n",
    "test5(1,2,3,4,5,6,8, x = 9) ## Here we will assign the variable x with = operator "
   ]
  },
  {
   "cell_type": "code",
   "execution_count": 33,
   "id": "18a4904a-61f3-4ffc-8c80-cbac10523457",
   "metadata": {},
   "outputs": [
    {
     "data": {
      "text/plain": [
       "(9, 65, 4, 5)"
      ]
     },
     "execution_count": 33,
     "metadata": {},
     "output_type": "execute_result"
    }
   ],
   "source": [
    "## Default values\n",
    "def test6(c,d,a=9,b=65):\n",
    "    return(a,b,c,d)\n",
    "test6(4,5)"
   ]
  },
  {
   "cell_type": "code",
   "execution_count": 34,
   "id": "e8e024eb-730e-4cfb-9833-61eac23021e3",
   "metadata": {},
   "outputs": [
    {
     "data": {
      "text/plain": [
       "(0, 65, 7, 8)"
      ]
     },
     "execution_count": 34,
     "metadata": {},
     "output_type": "execute_result"
    }
   ],
   "source": [
    "# overriding ddefault values\n",
    "test6(7,8,a=0)"
   ]
  },
  {
   "cell_type": "markdown",
   "id": "d1b99e7c-b67b-448a-8090-7c0c02a58f09",
   "metadata": {},
   "source": [
    "##### kargs"
   ]
  },
  {
   "cell_type": "markdown",
   "id": "7cf467d9-bf65-46b6-b84a-63ca1ba61a96",
   "metadata": {},
   "source": [
    ">The special syntax **kwargs in function definitions in python is used to pass a keyworded, variable-length argument list. We use the name kwargs with the double star."
   ]
  },
  {
   "cell_type": "code",
   "execution_count": 39,
   "id": "2f8ff5e3-bda9-427c-89b4-15533f83f7e7",
   "metadata": {},
   "outputs": [
    {
     "data": {
      "text/plain": [
       "{}"
      ]
     },
     "execution_count": 39,
     "metadata": {},
     "output_type": "execute_result"
    }
   ],
   "source": [
    "def kwargs(**kwargs):\n",
    "    return kwargs\n",
    "kwargs() ## it returns a dictionary"
   ]
  },
  {
   "cell_type": "code",
   "execution_count": 41,
   "id": "eef2dd78-23ee-4734-a2fd-a22f284f0afb",
   "metadata": {},
   "outputs": [
    {
     "data": {
      "text/plain": [
       "{'name': 'prakash', 'b': 'singh', 'c': ' data science'}"
      ]
     },
     "execution_count": 41,
     "metadata": {},
     "output_type": "execute_result"
    }
   ],
   "source": [
    "## input should be in key value pair format\n",
    "kwargs(name = \"prakash\",b = \"singh\", c =\" data science\")"
   ]
  },
  {
   "cell_type": "markdown",
   "id": "cc4a0568-07a9-4aae-9daf-badb4a0858af",
   "metadata": {},
   "source": [
    "#### Genatrator function\n",
    ">Generator functions provide a powerful alternative: they allow you to define an iterative algorithm by writing a single function whose execution is not continuous."
   ]
  },
  {
   "cell_type": "code",
   "execution_count": 43,
   "id": "e94e6602-5dbb-4f99-a5db-caf2b4261924",
   "metadata": {},
   "outputs": [],
   "source": [
    "def test_fib(n):\n",
    "    a,b= 0,1\n",
    "    for i in range (n):\n",
    "        yield a\n",
    "        a,b = b, a+b"
   ]
  },
  {
   "cell_type": "code",
   "execution_count": 44,
   "id": "4ee50f00-bb92-454d-ad1c-39379fedc6da",
   "metadata": {},
   "outputs": [
    {
     "data": {
      "text/plain": [
       "<generator object test_fib at 0x7fa90a974430>"
      ]
     },
     "execution_count": 44,
     "metadata": {},
     "output_type": "execute_result"
    }
   ],
   "source": [
    "test_fib(10)"
   ]
  },
  {
   "cell_type": "code",
   "execution_count": 46,
   "id": "818c4485-ff0c-48a5-93d5-2bde1e97a22a",
   "metadata": {},
   "outputs": [
    {
     "name": "stdout",
     "output_type": "stream",
     "text": [
      "0\n",
      "1\n",
      "1\n",
      "2\n",
      "3\n",
      "5\n",
      "8\n",
      "13\n",
      "21\n",
      "34\n"
     ]
    }
   ],
   "source": [
    "for i in test_fib(10):\n",
    "    print(i)"
   ]
  },
  {
   "cell_type": "code",
   "execution_count": 2,
   "id": "80b2b0f1-ccec-4e15-8e02-93c131c94f83",
   "metadata": {},
   "outputs": [],
   "source": [
    "def test_fibw():\n",
    "    a,b= 0,1\n",
    "    while True:\n",
    "        yield a\n",
    "        a,b = b, a+b"
   ]
  },
  {
   "cell_type": "code",
   "execution_count": 3,
   "id": "c76b6cc7-65ce-4486-9efc-9c2f02b3bc42",
   "metadata": {},
   "outputs": [],
   "source": [
    "fib = test_fibw()"
   ]
  },
  {
   "cell_type": "code",
   "execution_count": 4,
   "id": "5faf0ae3-3192-4ddf-bcbe-8858c44c3891",
   "metadata": {},
   "outputs": [
    {
     "name": "stdout",
     "output_type": "stream",
     "text": [
      "0\n",
      "1\n",
      "1\n",
      "2\n",
      "3\n",
      "5\n",
      "8\n",
      "13\n",
      "21\n",
      "34\n"
     ]
    }
   ],
   "source": [
    "for i in range(10):\n",
    "    print(next(fib))"
   ]
  },
  {
   "cell_type": "code",
   "execution_count": 7,
   "id": "1ece0f3c-9268-431a-80ff-e56a958d2f7c",
   "metadata": {},
   "outputs": [
    {
     "name": "stdout",
     "output_type": "stream",
     "text": [
      "p\n",
      "r\n",
      "a\n",
      "k\n",
      "a\n",
      "s\n",
      "h\n"
     ]
    }
   ],
   "source": [
    "\n",
    "string = \"prakash\"\n",
    "for i in string:\n",
    "    print(i)"
   ]
  },
  {
   "cell_type": "code",
   "execution_count": 8,
   "id": "3d7f96ad-4af9-4370-ab6e-e5c57a81d156",
   "metadata": {},
   "outputs": [
    {
     "ename": "NameError",
     "evalue": "name 'p' is not defined",
     "output_type": "error",
     "traceback": [
      "\u001b[0;31m---------------------------------------------------------------------------\u001b[0m",
      "\u001b[0;31mNameError\u001b[0m                                 Traceback (most recent call last)",
      "Cell \u001b[0;32mIn[8], line 1\u001b[0m\n\u001b[0;32m----> 1\u001b[0m \u001b[38;5;28mnext\u001b[39m(\u001b[43mp\u001b[49m)\n",
      "\u001b[0;31mNameError\u001b[0m: name 'p' is not defined"
     ]
    }
   ],
   "source": [
    "## string is not a object which can be iterated by next i.e string != iterator\n",
    "next(p)"
   ]
  },
  {
   "cell_type": "code",
   "execution_count": 10,
   "id": "26c8862d-aec0-41fb-bc3d-68ef3988c28f",
   "metadata": {},
   "outputs": [
    {
     "data": {
      "text/plain": [
       "'prakash'"
      ]
     },
     "execution_count": 10,
     "metadata": {},
     "output_type": "execute_result"
    }
   ],
   "source": [
    "string"
   ]
  },
  {
   "cell_type": "code",
   "execution_count": 11,
   "id": "d5f58fe8-11d4-425d-82c3-6bcc504e2d6c",
   "metadata": {},
   "outputs": [
    {
     "data": {
      "text/plain": [
       "'p'"
      ]
     },
     "execution_count": 11,
     "metadata": {},
     "output_type": "execute_result"
    }
   ],
   "source": [
    "s1 = iter(string)\n",
    "next(s1)"
   ]
  },
  {
   "cell_type": "code",
   "execution_count": 12,
   "id": "20bde589-aead-48c0-9a33-a816f345093f",
   "metadata": {},
   "outputs": [
    {
     "data": {
      "text/plain": [
       "'r'"
      ]
     },
     "execution_count": 12,
     "metadata": {},
     "output_type": "execute_result"
    }
   ],
   "source": [
    "next(s1)"
   ]
  },
  {
   "cell_type": "code",
   "execution_count": 13,
   "id": "035620d2-b9a1-408e-9d3d-50d5c9e6f454",
   "metadata": {},
   "outputs": [
    {
     "data": {
      "text/plain": [
       "'a'"
      ]
     },
     "execution_count": 13,
     "metadata": {},
     "output_type": "execute_result"
    }
   ],
   "source": [
    "next(s1)"
   ]
  },
  {
   "cell_type": "code",
   "execution_count": 14,
   "id": "b15d332f-d58a-448b-9e7d-e69fc07c8ce1",
   "metadata": {},
   "outputs": [
    {
     "data": {
      "text/plain": [
       "'k'"
      ]
     },
     "execution_count": 14,
     "metadata": {},
     "output_type": "execute_result"
    }
   ],
   "source": [
    "next(s1)"
   ]
  },
  {
   "cell_type": "markdown",
   "id": "731b5c0d-95bd-4d98-9e12-737a766ecd69",
   "metadata": {},
   "source": [
    "> iterable object (str,list,tuple...)can be iterated so it can be converted into with the help of iter function\n",
    "\n",
    "> generator extracts data one by one "
   ]
  },
  {
   "cell_type": "code",
   "execution_count": 8,
   "id": "13e531c1-13a5-4879-948f-1501b292b2ba",
   "metadata": {},
   "outputs": [],
   "source": [
    "def count_test(n):\n",
    "    count = 1\n",
    "    while count< n:\n",
    "        yield count\n",
    "        count = count +1 "
   ]
  },
  {
   "cell_type": "code",
   "execution_count": 9,
   "id": "c4868989-510a-422b-a162-f54e63e172d8",
   "metadata": {},
   "outputs": [],
   "source": [
    "c = count_test(5)"
   ]
  },
  {
   "cell_type": "code",
   "execution_count": 10,
   "id": "1cb764d6-843f-46d0-b8b3-b015d8b2c20b",
   "metadata": {},
   "outputs": [
    {
     "name": "stdout",
     "output_type": "stream",
     "text": [
      "1\n",
      "2\n",
      "3\n",
      "4\n"
     ]
    }
   ],
   "source": [
    "for i in c:\n",
    "    print(i)"
   ]
  },
  {
   "cell_type": "markdown",
   "id": "fc208c72-caf1-468d-9e95-bbf733f5792e",
   "metadata": {},
   "source": [
    "#### Lamda Function"
   ]
  },
  {
   "cell_type": "code",
   "execution_count": 29,
   "id": "ca627d23-6fdf-4abb-be8a-914ee92f3e5c",
   "metadata": {},
   "outputs": [
    {
     "data": {
      "text/plain": [
       "9"
      ]
     },
     "execution_count": 29,
     "metadata": {},
     "output_type": "execute_result"
    }
   ],
   "source": [
    "## Power using def\n",
    "def power(a,b):\n",
    "    return(a**b)\n",
    "power(3,2)"
   ]
  },
  {
   "cell_type": "code",
   "execution_count": 21,
   "id": "13633bb4-48ba-4776-828a-51d8b0a52224",
   "metadata": {},
   "outputs": [],
   "source": [
    "## power of a number \n",
    "# creating lambda function and assigning it to a variable\n",
    "a = lambda n , p : n**p"
   ]
  },
  {
   "cell_type": "code",
   "execution_count": 22,
   "id": "fbb7002f-15f1-410e-acf4-cd864d6b259c",
   "metadata": {},
   "outputs": [
    {
     "data": {
      "text/plain": [
       "9"
      ]
     },
     "execution_count": 22,
     "metadata": {},
     "output_type": "execute_result"
    }
   ],
   "source": [
    "a(3,2)"
   ]
  },
  {
   "cell_type": "code",
   "execution_count": 28,
   "id": "67608937-8c4e-47eb-a234-fccf7ced69cb",
   "metadata": {},
   "outputs": [
    {
     "data": {
      "text/plain": [
       "60"
      ]
     },
     "execution_count": 28,
     "metadata": {},
     "output_type": "execute_result"
    }
   ],
   "source": [
    "## add\n",
    "add= lambda b,c : b+c\n",
    "add(55,5)"
   ]
  },
  {
   "cell_type": "code",
   "execution_count": 30,
   "id": "ffad8715-2787-4d38-b287-4864e2604e06",
   "metadata": {},
   "outputs": [
    {
     "data": {
      "text/plain": [
       "113.0"
      ]
     },
     "execution_count": 30,
     "metadata": {},
     "output_type": "execute_result"
    }
   ],
   "source": [
    "## celcius to farenhite\n",
    "c_to_f = lambda c : (9/5)* c +32\n",
    "c_to_f(45)"
   ]
  },
  {
   "cell_type": "code",
   "execution_count": 36,
   "id": "265d0f52-47ca-4e7e-b9fe-1889f7373473",
   "metadata": {},
   "outputs": [],
   "source": [
    "## Maximum of two numbers\n",
    "\n",
    "find_max = lambda a,b : a if a>b   else b"
   ]
  },
  {
   "cell_type": "code",
   "execution_count": 37,
   "id": "f24ec533-a660-49c8-a68b-f326365ac5b4",
   "metadata": {},
   "outputs": [
    {
     "data": {
      "text/plain": [
       "44"
      ]
     },
     "execution_count": 37,
     "metadata": {},
     "output_type": "execute_result"
    }
   ],
   "source": [
    "find_max(34,44)"
   ]
  },
  {
   "cell_type": "code",
   "execution_count": 39,
   "id": "d231c437-f3e6-47ee-bc15-3d35cd33f482",
   "metadata": {},
   "outputs": [
    {
     "data": {
      "text/plain": [
       "7"
      ]
     },
     "execution_count": 39,
     "metadata": {},
     "output_type": "execute_result"
    }
   ],
   "source": [
    "## lambda function to return length of a string\n",
    "len_str = lambda a : len(a)\n",
    "len_str (\"prakash\")"
   ]
  },
  {
   "cell_type": "markdown",
   "id": "8fca0fe1-c168-4351-be77-83eabdcbc24e",
   "metadata": {},
   "source": [
    "#### Map Reduce and Filter Function"
   ]
  },
  {
   "cell_type": "markdown",
   "id": "3255157d-547d-498c-8d04-0b67571af715",
   "metadata": {},
   "source": [
    "###### MAP"
   ]
  },
  {
   "cell_type": "code",
   "execution_count": 59,
   "id": "1eff5ab6-d293-4443-ba05-da5aabfad5ec",
   "metadata": {},
   "outputs": [],
   "source": [
    "## square using def and map\n",
    "l=[1, 2, 3, 4, 5, 6, 7, 8, 9, 10]\n",
    "def sqr(i):\n",
    "    return (i**2)"
   ]
  },
  {
   "cell_type": "code",
   "execution_count": 60,
   "id": "9019444c-e32e-4f24-b2e2-b01f0c433165",
   "metadata": {},
   "outputs": [
    {
     "data": {
      "text/plain": [
       "[1, 4, 9, 16, 25, 36, 49, 64, 81, 100]"
      ]
     },
     "execution_count": 60,
     "metadata": {},
     "output_type": "execute_result"
    }
   ],
   "source": [
    "list(map(sqr,l))"
   ]
  },
  {
   "cell_type": "code",
   "execution_count": 62,
   "id": "b5dffe28-985c-44a7-afb9-32a95ddf59e8",
   "metadata": {},
   "outputs": [
    {
     "data": {
      "text/plain": [
       "[1, 4, 9, 16, 25, 36, 49, 64, 81, 100]"
      ]
     },
     "execution_count": 62,
     "metadata": {},
     "output_type": "execute_result"
    }
   ],
   "source": [
    "## square using lambda and map\n",
    "a = lambda i : i **2\n",
    "list(map(a,l))"
   ]
  },
  {
   "cell_type": "code",
   "execution_count": 64,
   "id": "286e8e1a-a2fc-428d-9ba2-d63c6ca127ef",
   "metadata": {},
   "outputs": [
    {
     "data": {
      "text/plain": [
       "[1, 4, 9, 16, 25, 36, 49, 64, 81, 100]"
      ]
     },
     "execution_count": 64,
     "metadata": {},
     "output_type": "execute_result"
    }
   ],
   "source": [
    "list(map((lambda i : i**2) , l))"
   ]
  },
  {
   "cell_type": "code",
   "execution_count": 65,
   "id": "e20680b5-4915-491a-b733-843bd0c66dab",
   "metadata": {},
   "outputs": [
    {
     "data": {
      "text/plain": [
       "[7, 9, 11, 13, 15]"
      ]
     },
     "execution_count": 65,
     "metadata": {},
     "output_type": "execute_result"
    }
   ],
   "source": [
    "## sum of two list\n",
    "\n",
    "## using lambda and map\n",
    "l1 = [ 1,2,3,4,5]\n",
    "l2 = [6,7,8,9,10]\n",
    "list(map(lambda x,y: x+y ,l1,l2 ))"
   ]
  },
  {
   "cell_type": "code",
   "execution_count": 66,
   "id": "d05c5faf-199f-457d-a156-df1c95dfe8ee",
   "metadata": {},
   "outputs": [
    {
     "data": {
      "text/plain": [
       "[7, 9, 11, 13, 15]"
      ]
     },
     "execution_count": 66,
     "metadata": {},
     "output_type": "execute_result"
    }
   ],
   "source": [
    "## using def and map\n",
    "def add(a,b):\n",
    "    return a+b\n",
    "list(map(add,l1,l2))"
   ]
  },
  {
   "cell_type": "code",
   "execution_count": 71,
   "id": "b66c3238-5bd1-484e-8bca-728eeedc2864",
   "metadata": {},
   "outputs": [
    {
     "data": {
      "text/plain": [
       "['P', 'R', 'A', 'K', 'A', 'S', 'H']"
      ]
     },
     "execution_count": 71,
     "metadata": {},
     "output_type": "execute_result"
    }
   ],
   "source": [
    "## chnaging string into upper case\n",
    "string = \"Prakash\"\n",
    "list(map( lambda x : x.upper() , string))"
   ]
  },
  {
   "cell_type": "code",
   "execution_count": null,
   "id": "7d81b420-3ecb-4890-bed7-72e59e86465d",
   "metadata": {},
   "outputs": [],
   "source": []
  },
  {
   "cell_type": "markdown",
   "id": "e519c9dc-cbfe-482d-a675-965112225f9a",
   "metadata": {},
   "source": [
    "###### Reduce"
   ]
  },
  {
   "cell_type": "code",
   "execution_count": 73,
   "id": "446ba87f-ebc0-4339-8f6b-681f13c3544b",
   "metadata": {},
   "outputs": [],
   "source": [
    "from functools import reduce"
   ]
  },
  {
   "cell_type": "code",
   "execution_count": 74,
   "id": "e2c7386c-f5ce-4594-9fb6-388ca30152d7",
   "metadata": {},
   "outputs": [
    {
     "data": {
      "text/plain": [
       "55"
      ]
     },
     "execution_count": 74,
     "metadata": {},
     "output_type": "execute_result"
    }
   ],
   "source": [
    "## sum of all elements in a list\n",
    "\n",
    "## number of arguments inside a reduce function cannot exceed 2\n",
    "l = [1, 2, 3, 4, 5, 6, 7, 8, 9, 10]\n",
    "reduce(lambda x,y : x+y ,l)"
   ]
  },
  {
   "cell_type": "code",
   "execution_count": 75,
   "id": "9df52db3-c065-4b5f-80ac-4f48e7767fb3",
   "metadata": {},
   "outputs": [
    {
     "data": {
      "text/plain": [
       "1"
      ]
     },
     "execution_count": 75,
     "metadata": {},
     "output_type": "execute_result"
    }
   ],
   "source": [
    "## it can have two arguments and an argument 1\n",
    "reduce(lambda x,y : x+y ,[1])"
   ]
  },
  {
   "cell_type": "code",
   "execution_count": 78,
   "id": "e5e81b48-6c6a-4899-8a32-2d7af3669096",
   "metadata": {},
   "outputs": [
    {
     "data": {
      "text/plain": [
       "3628800"
      ]
     },
     "execution_count": 78,
     "metadata": {},
     "output_type": "execute_result"
    }
   ],
   "source": [
    "## multuplication of entire list\n",
    "reduce(lambda x , y : x * y , l)"
   ]
  },
  {
   "cell_type": "code",
   "execution_count": 79,
   "id": "97ae5c64-3272-4772-9e1b-51f9e1a36860",
   "metadata": {},
   "outputs": [
    {
     "data": {
      "text/plain": [
       "10"
      ]
     },
     "execution_count": 79,
     "metadata": {},
     "output_type": "execute_result"
    }
   ],
   "source": [
    "## maximum number\n",
    "reduce(lambda x,y : x if x > y  else y ,l)"
   ]
  },
  {
   "cell_type": "markdown",
   "id": "81018a04-efca-43c4-adfb-c242b54ad43d",
   "metadata": {},
   "source": [
    "###### Filter"
   ]
  },
  {
   "cell_type": "code",
   "execution_count": 80,
   "id": "277433bf-e783-402e-889c-c36064fdbca6",
   "metadata": {},
   "outputs": [
    {
     "data": {
      "text/plain": [
       "[2, 4, 6, 8, 10]"
      ]
     },
     "execution_count": 80,
     "metadata": {},
     "output_type": "execute_result"
    }
   ],
   "source": [
    "## Even number\n",
    "list(filter(lambda x : x%2 == 0, l))"
   ]
  },
  {
   "cell_type": "code",
   "execution_count": 81,
   "id": "d77185bd-57a4-4434-888f-ee9b6ecd7be7",
   "metadata": {},
   "outputs": [
    {
     "data": {
      "text/plain": [
       "[1, 3, 5, 7, 9]"
      ]
     },
     "execution_count": 81,
     "metadata": {},
     "output_type": "execute_result"
    }
   ],
   "source": [
    "## odd number\n",
    "list(filter(lambda x : x%2 != 0, l))"
   ]
  },
  {
   "cell_type": "code",
   "execution_count": 82,
   "id": "c93d35d8-a13c-4543-866c-48142eed7817",
   "metadata": {},
   "outputs": [
    {
     "data": {
      "text/plain": [
       "[-1, -8, -9]"
      ]
     },
     "execution_count": 82,
     "metadata": {},
     "output_type": "execute_result"
    }
   ],
   "source": [
    "li = [1,-1,4,-8,1,9,-9]\n",
    "list(filter(lambda i : i<0,li))"
   ]
  },
  {
   "cell_type": "code",
   "execution_count": 85,
   "id": "b7c587b3-73f2-4151-b421-f74939e3f839",
   "metadata": {},
   "outputs": [
    {
     "data": {
      "text/plain": [
       "['Prakash', 'Datascience']"
      ]
     },
     "execution_count": 85,
     "metadata": {},
     "output_type": "execute_result"
    }
   ],
   "source": [
    "li1 = [\"Prakash\",\"Singh\",\"Datascience\"]\n",
    "list(filter(lambda x : len(x) > 6 , li1))"
   ]
  },
  {
   "cell_type": "code",
   "execution_count": null,
   "id": "35e263a4-0861-4352-ba2d-39b75f2f9b09",
   "metadata": {},
   "outputs": [],
   "source": []
  }
 ],
 "metadata": {
  "kernelspec": {
   "display_name": "Python 3 (ipykernel)",
   "language": "python",
   "name": "python3"
  },
  "language_info": {
   "codemirror_mode": {
    "name": "ipython",
    "version": 3
   },
   "file_extension": ".py",
   "mimetype": "text/x-python",
   "name": "python",
   "nbconvert_exporter": "python",
   "pygments_lexer": "ipython3",
   "version": "3.10.8"
  }
 },
 "nbformat": 4,
 "nbformat_minor": 5
}
