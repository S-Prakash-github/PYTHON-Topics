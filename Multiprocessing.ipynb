{
 "cells": [
  {
   "cell_type": "markdown",
   "id": "bd2079ce-30c3-4d9d-a0b3-87b370c296fe",
   "metadata": {},
   "source": [
    "Multiprocessing with Process"
   ]
  },
  {
   "cell_type": "code",
   "execution_count": 5,
   "id": "6a925920-e2ca-471e-8feb-437ed5ecb207",
   "metadata": {},
   "outputs": [
    {
     "name": "stdout",
     "output_type": "stream",
     "text": [
      "this is my main program\n",
      "This is a multiprocessing program\n"
     ]
    }
   ],
   "source": [
    "## calling the function with the main method\n",
    "import multiprocessing\n",
    "def test():\n",
    "    print(\"This is a multiprocessing program\")\n",
    "\n",
    "if __name__ == '__main__':\n",
    "    ## child process\n",
    "    ## process method is one of the way to run program in different processor\n",
    "    m = multiprocessing.Process(target = test)\n",
    "    print(\"this is my main program\")\n",
    "    \n",
    "    m.start()\n",
    "    m.join()"
   ]
  },
  {
   "cell_type": "code",
   "execution_count": null,
   "id": "bf4b5a3f-9142-4402-b19b-b75f3ba57728",
   "metadata": {},
   "outputs": [],
   "source": []
  },
  {
   "cell_type": "markdown",
   "id": "678eae7f-9f8b-47b1-8c9a-1c878965f25c",
   "metadata": {},
   "source": [
    "Multiprocessing with Pool"
   ]
  },
  {
   "cell_type": "code",
   "execution_count": 9,
   "id": "3890f51f-ca17-43f8-b3a2-a5b058dccd7f",
   "metadata": {},
   "outputs": [
    {
     "name": "stdout",
     "output_type": "stream",
     "text": [
      "[1, 4, 9, 16, 25, 36, 49, 64, 81]\n"
     ]
    }
   ],
   "source": [
    "def square(n):\n",
    "    return n**2\n",
    "if __name__ == '__main__':\n",
    "    ## pool returns objects in a bulk (here we can define how many process to run for the data input)\n",
    "    ## porcesses = 4 means this program will be executed with 4 processors\n",
    "    with multiprocessing.Pool(processes = 4) as pool:\n",
    "        out = pool.map(square,[1,2,3,4,5,6,7,8,9])\n",
    "        print(out)"
   ]
  },
  {
   "cell_type": "code",
   "execution_count": null,
   "id": "95017971-cd96-448d-9ab2-ba2dd9c1579b",
   "metadata": {},
   "outputs": [],
   "source": []
  },
  {
   "cell_type": "markdown",
   "id": "161af773-20be-46d7-b334-293c92fc1e66",
   "metadata": {},
   "source": [
    "Multiprocessing with Queue"
   ]
  },
  {
   "cell_type": "code",
   "execution_count": 2,
   "id": "7b9f94a6-3432-4eb8-8d55-94f4185bc986",
   "metadata": {},
   "outputs": [],
   "source": [
    "## this helps in dividing the inputs and outputs into different processors and thus making the progeram faster.\n",
    "\n",
    "## funtion to input the data\n",
    "import multiprocessing\n",
    "def producer(q):\n",
    "    for i in range(10):\n",
    "        q.put(i)\n",
    "\n",
    "## funtion to extract the data        \n",
    "def consume(q):\n",
    "    while True:\n",
    "        item = q.get()\n",
    "        if item is None:\n",
    "            break\n",
    "        print(item)\n",
    "        \n",
    "if __name__ == '__menu__':\n",
    "    queue = multiprocesing.Queue()\n",
    "    \n",
    "    # this will make a processor which will  work on producing the data \n",
    "    m1 = multiprocessing.Process(target = producer, args = (queue,))\n",
    "    \n",
    "    # this will make a processor which will work on extracting the data\n",
    "    m2 = multiprocessing.Process(target = consumer, args = (queue,))\n",
    "    \n",
    "    m1.start()\n",
    "    m2.start()\n",
    "    queue.put(\"Prakash\")\n",
    "    m1.join()\n",
    "    m2.join()"
   ]
  },
  {
   "cell_type": "code",
   "execution_count": null,
   "id": "74921ba4-9af5-4236-be2d-11110b4d7c28",
   "metadata": {},
   "outputs": [],
   "source": [
    "def producer(q) :\n",
    "    for i in [\"Prakash\", \"kuamr\" , \"Singh\"]:\n",
    "        q.put(i)\n",
    "    \n",
    "def consume(q) :\n",
    "    while True : \n",
    "        item = q.get()\n",
    "        if item is None :\n",
    "            break\n",
    "        print(item)\n",
    "\n",
    "if __name__ == '__main__':\n",
    "    queue = multiprocessing.Queue()\n",
    "    m1 = multiprocessing.Process(target=producer , args= (queue,))\n",
    "    m2 = multiprocessing.Process(target=consume , args = (queue,))\n",
    "    m1.start()\n",
    "    m2.start()\n",
    "    queue.put(\"Prakash\" + \"Raj\")\n",
    "    m1.join()\n",
    "    m2.join()"
   ]
  },
  {
   "cell_type": "code",
   "execution_count": null,
   "id": "4b5aa4d6-6c71-4ec9-92ca-eff0196da48d",
   "metadata": {},
   "outputs": [],
   "source": [
    "## Multiprocesisg with array"
   ]
  },
  {
   "cell_type": "code",
   "execution_count": 4,
   "id": "c10524c1-d0df-4dbd-9101-fd0fcdc8c136",
   "metadata": {},
   "outputs": [
    {
     "name": "stdout",
     "output_type": "stream",
     "text": [
      "[1, 4, 16, 25, 36, 49, 81]\n"
     ]
    }
   ],
   "source": [
    "import multiprocessing\n",
    "def sq(index,value):\n",
    "    value[index] = value[index]**2\n",
    "    \n",
    "if __name__ == '__main__':\n",
    "    # it makes values that are shared to all the processor\n",
    "    array = multiprocessing.Array('i',[1,2,4,5,6,7,9])\n",
    "    process = []\n",
    "    for i in range(7):\n",
    "        m = multiprocessing.Process(target = sq,args = (i,array))\n",
    "        process.append(m)\n",
    "        m.start()\n",
    "    for m in process :\n",
    "        m.join()\n",
    "    print(list(array))   \n",
    "            \n",
    "    "
   ]
  },
  {
   "cell_type": "markdown",
   "id": "8b9646d7-5429-4b2d-87dd-869eaeb497fe",
   "metadata": {},
   "source": [
    "Multiprocessing with Pipe"
   ]
  },
  {
   "cell_type": "code",
   "execution_count": null,
   "id": "43f1f666-f37b-4323-8cf8-336f802cca98",
   "metadata": {},
   "outputs": [
    {
     "name": "stdout",
     "output_type": "stream",
     "text": [
      "My name is Prakash\n",
      "I want to become a Data Scientist\n",
      "My age is 21\n"
     ]
    }
   ],
   "source": [
    "import multiprocessing\n",
    "def sender(conn, msg):\n",
    "    for i in msg:\n",
    "        conn.send(i)\n",
    "\n",
    "def reciever(conn):\n",
    "    while True:\n",
    "        try:\n",
    "            msg  =conn.recv()\n",
    "        except exception as e:\n",
    "            print(e)\n",
    "        print(msg)\n",
    "    \n",
    "if __name__ == '__main__':\n",
    "    msg = [\"My name is Prakash\", \"I want to become a Data Scientist\", \"My age is 21\"]\n",
    "    parent_conn , child_conn = multiprocessing.Pipe()\n",
    "    m1 = multiprocessing.Process(target = sender, args = (child_conn,msg))\n",
    "                                \n",
    "    # reciever\n",
    "    m2 = multiprocessing.Process(target = reciever, args = (parent_conn,)) \n",
    "                                \n",
    "    m1.start()\n",
    "    m2.start()\n",
    "    \n",
    "    m1.join()\n",
    "    child_conn.close()\n",
    "                                \n",
    "    m2.join()\n",
    "    parent_conn.close()\n",
    "                                "
   ]
  },
  {
   "cell_type": "code",
   "execution_count": null,
   "id": "345adab3-2f9a-4061-b031-45cda31c13be",
   "metadata": {},
   "outputs": [],
   "source": []
  },
  {
   "cell_type": "code",
   "execution_count": null,
   "id": "d55b53d6-0f74-44d6-9e68-e996c74e825f",
   "metadata": {},
   "outputs": [],
   "source": []
  },
  {
   "cell_type": "code",
   "execution_count": null,
   "id": "ba2b94b8-c5d0-4f76-ae51-f10514d7188e",
   "metadata": {},
   "outputs": [],
   "source": []
  }
 ],
 "metadata": {
  "kernelspec": {
   "display_name": "Python 3 (ipykernel)",
   "language": "python",
   "name": "python3"
  },
  "language_info": {
   "codemirror_mode": {
    "name": "ipython",
    "version": 3
   },
   "file_extension": ".py",
   "mimetype": "text/x-python",
   "name": "python",
   "nbconvert_exporter": "python",
   "pygments_lexer": "ipython3",
   "version": "3.10.8"
  }
 },
 "nbformat": 4,
 "nbformat_minor": 5
}
