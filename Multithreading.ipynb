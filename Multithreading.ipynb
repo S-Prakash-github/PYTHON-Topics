{
 "cells": [
  {
   "cell_type": "code",
   "execution_count": 91,
   "id": "83eecd21-edb2-4b89-86bc-48c1c57e32b6",
   "metadata": {},
   "outputs": [],
   "source": [
    "# it is used so that every programs executes efficiently and execution of one program doesn't affect the working of another \n",
    "# so each iteration is divided into different threads\n",
    "import threading"
   ]
  },
  {
   "cell_type": "code",
   "execution_count": 18,
   "id": "4abc3f3d-f8ec-4709-8145-361f8a9f98af",
   "metadata": {},
   "outputs": [],
   "source": [
    "def test(id):\n",
    "    print(\"prog start %d\"% id)"
   ]
  },
  {
   "cell_type": "code",
   "execution_count": 19,
   "id": "88d14c33-3f09-40b9-aed0-b31282043209",
   "metadata": {},
   "outputs": [
    {
     "name": "stdout",
     "output_type": "stream",
     "text": [
      "prog start 45\n"
     ]
    }
   ],
   "source": [
    "test(45)"
   ]
  },
  {
   "cell_type": "code",
   "execution_count": 20,
   "id": "82191caa-1286-47cc-8eab-0412df95b7f4",
   "metadata": {},
   "outputs": [],
   "source": [
    "## creating a thread (here we will run the program 10 times)\n",
    "# range is from 0 to 9 for id (one progrqam is running with different inputs)\n",
    "thread = [threading.Thread(target =test , args= (i,)) for i in range(10)]"
   ]
  },
  {
   "cell_type": "code",
   "execution_count": 21,
   "id": "fcff2fdd-779d-40bc-9463-8e81f467ca0b",
   "metadata": {},
   "outputs": [
    {
     "name": "stdout",
     "output_type": "stream",
     "text": [
      "prog start 0\n",
      "prog start 1\n",
      "prog start 2\n",
      "prog start 3\n",
      "prog start 4\n",
      "prog start 5\n",
      "prog start 6\n",
      "prog start 7\n",
      "prog start 8\n",
      "prog start 9\n"
     ]
    }
   ],
   "source": [
    "## in one core it will be making multiple threads and execute each iteration in unique threads\n",
    "for t in thread:\n",
    "    t.start()"
   ]
  },
  {
   "cell_type": "code",
   "execution_count": 22,
   "id": "c96f9ccd-3058-418f-977e-4f97b612ce03",
   "metadata": {},
   "outputs": [
    {
     "data": {
      "text/plain": [
       "[<Thread(Thread-5 (test), stopped 140275214173760)>,\n",
       " <Thread(Thread-6 (test), stopped 140275214173760)>,\n",
       " <Thread(Thread-7 (test), stopped 140275214173760)>,\n",
       " <Thread(Thread-8 (test), stopped 140275214173760)>,\n",
       " <Thread(Thread-9 (test), stopped 140275214173760)>,\n",
       " <Thread(Thread-10 (test), stopped 140275214173760)>,\n",
       " <Thread(Thread-11 (test), stopped 140275214173760)>,\n",
       " <Thread(Thread-12 (test), stopped 140275214173760)>,\n",
       " <Thread(Thread-13 (test), stopped 140275214173760)>,\n",
       " <Thread(Thread-14 (test), stopped 140275214173760)>]"
      ]
     },
     "execution_count": 22,
     "metadata": {},
     "output_type": "execute_result"
    }
   ],
   "source": [
    "thread"
   ]
  },
  {
   "cell_type": "markdown",
   "id": "253cfc8e-de8b-4a34-95ab-974deb9f3b5d",
   "metadata": {},
   "source": [
    "## implementing of program in a single core\n",
    "\n",
    "trying to import three files from internet "
   ]
  },
  {
   "cell_type": "code",
   "execution_count": 23,
   "id": "ee901c7e-76a4-46d5-b575-acc2b0b7ee0b",
   "metadata": {},
   "outputs": [],
   "source": [
    "import threading\n",
    "import urllib.request"
   ]
  },
  {
   "cell_type": "code",
   "execution_count": 24,
   "id": "3b3d3b84-152b-4278-b018-a2f61400d104",
   "metadata": {},
   "outputs": [],
   "source": [
    "## function to download three files from the internet \n",
    "# inputs are url and filename\n",
    "def file_download(url,filename):\n",
    "    urllib.request.urlretrieve(url,filename)"
   ]
  },
  {
   "cell_type": "code",
   "execution_count": 32,
   "id": "60b3e5b5-86e3-4d4d-bc51-865eab4f70cf",
   "metadata": {},
   "outputs": [],
   "source": [
    "file_download('https://raw.githubusercontent.com/itsfoss/text-files/master/agatha.txt' , \"test.txt\")"
   ]
  },
  {
   "cell_type": "code",
   "execution_count": 26,
   "id": "ee8d1282-60c4-4137-8b20-9ae7b56f6ce7",
   "metadata": {},
   "outputs": [],
   "source": [
    "url_list  = ['https://raw.githubusercontent.com/itsfoss/text-files/master/agatha.txt','https://raw.githubusercontent.com/itsfoss/text-files/master/sherlock.txt','https://raw.githubusercontent.com/itsfoss/text-files/master/sample_log_file.txt']"
   ]
  },
  {
   "cell_type": "code",
   "execution_count": 27,
   "id": "3acfb35c-2a58-4f94-b8f6-c6274847183a",
   "metadata": {},
   "outputs": [
    {
     "data": {
      "text/plain": [
       "['https://raw.githubusercontent.com/itsfoss/text-files/master/agatha.txt',\n",
       " 'https://raw.githubusercontent.com/itsfoss/text-files/master/sherlock.txt',\n",
       " 'https://raw.githubusercontent.com/itsfoss/text-files/master/sample_log_file.txt']"
      ]
     },
     "execution_count": 27,
     "metadata": {},
     "output_type": "execute_result"
    }
   ],
   "source": [
    "url_list"
   ]
  },
  {
   "cell_type": "code",
   "execution_count": 28,
   "id": "2c8eb9c2-3a45-4d52-bb4a-17343aeaa400",
   "metadata": {},
   "outputs": [],
   "source": [
    "## retrieve data from a file\n",
    "file_name_list = ['data1.txt' , 'data2.txt' , 'data3.txt']"
   ]
  },
  {
   "cell_type": "code",
   "execution_count": 33,
   "id": "2c4b5aac-b262-4445-8af5-deafbc83cf0a",
   "metadata": {},
   "outputs": [],
   "source": [
    "ther = [threading.Thread(target=file_download , args = (url_list[i] , file_name_list[i]) ) for i in range(len(url_list))]"
   ]
  },
  {
   "cell_type": "code",
   "execution_count": 34,
   "id": "c32ef1b4-45bb-49ae-918e-c863d26d8ae4",
   "metadata": {},
   "outputs": [
    {
     "data": {
      "text/plain": [
       "[<Thread(Thread-15 (file_download), initial)>,\n",
       " <Thread(Thread-16 (file_download), initial)>,\n",
       " <Thread(Thread-17 (file_download), initial)>]"
      ]
     },
     "execution_count": 34,
     "metadata": {},
     "output_type": "execute_result"
    }
   ],
   "source": [
    "ther"
   ]
  },
  {
   "cell_type": "code",
   "execution_count": 36,
   "id": "f66eb2a3-8bcf-43c9-86e4-6fa9038baeca",
   "metadata": {},
   "outputs": [],
   "source": [
    "for t in ther:\n",
    "    t.start()"
   ]
  },
  {
   "cell_type": "code",
   "execution_count": 37,
   "id": "1fe480ff-fdb0-4ab0-9921-91eefe2cedc2",
   "metadata": {},
   "outputs": [
    {
     "data": {
      "text/plain": [
       "[<Thread(Thread-15 (file_download), started 140275214173760)>,\n",
       " <Thread(Thread-16 (file_download), started 140275205781056)>,\n",
       " <Thread(Thread-17 (file_download), started 140275197388352)>]"
      ]
     },
     "execution_count": 37,
     "metadata": {},
     "output_type": "execute_result"
    }
   ],
   "source": [
    "ther"
   ]
  },
  {
   "cell_type": "markdown",
   "id": "3611aaaa-1fef-4690-99be-f91a1b66fc17",
   "metadata": {
    "jupyter": {
     "source_hidden": true
    },
    "tags": []
   },
   "source": []
  },
  {
   "cell_type": "code",
   "execution_count": 90,
   "id": "ebade2b4-8c36-4d60-8098-cae30b3f4734",
   "metadata": {},
   "outputs": [],
   "source": [
    "import time\n",
    "def test0(id):\n",
    "    for i in  range (10):\n",
    "        print(\"test1 %d printing %d %s\" %(id,i,time.ctime()))\n",
    "        time.sleep(1)"
   ]
  },
  {
   "cell_type": "code",
   "execution_count": 86,
   "id": "54c00240-2d7e-4c42-8c73-4eae129138b5",
   "metadata": {},
   "outputs": [
    {
     "name": "stdout",
     "output_type": "stream",
     "text": [
      "test1 1 printing 0 Tue Feb 21 10:30:17 2023\n",
      "test1 1 printing 1 Tue Feb 21 10:30:18 2023\n",
      "test1 1 printing 2 Tue Feb 21 10:30:19 2023\n",
      "test1 1 printing 3 Tue Feb 21 10:30:20 2023\n",
      "test1 1 printing 4 Tue Feb 21 10:30:21 2023\n",
      "test1 1 printing 5 Tue Feb 21 10:30:22 2023\n",
      "test1 1 printing 6 Tue Feb 21 10:30:23 2023\n",
      "test1 1 printing 7 Tue Feb 21 10:30:24 2023\n",
      "test1 1 printing 8 Tue Feb 21 10:30:25 2023\n",
      "test1 1 printing 9 Tue Feb 21 10:30:26 2023\n"
     ]
    }
   ],
   "source": [
    "test0(1)"
   ]
  },
  {
   "cell_type": "code",
   "execution_count": null,
   "id": "7553e208-19af-46fa-a646-64dbcb71e39c",
   "metadata": {},
   "outputs": [],
   "source": []
  },
  {
   "cell_type": "code",
   "execution_count": 87,
   "id": "359ee013-548b-4e03-a3ca-042c5ba94bb7",
   "metadata": {},
   "outputs": [],
   "source": [
    "thread1 = [threading.Thread(target=test0 , args  = (i,)) for i in range(3)]"
   ]
  },
  {
   "cell_type": "code",
   "execution_count": 79,
   "id": "aa1b3d43-2365-4616-9ad0-5ac1766cae43",
   "metadata": {},
   "outputs": [
    {
     "name": "stdout",
     "output_type": "stream",
     "text": [
      "test1 0 printing 0 <module 'time' (built-in)>\n",
      "test1 1 printing 0 <module 'time' (built-in)>\n",
      "test1 2 printing 0 <module 'time' (built-in)>\n",
      "test1 1 printing 1 <module 'time' (built-in)>\n",
      "test1 2 printing 1 <module 'time' (built-in)>\n",
      "test1 0 printing 1 <module 'time' (built-in)>\n",
      "test1 1 printing 2 <module 'time' (built-in)>test1 0 printing 2 <module 'time' (built-in)>\n",
      "test1 2 printing 2 <module 'time' (built-in)>\n",
      "\n",
      "test1 0 printing 3 <module 'time' (built-in)>\n",
      "test1 2 printing 3 <module 'time' (built-in)>\n",
      "test1 1 printing 3 <module 'time' (built-in)>\n",
      "test1 0 printing 4 <module 'time' (built-in)>\n",
      "test1 2 printing 4 <module 'time' (built-in)>\n",
      "test1 1 printing 4 <module 'time' (built-in)>\n",
      "test1 0 printing 5 <module 'time' (built-in)>\n",
      "test1 1 printing 5 <module 'time' (built-in)>\n",
      "test1 2 printing 5 <module 'time' (built-in)>\n",
      "test1 0 printing 6 <module 'time' (built-in)>\n",
      "test1 1 printing 6 <module 'time' (built-in)>\n",
      "test1 2 printing 6 <module 'time' (built-in)>\n",
      "test1 0 printing 7 <module 'time' (built-in)>\n",
      "test1 1 printing 7 <module 'time' (built-in)>\n",
      "test1 2 printing 7 <module 'time' (built-in)>\n",
      "test1 0 printing 8 <module 'time' (built-in)>\n",
      "test1 2 printing 8 <module 'time' (built-in)>\n",
      "test1 1 printing 8 <module 'time' (built-in)>\n",
      "test1 0 printing 9 <module 'time' (built-in)>\n",
      "test1 2 printing 9 <module 'time' (built-in)>\n",
      "test1 1 printing 9 <module 'time' (built-in)>\n"
     ]
    }
   ],
   "source": [
    "for i in thread1:\n",
    "    i.start()"
   ]
  },
  {
   "cell_type": "code",
   "execution_count": null,
   "id": "6168c90e-3441-480a-9c43-395293f5c62e",
   "metadata": {},
   "outputs": [],
   "source": []
  },
  {
   "cell_type": "markdown",
   "id": "38c1a1cf-3b66-456c-8619-419ecb83f99c",
   "metadata": {},
   "source": [
    "when we are using threading without the sleep time then there is no sleeping time for the core so it iterates through the entire loop inside the function.So, the function will iterate through the range of 0 to 9 for the the range of (0,3 # mentioned inside the thread)"
   ]
  },
  {
   "cell_type": "code",
   "execution_count": 82,
   "id": "1a9b5c75-d441-4af0-aef7-3d42cfc2e7f2",
   "metadata": {},
   "outputs": [],
   "source": [
    "\n",
    "def test2(id):\n",
    "    for i in  range (10):\n",
    "        print(\"test1 %d printing %d %s\" %(id,i,time.ctime()))"
   ]
  },
  {
   "cell_type": "code",
   "execution_count": 83,
   "id": "eec17751-5451-4be1-8351-f443fe3095dd",
   "metadata": {},
   "outputs": [],
   "source": [
    "thread2 = [threading.Thread(target=test2 , args  = (i,)) for i in range(3)]"
   ]
  },
  {
   "cell_type": "code",
   "execution_count": 84,
   "id": "c43933db-c70f-4754-89c7-4bb56a97d2aa",
   "metadata": {},
   "outputs": [
    {
     "name": "stdout",
     "output_type": "stream",
     "text": [
      "test1 0 printing 0 Tue Feb 21 10:30:02 2023\n",
      "test1 0 printing 1 Tue Feb 21 10:30:02 2023\n",
      "test1 0 printing 2 Tue Feb 21 10:30:02 2023\n",
      "test1 0 printing 3 Tue Feb 21 10:30:02 2023\n",
      "test1 0 printing 4 Tue Feb 21 10:30:02 2023\n",
      "test1 0 printing 5 Tue Feb 21 10:30:02 2023\n",
      "test1 0 printing 6 Tue Feb 21 10:30:02 2023\n",
      "test1 0 printing 7 Tue Feb 21 10:30:02 2023\n",
      "test1 0 printing 8 Tue Feb 21 10:30:02 2023\n",
      "test1 0 printing 9 Tue Feb 21 10:30:02 2023\n",
      "test1 1 printing 0 Tue Feb 21 10:30:02 2023\n",
      "test1 1 printing 1 Tue Feb 21 10:30:02 2023\n",
      "test1 1 printing 2 Tue Feb 21 10:30:02 2023\n",
      "test1 1 printing 3 Tue Feb 21 10:30:02 2023\n",
      "test1 1 printing 4 Tue Feb 21 10:30:02 2023\n",
      "test1 1 printing 5 Tue Feb 21 10:30:02 2023\n",
      "test1 1 printing 6 Tue Feb 21 10:30:02 2023\n",
      "test1 1 printing 7 Tue Feb 21 10:30:02 2023\n",
      "test1 1 printing 8 Tue Feb 21 10:30:02 2023\n",
      "test1 1 printing 9 Tue Feb 21 10:30:02 2023\n",
      "test1 2 printing 0 Tue Feb 21 10:30:02 2023\n",
      "test1 2 printing 1 Tue Feb 21 10:30:02 2023\n",
      "test1 2 printing 2 Tue Feb 21 10:30:02 2023\n",
      "test1 2 printing 3 Tue Feb 21 10:30:02 2023\n",
      "test1 2 printing 4 Tue Feb 21 10:30:02 2023\n",
      "test1 2 printing 5 Tue Feb 21 10:30:02 2023\n",
      "test1 2 printing 6 Tue Feb 21 10:30:02 2023\n",
      "test1 2 printing 7 Tue Feb 21 10:30:02 2023\n",
      "test1 2 printing 8 Tue Feb 21 10:30:02 2023\n",
      "test1 2 printing 9 Tue Feb 21 10:30:02 2023\n"
     ]
    }
   ],
   "source": [
    "for i in thread2:\n",
    "    i.start()"
   ]
  },
  {
   "cell_type": "markdown",
   "id": "fe129ad0-8768-47d3-a525-a0f88c524718",
   "metadata": {},
   "source": [
    "one number executed by different programs"
   ]
  },
  {
   "cell_type": "code",
   "execution_count": 98,
   "id": "4d67d37f-d8c7-4b34-bb21-e184c506139a",
   "metadata": {},
   "outputs": [
    {
     "name": "stdout",
     "output_type": "stream",
     "text": [
      "test2 is 0 has increased the shared variable by 1 \n",
      "test2 is 1 has increased the shared variable by 2 \n",
      "test2 is 2 has increased the shared variable by 3 \n"
     ]
    }
   ],
   "source": [
    "shared_var = 0\n",
    "lock_var = threading.Lock()\n",
    "def test2(id) : \n",
    "    global shared_var\n",
    "    with lock_var:\n",
    "        shared_var = shared_var+1\n",
    "        print(\"test2 is %d has increased the shared variable by %d \" % (id ,shared_var) )\n",
    "        time.sleep(1)\n",
    "ther3 = [threading.Thread(target=test2 , args = (i,) ) for i in range(3)]    \n",
    "for t in ther3:\n",
    "    t.start()"
   ]
  },
  {
   "cell_type": "code",
   "execution_count": null,
   "id": "b6cb6a61-8a84-49e0-8eb9-13d8561f83f5",
   "metadata": {},
   "outputs": [],
   "source": []
  },
  {
   "cell_type": "code",
   "execution_count": 100,
   "id": "ef584938-69a1-4571-a5b6-00f30db1117e",
   "metadata": {},
   "outputs": [
    {
     "name": "stdout",
     "output_type": "stream",
     "text": [
      "test2 is 0 has increased the shared variable by 1 \n",
      "test2 is 1 has increased the shared variable by 2 \n",
      "test2 is 2 has increased the shared variable by 3 \n"
     ]
    }
   ],
   "source": [
    "shared_var = 0\n",
    "#lock_var = threading.Lock()\n",
    "def test2(id) : \n",
    "    global shared_var\n",
    "    #with lock_var:\n",
    "    shared_var = shared_var+1\n",
    "    print(\"test2 is %d has increased the shared variable by %d \" % (id ,shared_var) )\n",
    "    time.sleep(1)\n",
    "    \n",
    "ther4 = [threading.Thread(target=test2 , args = (i,) ) for i in range(3)]    \n",
    "for t in ther4:\n",
    "    t.start()"
   ]
  },
  {
   "cell_type": "code",
   "execution_count": null,
   "id": "23fe5660-0dca-4978-8718-fe66a8cedc68",
   "metadata": {},
   "outputs": [],
   "source": []
  },
  {
   "cell_type": "code",
   "execution_count": null,
   "id": "71ff9cd7-4947-405d-8125-bd7eca8e0ea8",
   "metadata": {},
   "outputs": [],
   "source": []
  },
  {
   "cell_type": "code",
   "execution_count": null,
   "id": "236c45c3-ee05-4ad3-8d8b-f30444fd0195",
   "metadata": {},
   "outputs": [],
   "source": []
  }
 ],
 "metadata": {
  "kernelspec": {
   "display_name": "Python 3 (ipykernel)",
   "language": "python",
   "name": "python3"
  },
  "language_info": {
   "codemirror_mode": {
    "name": "ipython",
    "version": 3
   },
   "file_extension": ".py",
   "mimetype": "text/x-python",
   "name": "python",
   "nbconvert_exporter": "python",
   "pygments_lexer": "ipython3",
   "version": "3.10.8"
  }
 },
 "nbformat": 4,
 "nbformat_minor": 5
}
