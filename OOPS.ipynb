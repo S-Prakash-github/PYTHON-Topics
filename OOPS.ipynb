{
 "cells": [
  {
   "cell_type": "markdown",
   "id": "40afc112-4a31-4dad-9cf8-27a3a32c6ebe",
   "metadata": {},
   "source": [
    "#### OOPS concept Class and Object 5th Feb"
   ]
  },
  {
   "cell_type": "code",
   "execution_count": 48,
   "id": "9b9ca7f9-e1b5-4a59-ac6d-e058ec1161e2",
   "metadata": {},
   "outputs": [],
   "source": [
    "## Real world entity is called object \n",
    "a = \"Prakash\""
   ]
  },
  {
   "cell_type": "code",
   "execution_count": 4,
   "id": "13a7a3ca-4b8f-4db5-9323-1c6a46e0ce82",
   "metadata": {},
   "outputs": [
    {
     "name": "stdout",
     "output_type": "stream",
     "text": [
      "<class 'str'>\n"
     ]
    }
   ],
   "source": [
    "## Class is just a classification of a real world entity\n",
    "print(type(a))"
   ]
  },
  {
   "cell_type": "code",
   "execution_count": 5,
   "id": "7cb55a82-c3fb-4962-8e73-dee3c7d4e400",
   "metadata": {},
   "outputs": [],
   "source": [
    "class test:\n",
    "    pass"
   ]
  },
  {
   "cell_type": "code",
   "execution_count": 6,
   "id": "b97c2aff-b416-4537-b0f4-d5dadcb7df04",
   "metadata": {},
   "outputs": [
    {
     "data": {
      "text/plain": [
       "__main__.test"
      ]
     },
     "execution_count": 6,
     "metadata": {},
     "output_type": "execute_result"
    }
   ],
   "source": [
    "a = test()\n",
    "type(a)\n"
   ]
  },
  {
   "cell_type": "code",
   "execution_count": 7,
   "id": "70194f0c-1375-4dd4-b327-f0eb2963b087",
   "metadata": {},
   "outputs": [
    {
     "name": "stdout",
     "output_type": "stream",
     "text": [
      "<class '__main__.test'>\n"
     ]
    }
   ],
   "source": [
    "print(type(a))"
   ]
  },
  {
   "cell_type": "code",
   "execution_count": 12,
   "id": "8bca6b0b-88c0-4fae-9fef-c22239299f4f",
   "metadata": {},
   "outputs": [],
   "source": [
    "class DataScience:\n",
    "    def goal_messege(self):\n",
    "        print(\"I will become a Data Scientist\")"
   ]
  },
  {
   "cell_type": "code",
   "execution_count": 13,
   "id": "54ea72cc-3ba6-414d-8ed0-7693ec7d973d",
   "metadata": {},
   "outputs": [
    {
     "data": {
      "text/plain": [
       "__main__.DataScience"
      ]
     },
     "execution_count": 13,
     "metadata": {},
     "output_type": "execute_result"
    }
   ],
   "source": [
    "prakash = DataScience()\n",
    "type(prakash)"
   ]
  },
  {
   "cell_type": "code",
   "execution_count": 14,
   "id": "693435da-1c2e-4413-9fe6-6a4bb07e6dea",
   "metadata": {},
   "outputs": [
    {
     "name": "stdout",
     "output_type": "stream",
     "text": [
      "I will become a Data Scientist\n"
     ]
    }
   ],
   "source": [
    "prakash.goal_messege()"
   ]
  },
  {
   "cell_type": "code",
   "execution_count": 15,
   "id": "e14e202e-a2bb-4430-9199-4be5001b6425",
   "metadata": {},
   "outputs": [
    {
     "name": "stdout",
     "output_type": "stream",
     "text": [
      "I will become a Data Scientist\n"
     ]
    }
   ],
   "source": [
    "Singh = DataScience()\n",
    "Singh.goal_messege()"
   ]
  },
  {
   "cell_type": "code",
   "execution_count": 27,
   "id": "2ebaf836-c2ec-4bff-a323-4070807813ff",
   "metadata": {},
   "outputs": [],
   "source": [
    "class Datascience:\n",
    "    ## In order to pass the data inside the class we need to use init (constructor)\n",
    "    \n",
    "    def __init__ (self, phone_number, email_id , student_id):\n",
    "        self.phone_number = phone_number\n",
    "        self.email_id = email_id\n",
    "        self.student_id = student_id\n",
    "    def return_student_details(self):\n",
    "        return self.phone_number, self.email_id,self.student_id   "
   ]
  },
  {
   "cell_type": "code",
   "execution_count": 32,
   "id": "074a30f6-e849-4303-b288-6bdfa365a450",
   "metadata": {},
   "outputs": [
    {
     "ename": "NameError",
     "evalue": "name 'self' is not defined",
     "output_type": "error",
     "traceback": [
      "\u001b[0;31m---------------------------------------------------------------------------\u001b[0m",
      "\u001b[0;31mNameError\u001b[0m                                 Traceback (most recent call last)",
      "Cell \u001b[0;32mIn[32], line 1\u001b[0m\n\u001b[0;32m----> 1\u001b[0m prakash \u001b[38;5;241m=\u001b[39m Datascience(\u001b[38;5;28;43mself\u001b[39;49m)\n",
      "\u001b[0;31mNameError\u001b[0m: name 'self' is not defined"
     ]
    }
   ],
   "source": [
    "prakash = Datascience()"
   ]
  },
  {
   "cell_type": "code",
   "execution_count": 29,
   "id": "3c77252b-e7dd-463e-a29f-746af7ff4f58",
   "metadata": {},
   "outputs": [],
   "source": [
    "prakash = Datascience(8981211913,\"raj190344@gmail.com\", 1104)"
   ]
  },
  {
   "cell_type": "code",
   "execution_count": 39,
   "id": "5242b201-b842-4760-a5b8-b063f863f0a2",
   "metadata": {},
   "outputs": [
    {
     "data": {
      "text/plain": [
       "(8981211913, 'raj190344@gmail.com', 1104)"
      ]
     },
     "execution_count": 39,
     "metadata": {},
     "output_type": "execute_result"
    }
   ],
   "source": [
    "prakash.return_student_details()"
   ]
  },
  {
   "cell_type": "code",
   "execution_count": 40,
   "id": "3d2bfaf0-30f1-4e3f-afdb-01e8cd7f2c95",
   "metadata": {},
   "outputs": [
    {
     "data": {
      "text/plain": [
       "8981211913"
      ]
     },
     "execution_count": 40,
     "metadata": {},
     "output_type": "execute_result"
    }
   ],
   "source": [
    "prakash.phone_number"
   ]
  },
  {
   "cell_type": "code",
   "execution_count": 31,
   "id": "947d38e5-6320-4a23-bace-17b900d48810",
   "metadata": {},
   "outputs": [
    {
     "data": {
      "text/plain": [
       "(9038042179, 'Gaurav@gmail.com', 1105)"
      ]
     },
     "execution_count": 31,
     "metadata": {},
     "output_type": "execute_result"
    }
   ],
   "source": [
    "Singh = Datascience(9038042179,\"Gaurav@gmail.com\",1105)\n",
    "Singh.return_student_details()"
   ]
  },
  {
   "cell_type": "code",
   "execution_count": 35,
   "id": "39ab45b3-859c-46d7-a33f-0355ade77f17",
   "metadata": {},
   "outputs": [],
   "source": [
    "class Datascience1:\n",
    "    ## In order to pass the data inside the class we need to use init (constructor)\n",
    "    \n",
    "    def __init__ (self, phone_number, email_id , student_id):\n",
    "        self.phone_number1 = phone_number\n",
    "        self.email_id1 = email_id\n",
    "        self.student_id1 = student_id\n",
    "    def return_student_details(self):\n",
    "        return self.phone_number1, self.email_id1,self.student_id1  \n",
    "    ## All objects in a class should be associated with self"
   ]
  },
  {
   "cell_type": "code",
   "execution_count": 45,
   "id": "06a29114-e92d-4960-b245-eab32482b28d",
   "metadata": {},
   "outputs": [],
   "source": [
    "Prakash_Singh = Datascience1(88989797,\"Terea@gmail.com\",5589)"
   ]
  },
  {
   "cell_type": "code",
   "execution_count": 47,
   "id": "e13a0369-5edb-4f9c-8136-0d0173708163",
   "metadata": {},
   "outputs": [
    {
     "data": {
      "text/plain": [
       "88989797"
      ]
     },
     "execution_count": 47,
     "metadata": {},
     "output_type": "execute_result"
    }
   ],
   "source": [
    "Prakash_Singh.phone_number1"
   ]
  },
  {
   "cell_type": "code",
   "execution_count": null,
   "id": "a7ae9aa5-2056-4a13-8df0-b4ba2252ea37",
   "metadata": {},
   "outputs": [],
   "source": []
  },
  {
   "cell_type": "code",
   "execution_count": 50,
   "id": "4b140262-596d-47d7-b28c-03ba34b92942",
   "metadata": {},
   "outputs": [],
   "source": [
    "class Datascience1:\n",
    "    ## In order to pass the data inside the class we need to use init (constructor)\n",
    "    \n",
    "    def __init__ (Prakash, phone_number, email_id , student_id):\n",
    "        Prakash.phone_number1 = phone_number\n",
    "        Prakash.email_id1 = email_id\n",
    "        Prakash.student_id1 = student_id\n",
    "    def return_student_details(self):\n",
    "        return Prakash.phone_number1, self.email_id1,self.student_id1  \n",
    "    ## We can use any variable name in place of self (pointer)\n",
    "    ## All objects in a class should be associated with self"
   ]
  },
  {
   "cell_type": "code",
   "execution_count": 52,
   "id": "e4846345-7dee-445d-a9f9-ba4838507289",
   "metadata": {},
   "outputs": [],
   "source": [
    "Raj = Datascience(897979445,\"raj007@gmail.com\",1106)"
   ]
  },
  {
   "cell_type": "code",
   "execution_count": 54,
   "id": "635d4586-0dc6-43b3-8e81-7037a788a6a2",
   "metadata": {},
   "outputs": [
    {
     "data": {
      "text/plain": [
       "'raj007@gmail.com'"
      ]
     },
     "execution_count": 54,
     "metadata": {},
     "output_type": "execute_result"
    }
   ],
   "source": [
    "Raj.email_id1"
   ]
  },
  {
   "cell_type": "code",
   "execution_count": null,
   "id": "d3974101-3c41-48a9-b648-ae65dae547aa",
   "metadata": {},
   "outputs": [],
   "source": []
  },
  {
   "cell_type": "code",
   "execution_count": null,
   "id": "660839af-7f5b-4201-a38b-73846cc8d7ee",
   "metadata": {},
   "outputs": [],
   "source": []
  },
  {
   "cell_type": "markdown",
   "id": "237264d4-8e51-4aee-b687-e34a077c0a02",
   "metadata": {},
   "source": [
    "#### Polymorphisum"
   ]
  },
  {
   "cell_type": "code",
   "execution_count": 56,
   "id": "5d14302f-327c-4276-b13e-58a5dd06333e",
   "metadata": {},
   "outputs": [
    {
     "data": {
      "text/plain": [
       "7"
      ]
     },
     "execution_count": 56,
     "metadata": {},
     "output_type": "execute_result"
    }
   ],
   "source": [
    "## differnet kind of behaviour in different situation\n",
    "## Poly meaning multiple morphisum meaning behaviour\n",
    "def test(a,b):\n",
    "    return (a+b)\n",
    "test(3,4)"
   ]
  },
  {
   "cell_type": "code",
   "execution_count": 57,
   "id": "62a82205-8b88-4703-b24e-51f83aa0ad62",
   "metadata": {},
   "outputs": [
    {
     "data": {
      "text/plain": [
       "'PrakashSingh'"
      ]
     },
     "execution_count": 57,
     "metadata": {},
     "output_type": "execute_result"
    }
   ],
   "source": [
    "## Function is same but the behaviour is different\n",
    "test(\"Prakash\",\"Singh\")"
   ]
  },
  {
   "cell_type": "code",
   "execution_count": 58,
   "id": "44ffd5c2-89e5-411f-900c-84f3e4d050a8",
   "metadata": {},
   "outputs": [
    {
     "data": {
      "text/plain": [
       "[1, 2, 3, 4, 5, 5, 4, 6, 87, 4]"
      ]
     },
     "execution_count": 58,
     "metadata": {},
     "output_type": "execute_result"
    }
   ],
   "source": [
    "test([1,2,3,4,5],[5,4,6,87,4])"
   ]
  },
  {
   "cell_type": "code",
   "execution_count": 90,
   "id": "436a8c01-5bce-447a-a706-fec84bca6a29",
   "metadata": {},
   "outputs": [],
   "source": [
    "class Data_science:\n",
    "    \n",
    "    def syllabus(self):\n",
    "        print(\"This is the syllabus\")"
   ]
  },
  {
   "cell_type": "code",
   "execution_count": 91,
   "id": "8285cd84-eeb8-4bee-8768-fd5e666f1b77",
   "metadata": {},
   "outputs": [],
   "source": [
    "class Web_dev:\n",
    "    \n",
    "    def syllabus(self):\n",
    "        print(\"This is the syllabus for web development\")"
   ]
  },
  {
   "cell_type": "code",
   "execution_count": 92,
   "id": "e2d0bc1b-8b20-4ae3-8753-8acc663453d4",
   "metadata": {},
   "outputs": [],
   "source": [
    "def class_pracer(class_object):\n",
    "    for i in  class_object:\n",
    "        i.syllabus()"
   ]
  },
  {
   "cell_type": "code",
   "execution_count": 97,
   "id": "276d5c23-3257-45e4-abb4-7b73b5eb7ba3",
   "metadata": {},
   "outputs": [],
   "source": [
    "Data_science = Data_science()"
   ]
  },
  {
   "cell_type": "code",
   "execution_count": 98,
   "id": "5366bb66-4a73-4393-b8e2-f14a13b82fae",
   "metadata": {},
   "outputs": [],
   "source": [
    "Web_dev = Web_dev()"
   ]
  },
  {
   "cell_type": "code",
   "execution_count": 99,
   "id": "95c5b21d-ead3-44f7-9e02-6a0eaaffe817",
   "metadata": {},
   "outputs": [],
   "source": [
    "class_object = [Data_science, Web_dev]"
   ]
  },
  {
   "cell_type": "code",
   "execution_count": 100,
   "id": "01bd1645-14d4-4543-9d38-91b29b82c949",
   "metadata": {},
   "outputs": [
    {
     "ename": "TypeError",
     "evalue": "'list' object is not callable",
     "output_type": "error",
     "traceback": [
      "\u001b[0;31m---------------------------------------------------------------------------\u001b[0m",
      "\u001b[0;31mTypeError\u001b[0m                                 Traceback (most recent call last)",
      "Cell \u001b[0;32mIn[100], line 1\u001b[0m\n\u001b[0;32m----> 1\u001b[0m \u001b[43mclass_parcer\u001b[49m\u001b[43m(\u001b[49m\u001b[43mclass_object\u001b[49m\u001b[43m)\u001b[49m\n",
      "\u001b[0;31mTypeError\u001b[0m: 'list' object is not callable"
     ]
    }
   ],
   "source": [
    "class_parcer(class_object)"
   ]
  },
  {
   "cell_type": "code",
   "execution_count": null,
   "id": "3f86d2ee-c305-4476-a8ea-2e5c04e0ee88",
   "metadata": {},
   "outputs": [],
   "source": []
  },
  {
   "cell_type": "code",
   "execution_count": null,
   "id": "52c84c14-6880-4781-a9a7-31abe6d49639",
   "metadata": {},
   "outputs": [],
   "source": []
  },
  {
   "cell_type": "markdown",
   "id": "cdf7db49-8647-4d7e-b17f-57925ae925e6",
   "metadata": {},
   "source": [
    "#### Encapsulation"
   ]
  },
  {
   "cell_type": "code",
   "execution_count": 8,
   "id": "8cfe36fd-29e5-433b-a554-f32761fce746",
   "metadata": {},
   "outputs": [
    {
     "data": {
      "text/plain": [
       "type"
      ]
     },
     "execution_count": 8,
     "metadata": {},
     "output_type": "execute_result"
    }
   ],
   "source": [
    "class car:\n",
    "    def __init__ (self, year, name,model):\n",
    "        self.__year = year\n",
    "        self.__name = name\n",
    "        self.__model = model\n",
    "        \n",
    "type(car)"
   ]
  },
  {
   "cell_type": "code",
   "execution_count": 9,
   "id": "32f8a0c5-1b2d-4cf8-b9d2-8a5a28407563",
   "metadata": {},
   "outputs": [],
   "source": [
    "c = car(2021,\"Toyota\",\"X\")"
   ]
  },
  {
   "cell_type": "code",
   "execution_count": 14,
   "id": "040c2b30-64d2-42f5-ac03-a6f0d82f142b",
   "metadata": {},
   "outputs": [
    {
     "data": {
      "text/plain": [
       "2021"
      ]
     },
     "execution_count": 14,
     "metadata": {},
     "output_type": "execute_result"
    }
   ],
   "source": [
    "## syntax to access the objects in a class\n",
    "c._car__year"
   ]
  },
  {
   "cell_type": "code",
   "execution_count": 15,
   "id": "47dcded5-64f3-4375-92dd-913c1c76de69",
   "metadata": {},
   "outputs": [],
   "source": [
    "class car_info:\n",
    "    def __init__ (self, year, name,model,speed):\n",
    "        self.__year = year\n",
    "        self.__name = name\n",
    "        self.__model = model\n",
    "        self.__speed = 0\n",
    "        \n",
    "        \n",
    "    def set_speed(self,speed):\n",
    "        self.__speed = 0 if speed < 0 else speed\n",
    "        \n",
    "        \n",
    "    def getspeed(self):\n",
    "        return self.__speed"
   ]
  },
  {
   "cell_type": "code",
   "execution_count": 24,
   "id": "516ff44f-f6e2-4215-955a-85020695603f",
   "metadata": {},
   "outputs": [],
   "source": [
    "ca = car_info (2022, \"BMW\", \"Y\" , 0 )\n"
   ]
  },
  {
   "cell_type": "code",
   "execution_count": 25,
   "id": "e542fd37-1479-4e87-85c3-7b28032bca65",
   "metadata": {},
   "outputs": [],
   "source": [
    "ca.set_speed(254)\n"
   ]
  },
  {
   "cell_type": "code",
   "execution_count": 26,
   "id": "008611bd-6c0d-4096-aac6-a88475714127",
   "metadata": {},
   "outputs": [
    {
     "data": {
      "text/plain": [
       "254"
      ]
     },
     "execution_count": 26,
     "metadata": {},
     "output_type": "execute_result"
    }
   ],
   "source": [
    "ca.getspeed()"
   ]
  },
  {
   "cell_type": "code",
   "execution_count": 16,
   "id": "6b8d273c-1cee-4400-b225-6465d266465e",
   "metadata": {},
   "outputs": [],
   "source": [
    "class account:\n",
    "    def __init__ (self, balance):\n",
    "        self.__balance = balance\n",
    "        \n",
    "    def deposite(self, amount):\n",
    "        self.__balance= self.__balance + amount\n",
    "        \n",
    "    def withdraw(self, amount):\n",
    "        if self.__balance >= amount :\n",
    "            self.__balance = self.__balance - amount\n",
    "            return True\n",
    "        else:\n",
    "            return False\n",
    "    def getbalance(self):\n",
    "        return self.__balance"
   ]
  },
  {
   "cell_type": "code",
   "execution_count": 17,
   "id": "32c60314-71eb-4c78-b658-e5b483da8764",
   "metadata": {},
   "outputs": [],
   "source": [
    "prakash = account(1000)"
   ]
  },
  {
   "cell_type": "code",
   "execution_count": 18,
   "id": "6a4931a0-64b8-4e97-be82-5055c30d573a",
   "metadata": {},
   "outputs": [],
   "source": [
    "prakash.deposite(5000)"
   ]
  },
  {
   "cell_type": "code",
   "execution_count": 19,
   "id": "24bf1004-53a7-4ff5-a8ce-005da0fb0d40",
   "metadata": {},
   "outputs": [
    {
     "data": {
      "text/plain": [
       "6000"
      ]
     },
     "execution_count": 19,
     "metadata": {},
     "output_type": "execute_result"
    }
   ],
   "source": [
    "prakash.getbalance()"
   ]
  },
  {
   "cell_type": "code",
   "execution_count": 20,
   "id": "769cffc5-f7e8-450b-bea8-8368958bb176",
   "metadata": {},
   "outputs": [
    {
     "data": {
      "text/plain": [
       "False"
      ]
     },
     "execution_count": 20,
     "metadata": {},
     "output_type": "execute_result"
    }
   ],
   "source": [
    "prakash.withdraw(15879)"
   ]
  },
  {
   "cell_type": "code",
   "execution_count": 21,
   "id": "1fe20516-89b2-4e83-ae57-11af2bb33380",
   "metadata": {},
   "outputs": [
    {
     "data": {
      "text/plain": [
       "True"
      ]
     },
     "execution_count": 21,
     "metadata": {},
     "output_type": "execute_result"
    }
   ],
   "source": [
    "prakash.withdraw(4560)"
   ]
  },
  {
   "cell_type": "code",
   "execution_count": 22,
   "id": "4e09e167-7bc9-4a6a-b0e0-588062d1e4ea",
   "metadata": {},
   "outputs": [
    {
     "data": {
      "text/plain": [
       "1440"
      ]
     },
     "execution_count": 22,
     "metadata": {},
     "output_type": "execute_result"
    }
   ],
   "source": [
    "prakash.getbalance()"
   ]
  },
  {
   "cell_type": "markdown",
   "id": "2404ab11-2959-427b-97bc-6b6b43ee10a3",
   "metadata": {},
   "source": [
    "#### Inheritance"
   ]
  },
  {
   "cell_type": "code",
   "execution_count": 41,
   "id": "a6233d2a-84de-4bd7-8514-285ac076558c",
   "metadata": {},
   "outputs": [],
   "source": [
    "## Paraent class\n",
    "class father():\n",
    "    def animal(self):\n",
    "        return \"Puppy\""
   ]
  },
  {
   "cell_type": "code",
   "execution_count": 45,
   "id": "2d499081-c7f9-49dc-ba22-7d5a9f06042e",
   "metadata": {},
   "outputs": [],
   "source": [
    "# child class\n",
    "class child(father):\n",
    "    pass\n",
    "child = child()"
   ]
  },
  {
   "cell_type": "code",
   "execution_count": 46,
   "id": "2b91aa03-bd38-49b1-9769-56493d3322ea",
   "metadata": {},
   "outputs": [
    {
     "data": {
      "text/plain": [
       "'Puppy'"
      ]
     },
     "execution_count": 46,
     "metadata": {},
     "output_type": "execute_result"
    }
   ],
   "source": [
    "child.animal()"
   ]
  },
  {
   "cell_type": "markdown",
   "id": "bf12382d-0bca-419a-afae-e83fc05a1fa4",
   "metadata": {},
   "source": [
    "###### Multi level inheritence"
   ]
  },
  {
   "cell_type": "code",
   "execution_count": 48,
   "id": "9d252620-d2dd-4907-b8f8-2517ec0b4bb1",
   "metadata": {},
   "outputs": [],
   "source": [
    "\n",
    "class class1:\n",
    "    def test_class1(self):\n",
    "        return \"This is class1\""
   ]
  },
  {
   "cell_type": "code",
   "execution_count": 49,
   "id": "b78950b8-e2a1-4b04-a382-c6f3dbb6e240",
   "metadata": {},
   "outputs": [],
   "source": [
    "class class2(class1):\n",
    "    def test_class2(self):\n",
    "        return \"This is a method from class2\"\n",
    "    "
   ]
  },
  {
   "cell_type": "code",
   "execution_count": 51,
   "id": "f4f947a6-4cce-47bb-8087-fe7b54605cb5",
   "metadata": {},
   "outputs": [],
   "source": [
    "class class3(class2):\n",
    "    def test_class3(self):\n",
    "        pass"
   ]
  },
  {
   "cell_type": "code",
   "execution_count": 52,
   "id": "896aef64-96cd-40ec-8b93-7b362cfb28f4",
   "metadata": {},
   "outputs": [],
   "source": [
    "a = class3()"
   ]
  },
  {
   "cell_type": "code",
   "execution_count": 53,
   "id": "018fe3d2-7b15-4e75-a987-c0e2efe29803",
   "metadata": {},
   "outputs": [
    {
     "data": {
      "text/plain": [
       "'This is a method from class2'"
      ]
     },
     "execution_count": 53,
     "metadata": {},
     "output_type": "execute_result"
    }
   ],
   "source": [
    "a.test_class2()"
   ]
  },
  {
   "cell_type": "code",
   "execution_count": 54,
   "id": "f9031a62-cda2-4c5c-944d-f9f476f94860",
   "metadata": {},
   "outputs": [
    {
     "data": {
      "text/plain": [
       "'This is class1'"
      ]
     },
     "execution_count": 54,
     "metadata": {},
     "output_type": "execute_result"
    }
   ],
   "source": [
    "a.test_class1()"
   ]
  },
  {
   "cell_type": "markdown",
   "id": "c0168202-1f37-4c51-9766-ef1beac835b9",
   "metadata": {},
   "source": [
    "###### Multiple Inheritence"
   ]
  },
  {
   "cell_type": "code",
   "execution_count": 61,
   "id": "5b92011f-a172-48c6-acfd-dfa6730f47c6",
   "metadata": {},
   "outputs": [],
   "source": [
    "class multiple1():\n",
    "    def multiple_test1(self):\n",
    "        return \"Yo\""
   ]
  },
  {
   "cell_type": "code",
   "execution_count": 62,
   "id": "5b041e70-806b-43ae-aa7b-eec179bb58a5",
   "metadata": {},
   "outputs": [],
   "source": [
    "class multiple2():\n",
    "    def multiple_test2(self):\n",
    "        return \"Bro\"\n"
   ]
  },
  {
   "cell_type": "code",
   "execution_count": 64,
   "id": "f9a55cc2-5708-4131-b4e1-186d3eecb46f",
   "metadata": {},
   "outputs": [],
   "source": [
    "class multiple3(multiple1 , multiple2):\n",
    "        pass"
   ]
  },
  {
   "cell_type": "code",
   "execution_count": 65,
   "id": "8ad54b4c-121f-42cd-aeb3-3e93cbe70814",
   "metadata": {},
   "outputs": [],
   "source": [
    "# creating object\n",
    "obj = multiple3()"
   ]
  },
  {
   "cell_type": "code",
   "execution_count": 66,
   "id": "95351c69-169b-4f8a-87bf-88147ea14748",
   "metadata": {},
   "outputs": [
    {
     "data": {
      "text/plain": [
       "'Yo'"
      ]
     },
     "execution_count": 66,
     "metadata": {},
     "output_type": "execute_result"
    }
   ],
   "source": [
    "obj.multiple_test1()"
   ]
  },
  {
   "cell_type": "code",
   "execution_count": 67,
   "id": "aaea71a6-1ef2-40ee-bd9f-b02b61fa97e9",
   "metadata": {},
   "outputs": [
    {
     "data": {
      "text/plain": [
       "'Bro'"
      ]
     },
     "execution_count": 67,
     "metadata": {},
     "output_type": "execute_result"
    }
   ],
   "source": [
    "obj.multiple_test2()"
   ]
  },
  {
   "cell_type": "code",
   "execution_count": 3,
   "id": "357544b7-2b31-412d-b819-c6ff25a98095",
   "metadata": {},
   "outputs": [
    {
     "name": "stdout",
     "output_type": "stream",
     "text": [
      "1\n"
     ]
    }
   ],
   "source": [
    "x = [1, 2, 3, 4, 5]\n",
    "\n",
    "for i in x:\n",
    "\n",
    "  if i % 2 == 0:\n",
    "\n",
    "    break\n",
    "\n",
    "  print(i)"
   ]
  },
  {
   "cell_type": "markdown",
   "id": "8b08fde6-68cd-434f-974c-3ea12fd9da67",
   "metadata": {},
   "source": [
    "#### Abstraction"
   ]
  },
  {
   "cell_type": "code",
   "execution_count": 2,
   "id": "43393e61-4a6f-4803-85ed-e4bad707d08e",
   "metadata": {},
   "outputs": [],
   "source": [
    "from abc import ABC,abstractclassmethod\n",
    "class computer(ABC):\n",
    "    @abstractclassmethod\n",
    "    def process (self):\n",
    "             pass\n",
    "               \n",
    "class laptop(computer):\n",
    "    def process(self):\n",
    "             print(\"Its running\")\n",
    "               "
   ]
  },
  {
   "cell_type": "code",
   "execution_count": 3,
   "id": "d99949e1-67e8-41f8-8ad5-bc729b09561f",
   "metadata": {},
   "outputs": [],
   "source": [
    "comp1 = laptop()"
   ]
  },
  {
   "cell_type": "code",
   "execution_count": 5,
   "id": "4c470b41-ebb3-4784-b997-c5792109d72b",
   "metadata": {},
   "outputs": [
    {
     "name": "stdout",
     "output_type": "stream",
     "text": [
      "Its running\n"
     ]
    }
   ],
   "source": [
    "comp1.process()"
   ]
  },
  {
   "cell_type": "code",
   "execution_count": 1,
   "id": "cfca1bbd-e14b-401c-a918-a0fadae96676",
   "metadata": {},
   "outputs": [
    {
     "ename": "SyntaxError",
     "evalue": "incomplete input (4169317528.py, line 6)",
     "output_type": "error",
     "traceback": [
      "\u001b[0;36m  Cell \u001b[0;32mIn[1], line 6\u001b[0;36m\u001b[0m\n\u001b[0;31m    \u001b[0m\n\u001b[0m    ^\u001b[0m\n\u001b[0;31mSyntaxError\u001b[0m\u001b[0;31m:\u001b[0m incomplete input\n"
     ]
    }
   ],
   "source": [
    "class programmer(ABC):\n",
    "    @abstractclassmethod\n",
    "    def debugger(self):\n",
    "        print(\"Solve Problems\")\n",
    "class java(ABC):\n",
    "    "
   ]
  },
  {
   "cell_type": "code",
   "execution_count": null,
   "id": "5527a3fa-afeb-4b0a-8037-3e5c2c26ac16",
   "metadata": {},
   "outputs": [],
   "source": []
  },
  {
   "cell_type": "code",
   "execution_count": 14,
   "id": "00f073b7-18ea-4d66-bc6b-63c691c095a5",
   "metadata": {},
   "outputs": [
    {
     "name": "stdout",
     "output_type": "stream",
     "text": [
      "78\n"
     ]
    }
   ],
   "source": [
    "def sum_(n):\n",
    "    s = 0\n",
    "    for i in range(0,n+1):\n",
    "        s= s+i\n",
    "    print(s)\n",
    "sum_(12)"
   ]
  },
  {
   "cell_type": "code",
   "execution_count": 13,
   "id": "7f2fbc48-ef0c-4c76-9b94-22689dca6e77",
   "metadata": {},
   "outputs": [
    {
     "name": "stdout",
     "output_type": "stream",
     "text": [
      "range(0, 13)\n"
     ]
    }
   ],
   "source": [
    "n=12\n",
    "print(range(0,n+1))"
   ]
  },
  {
   "cell_type": "code",
   "execution_count": null,
   "id": "a8e421a4-25de-4424-a5e7-48af934869ef",
   "metadata": {},
   "outputs": [],
   "source": []
  },
  {
   "cell_type": "code",
   "execution_count": null,
   "id": "ddc2cfce-8075-4a53-b51d-b39367aef0fb",
   "metadata": {},
   "outputs": [],
   "source": []
  },
  {
   "cell_type": "code",
   "execution_count": null,
   "id": "c98cad97-59fd-4190-b584-ac738ce1371f",
   "metadata": {},
   "outputs": [],
   "source": []
  },
  {
   "cell_type": "code",
   "execution_count": null,
   "id": "468d2636-5b83-4dc6-ae85-ce33c3ea9073",
   "metadata": {},
   "outputs": [],
   "source": []
  },
  {
   "cell_type": "code",
   "execution_count": null,
   "id": "b5562397-ec20-4a01-81c5-2e1ae40e1d7a",
   "metadata": {},
   "outputs": [],
   "source": []
  },
  {
   "cell_type": "code",
   "execution_count": null,
   "id": "ddc03dfd-86ae-4219-8bb9-ec8097b44ec7",
   "metadata": {},
   "outputs": [],
   "source": []
  },
  {
   "cell_type": "code",
   "execution_count": null,
   "id": "8ae7d0b5-9596-4676-8cb0-833cf76b2eec",
   "metadata": {},
   "outputs": [],
   "source": []
  },
  {
   "cell_type": "code",
   "execution_count": null,
   "id": "d292fca3-d970-4171-a0f2-fd645d4d4a11",
   "metadata": {},
   "outputs": [],
   "source": []
  },
  {
   "cell_type": "code",
   "execution_count": null,
   "id": "d2f0e654-e9dd-4fbd-93b8-d6db559b3cc6",
   "metadata": {},
   "outputs": [],
   "source": []
  }
 ],
 "metadata": {
  "kernelspec": {
   "display_name": "Python 3 (ipykernel)",
   "language": "python",
   "name": "python3"
  },
  "language_info": {
   "codemirror_mode": {
    "name": "ipython",
    "version": 3
   },
   "file_extension": ".py",
   "mimetype": "text/x-python",
   "name": "python",
   "nbconvert_exporter": "python",
   "pygments_lexer": "ipython3",
   "version": "3.10.8"
  }
 },
 "nbformat": 4,
 "nbformat_minor": 5
}
