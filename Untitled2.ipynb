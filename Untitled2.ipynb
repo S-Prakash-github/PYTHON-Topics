{
 "cells": [
  {
   "cell_type": "code",
   "execution_count": 1,
   "id": "63a0d1ee-9201-4c50-91c1-11fc4336e1b9",
   "metadata": {},
   "outputs": [
    {
     "ename": "SyntaxError",
     "evalue": "invalid character '‘' (U+2018) (3643665153.py, line 1)",
     "output_type": "error",
     "traceback": [
      "\u001b[0;36m  Cell \u001b[0;32mIn[1], line 1\u001b[0;36m\u001b[0m\n\u001b[0;31m    ‘pwskills’.upper().lower().isalnum()\u001b[0m\n\u001b[0m    ^\u001b[0m\n\u001b[0;31mSyntaxError\u001b[0m\u001b[0;31m:\u001b[0m invalid character '‘' (U+2018)\n"
     ]
    }
   ],
   "source": [
    "‘pwskills’.upper().lower().isalnum()"
   ]
  },
  {
   "cell_type": "code",
   "execution_count": 2,
   "id": "05df3db2-e6e7-4e85-8e6a-c880dd608889",
   "metadata": {},
   "outputs": [],
   "source": [
    "a = \"pwskills\""
   ]
  },
  {
   "cell_type": "code",
   "execution_count": 3,
   "id": "11de768e-614b-43b6-baee-3329bbcfe901",
   "metadata": {},
   "outputs": [
    {
     "ename": "TypeError",
     "evalue": "'str' object does not support item assignment",
     "output_type": "error",
     "traceback": [
      "\u001b[0;31m---------------------------------------------------------------------------\u001b[0m",
      "\u001b[0;31mTypeError\u001b[0m                                 Traceback (most recent call last)",
      "Cell \u001b[0;32mIn[3], line 1\u001b[0m\n\u001b[0;32m----> 1\u001b[0m \u001b[43ma\u001b[49m\u001b[43m[\u001b[49m\u001b[38;5;241;43m0\u001b[39;49m\u001b[43m]\u001b[49m \u001b[38;5;241m=\u001b[39m \u001b[38;5;124m'\u001b[39m\u001b[38;5;124mP\u001b[39m\u001b[38;5;124m'\u001b[39m\n",
      "\u001b[0;31mTypeError\u001b[0m: 'str' object does not support item assignment"
     ]
    }
   ],
   "source": [
    "a[0] = 'P'"
   ]
  },
  {
   "cell_type": "code",
   "execution_count": 4,
   "id": "1f3e1a3f-19a6-4909-8bf1-9f39eac835ce",
   "metadata": {},
   "outputs": [
    {
     "data": {
      "text/plain": [
       "(-1+3j)"
      ]
     },
     "execution_count": 4,
     "metadata": {},
     "output_type": "execute_result"
    }
   ],
   "source": [
    "num1= 23\n",
    "\n",
    "num2= 44\n",
    "\n",
    "num2= 2+3j\n",
    "\n",
    "num1= num2.imag\n",
    "\n",
    "num2-num1"
   ]
  },
  {
   "cell_type": "code",
   "execution_count": 8,
   "id": "6e9c62c9-8242-4e3a-879e-e41da08a6445",
   "metadata": {},
   "outputs": [],
   "source": [
    "l = [ \"Prakash\" , 144 , 5 + 5j ,True]"
   ]
  },
  {
   "cell_type": "code",
   "execution_count": 7,
   "id": "706c8962-cbb6-4efe-9039-b80966bd68e8",
   "metadata": {},
   "outputs": [
    {
     "data": {
      "text/plain": [
       "'Pra'"
      ]
     },
     "execution_count": 7,
     "metadata": {},
     "output_type": "execute_result"
    }
   ],
   "source": [
    "l[0] [ 0:3 ] "
   ]
  },
  {
   "cell_type": "code",
   "execution_count": 9,
   "id": "1413c6a0-57be-4b6b-96fe-4eab7284f838",
   "metadata": {},
   "outputs": [
    {
     "data": {
      "text/plain": [
       "True"
      ]
     },
     "execution_count": 9,
     "metadata": {},
     "output_type": "execute_result"
    }
   ],
   "source": [
    "l[3]"
   ]
  },
  {
   "cell_type": "code",
   "execution_count": 10,
   "id": "024d6a38-fa3e-48e5-8281-05dc1bc8d03a",
   "metadata": {},
   "outputs": [],
   "source": [
    "a = str(l[3])"
   ]
  },
  {
   "cell_type": "code",
   "execution_count": 11,
   "id": "bbc85e21-340f-402d-add9-d91e2b7b0a9f",
   "metadata": {},
   "outputs": [
    {
     "data": {
      "text/plain": [
       "'Tru'"
      ]
     },
     "execution_count": 11,
     "metadata": {},
     "output_type": "execute_result"
    }
   ],
   "source": [
    "a [:3]"
   ]
  },
  {
   "cell_type": "code",
   "execution_count": 12,
   "id": "ddc33ede-3b72-4bf4-a6be-964bf967b2e2",
   "metadata": {},
   "outputs": [
    {
     "data": {
      "text/plain": [
       "'Tru'"
      ]
     },
     "execution_count": 12,
     "metadata": {},
     "output_type": "execute_result"
    }
   ],
   "source": [
    "str(l[3])[0:3]"
   ]
  },
  {
   "cell_type": "code",
   "execution_count": 13,
   "id": "f00db22f-dfb5-4cb4-b9c5-f934a9663495",
   "metadata": {},
   "outputs": [
    {
     "data": {
      "text/plain": [
       "<method 'append' of 'list' objects>"
      ]
     },
     "execution_count": 13,
     "metadata": {},
     "output_type": "execute_result"
    }
   ],
   "source": [
    "list.append"
   ]
  },
  {
   "cell_type": "code",
   "execution_count": 14,
   "id": "a04a571a-c9a5-4bb3-a420-356244837e60",
   "metadata": {},
   "outputs": [
    {
     "ename": "SyntaxError",
     "evalue": "invalid decimal literal (1359874829.py, line 1)",
     "output_type": "error",
     "traceback": [
      "\u001b[0;36m  Cell \u001b[0;32mIn[14], line 1\u001b[0;36m\u001b[0m\n\u001b[0;31m    100_num = ray\u001b[0m\n\u001b[0m       ^\u001b[0m\n\u001b[0;31mSyntaxError\u001b[0m\u001b[0;31m:\u001b[0m invalid decimal literal\n"
     ]
    }
   ],
   "source": [
    "100_num = ray"
   ]
  },
  {
   "cell_type": "code",
   "execution_count": 1,
   "id": "c5a24805-6049-43ab-89d2-7b6c2c4f46c4",
   "metadata": {},
   "outputs": [
    {
     "ename": "SyntaxError",
     "evalue": "invalid syntax (2777512383.py, line 3)",
     "output_type": "error",
     "traceback": [
      "\u001b[0;36m  Cell \u001b[0;32mIn[1], line 3\u001b[0;36m\u001b[0m\n\u001b[0;31m    str.\u001b[0m\n\u001b[0m        ^\u001b[0m\n\u001b[0;31mSyntaxError\u001b[0m\u001b[0;31m:\u001b[0m invalid syntax\n"
     ]
    }
   ],
   "source": [
    "name        =  \"Prakash\"\n",
    "n = name[0] \n",
    "str."
   ]
  },
  {
   "cell_type": "code",
   "execution_count": 3,
   "id": "f5034c96-ea9c-408b-a831-8c172a16c118",
   "metadata": {},
   "outputs": [
    {
     "ename": "SyntaxError",
     "evalue": "invalid character '‘' (U+2018) (791989401.py, line 1)",
     "output_type": "error",
     "traceback": [
      "\u001b[0;36m  Cell \u001b[0;32mIn[3], line 1\u001b[0;36m\u001b[0m\n\u001b[0;31m    ‘pwskills’.upper().lower().isalnum()\u001b[0m\n\u001b[0m    ^\u001b[0m\n\u001b[0;31mSyntaxError\u001b[0m\u001b[0;31m:\u001b[0m invalid character '‘' (U+2018)\n"
     ]
    }
   ],
   "source": [
    "‘pwskills’.upper().lower().isalnum()\n"
   ]
  },
  {
   "cell_type": "code",
   "execution_count": 1,
   "id": "dbbc8e94-2c2d-47dd-ad76-a61e4e6e3757",
   "metadata": {},
   "outputs": [
    {
     "ename": "SyntaxError",
     "evalue": "invalid character '‘' (U+2018) (791989401.py, line 1)",
     "output_type": "error",
     "traceback": [
      "\u001b[0;36m  Cell \u001b[0;32mIn[1], line 1\u001b[0;36m\u001b[0m\n\u001b[0;31m    ‘pwskills’.upper().lower().isalnum()\u001b[0m\n\u001b[0m    ^\u001b[0m\n\u001b[0;31mSyntaxError\u001b[0m\u001b[0;31m:\u001b[0m invalid character '‘' (U+2018)\n"
     ]
    }
   ],
   "source": [
    "‘pwskills’.upper().lower().isalnum()\n"
   ]
  },
  {
   "cell_type": "code",
   "execution_count": 4,
   "id": "605de904-a8b1-42e0-bb22-e36e6b710981",
   "metadata": {},
   "outputs": [
    {
     "ename": "SyntaxError",
     "evalue": "invalid character '‘' (U+2018) (162956670.py, line 1)",
     "output_type": "error",
     "traceback": [
      "\u001b[0;36m  Cell \u001b[0;32mIn[4], line 1\u001b[0;36m\u001b[0m\n\u001b[0;31m    a = ‘pwskills’\u001b[0m\n\u001b[0m        ^\u001b[0m\n\u001b[0;31mSyntaxError\u001b[0m\u001b[0;31m:\u001b[0m invalid character '‘' (U+2018)\n"
     ]
    }
   ],
   "source": [
    "a = ‘pwskills’\n",
    "a.upper().lower().isalnum()\n"
   ]
  },
  {
   "cell_type": "code",
   "execution_count": 3,
   "id": "75044bfc-89f2-4e4d-90f7-dc4c40e9d848",
   "metadata": {},
   "outputs": [
    {
     "name": "stdout",
     "output_type": "stream",
     "text": [
      "['PRAKASH', 'KISON', 'RAJ', 'PREM']\n"
     ]
    }
   ],
   "source": [
    "l = [\"Prakash\" , \"Kison\",  \"Raj\" , \"Prem\"]\n",
    "\n",
    "l1 = []\n",
    "for i in l :\n",
    "    l1.append(i.upper())\n",
    "print(l1)\n",
    " "
   ]
  },
  {
   "cell_type": "code",
   "execution_count": null,
   "id": "90d687ac-5247-472e-9517-2ee81c6eb7d9",
   "metadata": {},
   "outputs": [],
   "source": [
    "\n",
    "l2 = []\n",
    "for i in l:\n",
    "    l.append(i.upper())\n",
    "\n",
    "print(l)"
   ]
  },
  {
   "cell_type": "code",
   "execution_count": null,
   "id": "6db4e8ef-80d1-4eca-9982-039173e85bf7",
   "metadata": {},
   "outputs": [],
   "source": []
  },
  {
   "cell_type": "code",
   "execution_count": 6,
   "id": "3db09142-c7a5-4e59-9cb3-3a37001d8bad",
   "metadata": {},
   "outputs": [
    {
     "name": "stdout",
     "output_type": "stream",
     "text": [
      "[21, 2, 3, 4, 8, 7]\n",
      "['abc', 'Prakash', 'singh']\n"
     ]
    }
   ],
   "source": [
    "l = [ 21,2,3,4,8,7, \"abc\" , \"Prakash\" , \"singh\"]\n",
    "l1 = []\n",
    "l2 = []\n",
    "for i in l:\n",
    "    if type(i) == int or type(i) == float :\n",
    "        l1.append(i)\n",
    "    else:\n",
    "        l2.append(i)\n",
    "print(l1)\n",
    "print(l2)"
   ]
  },
  {
   "cell_type": "code",
   "execution_count": null,
   "id": "6f44f8b4-402f-40d9-9631-14852fd9ea26",
   "metadata": {},
   "outputs": [],
   "source": []
  }
 ],
 "metadata": {
  "kernelspec": {
   "display_name": "Python 3 (ipykernel)",
   "language": "python",
   "name": "python3"
  },
  "language_info": {
   "codemirror_mode": {
    "name": "ipython",
    "version": 3
   },
   "file_extension": ".py",
   "mimetype": "text/x-python",
   "name": "python",
   "nbconvert_exporter": "python",
   "pygments_lexer": "ipython3",
   "version": "3.10.8"
  }
 },
 "nbformat": 4,
 "nbformat_minor": 5
}
