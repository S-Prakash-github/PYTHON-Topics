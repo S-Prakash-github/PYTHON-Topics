{
 "cells": [
  {
   "cell_type": "markdown",
   "id": "a3596591-6eb7-4f08-bd5a-d174ca0df1af",
   "metadata": {},
   "source": [
    "#### Login & Debugger"
   ]
  },
  {
   "cell_type": "markdown",
   "id": "74ef8798-8dd8-41c6-92b5-ef0dc7ffed68",
   "metadata": {},
   "source": [
    " Logging is a means of tracking events that happen when some software runs. Logging is important for software developing, debugging, and running. If you don't have any logging record and your program crashes, there are very few chances that you detect the cause of the problem"
   ]
  },
  {
   "cell_type": "code",
   "execution_count": 19,
   "id": "f3eb976d-2a73-4b20-98bc-88adca7ba929",
   "metadata": {},
   "outputs": [],
   "source": [
    "import logging"
   ]
  },
  {
   "cell_type": "code",
   "execution_count": 20,
   "id": "a2fc0cc7-743c-4408-b7d6-61bd609bf76f",
   "metadata": {},
   "outputs": [],
   "source": [
    "logging.basicConfig(filename = \"test.log\", level = logging.INFO)"
   ]
  },
  {
   "cell_type": "code",
   "execution_count": 21,
   "id": "8c4473cc-a1c6-4fcd-861d-bc8bc75f5a88",
   "metadata": {},
   "outputs": [],
   "source": [
    "logging.info(\"log this information\")"
   ]
  },
  {
   "cell_type": "code",
   "execution_count": 22,
   "id": "79326a6d-95ca-42b5-83cf-663d0d376c34",
   "metadata": {},
   "outputs": [],
   "source": [
    "logging.info(\"this is my logging\")"
   ]
  },
  {
   "cell_type": "code",
   "execution_count": null,
   "id": "4b2cf5d4-27d7-4407-a076-d90e9abfa719",
   "metadata": {},
   "outputs": [],
   "source": [
    "logging.warning(\"this is warning\")"
   ]
  },
  {
   "cell_type": "markdown",
   "id": "9c27f218-4a47-4f39-8e35-c9d086334efa",
   "metadata": {},
   "source": [
    " logging levels order determine the levels can be accessed below the basiconfigured level not above it\n",
    "\n",
    "- NOTSET\n",
    "- DEBUG\n",
    "- INFO\n",
    "- WARNING\n",
    "- ERROR\n",
    "- CRITICAL"
   ]
  },
  {
   "cell_type": "code",
   "execution_count": 24,
   "id": "7aff5326-dbc4-46df-b7fa-60066648e98a",
   "metadata": {},
   "outputs": [],
   "source": [
    "## \n",
    "logging.debug(\"this is debug\")"
   ]
  },
  {
   "cell_type": "code",
   "execution_count": 25,
   "id": "14b8dfae-c911-4491-b56c-61e67035e6e6",
   "metadata": {},
   "outputs": [
    {
     "name": "stderr",
     "output_type": "stream",
     "text": [
      "CRITICAL:root:this is critical\n"
     ]
    }
   ],
   "source": [
    "logging.critical(\"this is critical\")"
   ]
  },
  {
   "cell_type": "code",
   "execution_count": 29,
   "id": "48a61c74-0195-424e-8e2e-d3c8b7157783",
   "metadata": {},
   "outputs": [],
   "source": [
    "logging.shutdown()"
   ]
  },
  {
   "cell_type": "markdown",
   "id": "078e0e41-4763-4f8d-a68e-22415f60b90f",
   "metadata": {},
   "source": [
    "## to store the time of any changes made "
   ]
  },
  {
   "cell_type": "code",
   "execution_count": 1,
   "id": "2eb4fe22-9c03-4be2-9bae-c7a33234884d",
   "metadata": {},
   "outputs": [],
   "source": [
    "import logging"
   ]
  },
  {
   "cell_type": "code",
   "execution_count": 2,
   "id": "214e4ae8-725a-42e1-92d4-57059e6c899a",
   "metadata": {},
   "outputs": [],
   "source": [
    "logging.basicConfig(filename = \"test1.log\",level = logging.DEBUG, format =' %(asctime)s , %(message)s')"
   ]
  },
  {
   "cell_type": "code",
   "execution_count": 3,
   "id": "569e1100-3397-46a8-9e19-2e4e77e30fad",
   "metadata": {},
   "outputs": [],
   "source": [
    "logging.info(\"informatopm\")"
   ]
  },
  {
   "cell_type": "code",
   "execution_count": 4,
   "id": "335afb89-146f-4b68-aa75-8b599e96c911",
   "metadata": {},
   "outputs": [],
   "source": [
    "logging.error(\"this is error\")"
   ]
  },
  {
   "cell_type": "code",
   "execution_count": 5,
   "id": "6724be43-22ec-4bd8-9c6a-326cc22c0b8a",
   "metadata": {},
   "outputs": [],
   "source": [
    "logging.critical(\"this is critical\")"
   ]
  },
  {
   "cell_type": "code",
   "execution_count": 7,
   "id": "46cd2466-5446-47be-9fb6-28ca22aae277",
   "metadata": {},
   "outputs": [],
   "source": [
    "logging.shutdown()"
   ]
  },
  {
   "cell_type": "code",
   "execution_count": null,
   "id": "8f3edfe1-bcf9-4490-8765-dde84ac4d057",
   "metadata": {},
   "outputs": [],
   "source": []
  },
  {
   "cell_type": "code",
   "execution_count": 2,
   "id": "56c9bed3-ec56-4fe6-add2-f2924fedcbc9",
   "metadata": {},
   "outputs": [],
   "source": [
    "logging.basicConfig(filename = \"test2.log\" , level = logging.DEBUG , format = '%(asctime)s , %(message)s , %(name)s , %(levelname)s')"
   ]
  },
  {
   "cell_type": "code",
   "execution_count": 3,
   "id": "801f8ffa-6964-4191-bc6c-983bf0ab6a68",
   "metadata": {},
   "outputs": [],
   "source": [
    "logging.critical(\"this is critical\")\n",
    "logging.info(\"this is the information\")\n",
    "logging.error(\"this is the error\")"
   ]
  },
  {
   "cell_type": "code",
   "execution_count": null,
   "id": "7549d865-7d5f-42c1-a0e8-9a2c8f1400ec",
   "metadata": {},
   "outputs": [],
   "source": []
  },
  {
   "cell_type": "markdown",
   "id": "e22ebad9-51cb-455f-b0a4-aaf581b29098",
   "metadata": {},
   "source": [
    "## implementation of logging in a program"
   ]
  },
  {
   "cell_type": "code",
   "execution_count": 17,
   "id": "0e254767-d5d4-499d-b851-9a519f9a3100",
   "metadata": {},
   "outputs": [
    {
     "name": "stdout",
     "output_type": "stream",
     "text": [
      "[1, 2, 3, 4, 1, 2, 3, 4]\n",
      "['Prakash', 'singh', 'raj']\n"
     ]
    }
   ],
   "source": [
    "l = [1,2,3,4,[1,2,3,4],\"Prakash\",\"singh\",\"raj\"]\n",
    "l1=[]\n",
    "l2= []\n",
    "for i in l:\n",
    "    logging.info(\"we are iterating through a list and local variable is {}\".format(l))      ## placeholder for logging\n",
    "    if type(i) == list :\n",
    "        logging.info(\"we are inside if statement of the list inside the list\" + str(i))\n",
    "        for j in i :\n",
    "            logging.info(\"iterating through the list inside the list\")\n",
    "            if type(j) == int:\n",
    "                logging.info(\"I am inside if statement\")\n",
    "                l1.append(j)\n",
    "    elif type(i) == int :\n",
    "        l1.append(i)\n",
    "            \n",
    "    else:\n",
    "        l2.append(i)\n",
    "       \n",
    "    \n",
    "print(l1)\n",
    "\n",
    "print(l2)\n",
    "\n",
    "## logging the final result\n",
    "logging.info( \"My final list for int is {list_int} and str is {list_str}\".format(list_int = l1 ,list_str =  l2))"
   ]
  },
  {
   "cell_type": "code",
   "execution_count": null,
   "id": "678641a7-2603-4bf7-9caa-2eb2ac5570ca",
   "metadata": {},
   "outputs": [],
   "source": []
  },
  {
   "cell_type": "code",
   "execution_count": null,
   "id": "ded5b024-30ae-469d-a0d0-8395d8ad56d7",
   "metadata": {},
   "outputs": [],
   "source": []
  },
  {
   "cell_type": "code",
   "execution_count": null,
   "id": "5d48be95-0686-42e3-9a40-e199048ddc2e",
   "metadata": {},
   "outputs": [],
   "source": []
  },
  {
   "cell_type": "code",
   "execution_count": null,
   "id": "ac35825f-254e-4b38-9e38-483fb6480d15",
   "metadata": {},
   "outputs": [],
   "source": []
  },
  {
   "cell_type": "code",
   "execution_count": null,
   "id": "a5f1a083-ffe7-45b7-b061-8265edaeaea0",
   "metadata": {},
   "outputs": [],
   "source": []
  },
  {
   "cell_type": "code",
   "execution_count": null,
   "id": "857ede66-5014-48e3-b061-cdaca1c05a28",
   "metadata": {},
   "outputs": [],
   "source": [
    "\n"
   ]
  }
 ],
 "metadata": {
  "kernelspec": {
   "display_name": "Python 3 (ipykernel)",
   "language": "python",
   "name": "python3"
  },
  "language_info": {
   "codemirror_mode": {
    "name": "ipython",
    "version": 3
   },
   "file_extension": ".py",
   "mimetype": "text/x-python",
   "name": "python",
   "nbconvert_exporter": "python",
   "pygments_lexer": "ipython3",
   "version": "3.10.8"
  }
 },
 "nbformat": 4,
 "nbformat_minor": 5
}
