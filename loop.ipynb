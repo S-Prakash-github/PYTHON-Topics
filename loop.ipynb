{
 "cells": [
  {
   "cell_type": "markdown",
   "id": "9c087e80-2447-4c2f-8c5b-dbcca4633cb6",
   "metadata": {},
   "source": [
    "### FOR AND WHILE LOOP :-"
   ]
  },
  {
   "cell_type": "code",
   "execution_count": null,
   "id": "f5b9afff-811c-4bc2-9f19-c044b65a40ca",
   "metadata": {},
   "outputs": [],
   "source": [
    "# seperating the int float and str from the list\n",
    "l = [ 21,2,3,4,8,7, \"abc\" , \"Prakash\" , \"singh\"]\n",
    "l1 = []\n",
    "l2 = []\n",
    "for i in l:\n",
    "    if type(i) == int or type(i) == float :\n",
    "        l1.append(i)\n",
    "    else:\n",
    "        l2.append(i)\n",
    "print(l1)\n",
    "print(l2)"
   ]
  },
  {
   "cell_type": "code",
   "execution_count": null,
   "id": "3f5f86bd-e7eb-462c-8df8-7f1a2670d711",
   "metadata": {},
   "outputs": [],
   "source": [
    "# coverting the names in a list into uppercase\n",
    "l = [\"Prakash\" , \"Kison\",  \"Raj\" , \"Prem\"]\n",
    "\n",
    "l1 = []\n",
    "for i in l :\n",
    "    l1.append(i.upper())\n",
    "print(l1)\n",
    " "
   ]
  },
  {
   "cell_type": "code",
   "execution_count": null,
   "id": "8896dc9b-c193-443f-8915-34b1ec924890",
   "metadata": {},
   "outputs": [],
   "source": [
    "# printing all items from the list with its type\n",
    "l_ = [1,2,3,4,5, \"Prakash\" , \"Singh\"]\n",
    "for i in l_:\n",
    "    print(i,type(i))"
   ]
  },
  {
   "cell_type": "code",
   "execution_count": null,
   "id": "d62946f8-37db-483b-8e8f-dc896a19cab1",
   "metadata": {},
   "outputs": [],
   "source": [
    "# Example of break in a for loop with if else statement \n",
    "# break stops the for loop when i = Kison \n",
    "l = [\"Prakash\" , \"Kison\",  \"Raj\" , \"Prem\"]\n",
    "for i in l :\n",
    "    if i == \"Kison\":\n",
    "        break\n",
    "        \n",
    "    print(i)"
   ]
  },
  {
   "cell_type": "code",
   "execution_count": null,
   "id": "211d2d9b-88bb-4462-9bf9-ca9cb4ac8a11",
   "metadata": {},
   "outputs": [],
   "source": [
    "# else statement is not executed because the for loop is not completed its iteration\n",
    "for i in l :\n",
    "    if i == \"Raj\":\n",
    "        break\n",
    "    print(i)\n",
    "else:\n",
    "    print(\"Execute this only when for loop is completed\")\n"
   ]
  },
  {
   "cell_type": "code",
   "execution_count": null,
   "id": "741fe8d4-6806-4de2-b184-e37b5f1b223a",
   "metadata": {},
   "outputs": [],
   "source": [
    "# continue send imediate resopnse to the for loop in this case it iterates back to the for loop when the value of i = Raj\n",
    "for i in l :\n",
    "    if i == \"Raj\":\n",
    "        continue\n",
    "    print(i)\n",
    "else:\n",
    "    print(\"Execute\")"
   ]
  },
  {
   "cell_type": "code",
   "execution_count": null,
   "id": "421c1af6-f44e-472f-a17c-34a45f746999",
   "metadata": {},
   "outputs": [],
   "source": [
    "list(range(10))"
   ]
  },
  {
   "cell_type": "code",
   "execution_count": null,
   "id": "444f9def-6def-43e2-9132-7e296478f6a5",
   "metadata": {},
   "outputs": [],
   "source": [
    "list(range(0,20,2))"
   ]
  },
  {
   "cell_type": "code",
   "execution_count": null,
   "id": "39f11003-cfe4-493e-b75c-3da4407beba4",
   "metadata": {},
   "outputs": [],
   "source": [
    "list(range(-10,0))"
   ]
  },
  {
   "cell_type": "raw",
   "id": "3253fb94-d6e7-4d48-9589-189eea80a003",
   "metadata": {},
   "source": [
    "## Data in reverse order by a list using for loop"
   ]
  },
  {
   "cell_type": "code",
   "execution_count": null,
   "id": "e2c20bd4-59e7-401e-8c90-5dca4f2b41a0",
   "metadata": {},
   "outputs": [],
   "source": [
    "print(l)\n",
    "list(range(len(l)))"
   ]
  },
  {
   "cell_type": "code",
   "execution_count": null,
   "id": "6c7e4458-4d50-425a-8e82-85c24cb8ead2",
   "metadata": {},
   "outputs": [],
   "source": [
    "for i in range(len(l)):\n",
    "    print(l[i])"
   ]
  },
  {
   "cell_type": "code",
   "execution_count": null,
   "id": "f2471f89-0684-4bee-9290-20a470c198b4",
   "metadata": {},
   "outputs": [],
   "source": [
    "## Printing the even values from the list\n",
    "l = [ 4,4,5,7,8,7,9,87,8,855,477,889]\n",
    "l2 = []\n",
    "for i in l:\n",
    "    if i%2 == 0 or i == 0 :\n",
    "        print(i)\n",
    "        l2.append(i)\n",
    "        \n",
    "print(l2)\n",
    "    \n"
   ]
  },
  {
   "cell_type": "code",
   "execution_count": null,
   "id": "6765534e-f75b-46cc-a73a-816fb4f39e2d",
   "metadata": {},
   "outputs": [],
   "source": [
    "## Printing the values in even index\n",
    "list(range(0, len(l) , 2))"
   ]
  },
  {
   "cell_type": "code",
   "execution_count": null,
   "id": "2c2e5873-b6f4-409a-9d3d-2f777b8c3206",
   "metadata": {},
   "outputs": [],
   "source": [
    "for i in range(0 , len(l) , 2 ):\n",
    "    print(l[i])"
   ]
  },
  {
   "cell_type": "code",
   "execution_count": null,
   "id": "9191432d-19b7-4289-92a2-309bef3b7ed5",
   "metadata": {},
   "outputs": [],
   "source": [
    "## Sum of all elements in the list\n",
    "l"
   ]
  },
  {
   "cell_type": "code",
   "execution_count": null,
   "id": "dc00ef35-97f7-47b2-8a49-85827a649c1d",
   "metadata": {},
   "outputs": [],
   "source": [
    "result = 0\n",
    "for i in l5:\n",
    "    result = result + i\n",
    "print(result)"
   ]
  },
  {
   "cell_type": "code",
   "execution_count": null,
   "id": "f5b21288-5f86-453d-b3d2-fd44f7e3e4ef",
   "metadata": {},
   "outputs": [],
   "source": [
    "## second menthod\n",
    "l5 = [ 4,4,5,7,8,7,9,87,8,855,477,889]\n",
    "output =  0\n",
    "for i in l5:\n",
    "     output = sum(l5)\n",
    "print(output)"
   ]
  },
  {
   "cell_type": "code",
   "execution_count": null,
   "id": "4fef22ed-51bc-4f64-8bd7-cc8ce89a22b4",
   "metadata": {},
   "outputs": [],
   "source": [
    "## Iterating through strings\n",
    "s = \"Prakash\"\n",
    "for i in s:\n",
    "    print(i)"
   ]
  },
  {
   "cell_type": "code",
   "execution_count": null,
   "id": "68521de7-5f91-4788-abc6-98d397c627ff",
   "metadata": {},
   "outputs": [],
   "source": [
    "## Iterating through tuple\n",
    "t = (1,2,5,\"Prakash\")\n",
    "for i in t:\n",
    "    print(i)"
   ]
  },
  {
   "cell_type": "code",
   "execution_count": null,
   "id": "9d8503eb-f7ac-452f-89c3-012aa3d9462d",
   "metadata": {},
   "outputs": [],
   "source": [
    "## Iterating through set\n",
    "se = {1,2,22,5,7,5,2,2,1}\n",
    "for i in se:\n",
    "    print(i)"
   ]
  },
  {
   "cell_type": "code",
   "execution_count": null,
   "id": "24a8f6c4-ea90-4e3a-8f6a-4aeb9684fe19",
   "metadata": {},
   "outputs": [],
   "source": [
    "## Iterating through dict\n",
    "d = { \"Name\" : \"Prakash\" ,\"Class\":\"DataSCience\" , \"topics\" :[ \"Sub1\" , \"Python\" , \"Sub2\" , \"Statistics\" , \"Sub3\" , \"ML\"]}\n",
    "print(d)\n",
    "d.keys()"
   ]
  },
  {
   "cell_type": "code",
   "execution_count": null,
   "id": "a6423d7e-0c1c-40aa-a7c3-4ad9adbaadaf",
   "metadata": {},
   "outputs": [],
   "source": [
    "for i in d.keys() :\n",
    "    print(d[i])"
   ]
  },
  {
   "cell_type": "code",
   "execution_count": null,
   "id": "4d2a250e-c44e-42dc-99f2-963bb1dd2b84",
   "metadata": {},
   "outputs": [],
   "source": [
    "for i in d.values():\n",
    "    print(i)"
   ]
  },
  {
   "cell_type": "code",
   "execution_count": null,
   "id": "6a61e957-bbd7-41e4-9975-81e27611a39e",
   "metadata": {},
   "outputs": [],
   "source": [
    "for i in d.items():\n",
    "    print(i)"
   ]
  },
  {
   "cell_type": "code",
   "execution_count": null,
   "id": "83c6bc4d-cf15-435b-8d42-679a4b2f4eb4",
   "metadata": {},
   "outputs": [],
   "source": [
    "## WHILE LOOP\n",
    "# A \"While\" Loop is used to repeat a specific block of code an unknown number of times, until a condition is met."
   ]
  },
  {
   "cell_type": "code",
   "execution_count": null,
   "id": "c2da834d-3ed8-4368-9abc-1998b5dcc0f0",
   "metadata": {},
   "outputs": [],
   "source": [
    "# While loop first checks the conditon then iterates through the loop\n",
    "a = 1\n",
    "while a <= 10:\n",
    "    print(a)\n",
    "    a =  a +1"
   ]
  },
  {
   "cell_type": "code",
   "execution_count": null,
   "id": "078cf31e-d80a-42f3-a61c-95ec905e14f5",
   "metadata": {},
   "outputs": [],
   "source": [
    "# Sumation of n numbers\n",
    "n = int(input(\"Enter your limit : \"))\n",
    "start = 0\n",
    "counter = 1        \n",
    "while counter <= n:\n",
    "        start = start + counter\n",
    "        counter = counter +1\n",
    "start\n"
   ]
  },
  {
   "cell_type": "code",
   "execution_count": null,
   "id": "cf02800b-c47c-4f69-975a-432d15e63d6c",
   "metadata": {},
   "outputs": [],
   "source": [
    "## Factorial of a number\n",
    "f = int(input(\"Enter the number to find the factorial\"))\n",
    "factorial = 1 \n",
    "while f > 0:\n",
    "    factorial = factorial * f\n",
    "    f = f - 1 \n",
    "factorial\n",
    "        "
   ]
  },
  {
   "cell_type": "code",
   "execution_count": null,
   "id": "f2232efe-8cda-4b2c-8b7b-a185e65ebe40",
   "metadata": {},
   "outputs": [],
   "source": [
    "## Fibonacci series\n",
    "number = int(input(\"Enter the number:\"))\n",
    "a , b = 0 , 1 \n",
    "counter = 0\n",
    "while counter < number :\n",
    "    print(a)\n",
    "    c = a+b\n",
    "    a = b \n",
    "    b = c \n",
    "    counter = counter +1 \n"
   ]
  },
  {
   "cell_type": "code",
   "execution_count": null,
   "id": "b62941e6-cd21-43fd-830d-807ea0b8186c",
   "metadata": {},
   "outputs": [],
   "source": [
    "# for loop is maintaing the counter on its own so don't need counter variable\n",
    "number = int(input(\"Enter the range of number:\"))\n",
    "a,b = 0,1\n",
    "for i in range(n):\n",
    "    print(a)\n",
    "    c = a+b\n",
    "    a = b \n",
    "    b = c "
   ]
  },
  {
   "cell_type": "code",
   "execution_count": null,
   "id": "81fb12aa-60d1-4ee1-84f9-dca3cd69f7e8",
   "metadata": {},
   "outputs": [],
   "source": [
    "## Reversing the srting using while loop\n",
    "string = input(\"Enter the string :\")\n",
    "reverse = \"\"\n",
    "length = len(string)\n",
    "while length > 0 :\n",
    "    reverse = reverse + string[length - 1]\n",
    "    length = length - 1 \n",
    "print(reverse)"
   ]
  },
  {
   "cell_type": "code",
   "execution_count": null,
   "id": "9f092d69-f331-489d-a702-5c1c4e27d50f",
   "metadata": {},
   "outputs": [],
   "source": [
    "## Table of a number \n",
    "number = int(input(\"Enter the number :\"))\n",
    "i = 1 \n",
    "while i <= 10 :\n",
    "    result = number * i\n",
    "    print(number , \"*\" , i , \"=\" , result)\n",
    "    i = i + 1 "
   ]
  },
  {
   "cell_type": "code",
   "execution_count": null,
   "id": "f2a10ab3-4b82-4d6c-b422-d956d64b8d15",
   "metadata": {},
   "outputs": [],
   "source": [
    "number = int(input(\"Enter the number :\"))\n",
    "for i in range(11):\n",
    "    result = i * number\n",
    "    print(number , \"*\" , i , \"=\" , result)\n",
    "    "
   ]
  },
  {
   "cell_type": "code",
   "execution_count": null,
   "id": "e5b0c7c6-fc02-4077-b1fc-558dd93bbc31",
   "metadata": {},
   "outputs": [],
   "source": [
    "n = 8 \n",
    "i = 1 \n",
    "while i < n:\n",
    "    print(i)\n",
    "    i = i +1 \n",
    "else:\n",
    "    print(False)"
   ]
  },
  {
   "cell_type": "code",
   "execution_count": null,
   "id": "46f85a7f-8c4a-4ba0-9609-b566d590376a",
   "metadata": {},
   "outputs": [],
   "source": [
    "n = 8 \n",
    "i = 1 \n",
    "while i < n:\n",
    "    print(i)\n",
    "    if i == 5:\n",
    "        break\n",
    "    i = i +1 \n",
    "else:\n",
    "    print(False)"
   ]
  },
  {
   "cell_type": "code",
   "execution_count": null,
   "id": "3d21b057-7c0d-4d21-9e52-cd629146fc8a",
   "metadata": {},
   "outputs": [],
   "source": [
    "# Checking if a number if armstrong or not\n",
    "n =  str(input(\"Enter a number ::\"))\n",
    "result = 0\n",
    "for i in n:\n",
    "    multiple = int(i)*int(i)*int(i)\n",
    "    \n",
    "    result = result + multiple\n",
    "if result == int(n) :\n",
    "    print(n, \" is a armstrong number.\",\"\\n\",result,\" Is the result\")\n",
    "else:\n",
    "    print(\"It is not a armstrong number:\" , result)"
   ]
  },
  {
   "cell_type": "code",
   "execution_count": null,
   "id": "c0642f3e-db67-4058-93d1-4cc1d7e3054e",
   "metadata": {},
   "outputs": [],
   "source": [
    "## Using while loop to find a number is armstrong or not\n",
    "num = input(\"Enter the number:\")\n",
    "list_num = list(num)\n",
    "print(list_num)\n",
    "result = 0\n",
    "i = 0\n",
    "length = len(str(num))\n",
    "while i < length :\n",
    "    multiple = int(list_num[i])**3\n",
    "    result = result + multiple\n",
    "    i = i + 1 \n",
    "print(result)"
   ]
  },
  {
   "cell_type": "code",
   "execution_count": null,
   "id": "075860ca-dde1-4e45-945f-d6a7fb7ad4df",
   "metadata": {},
   "outputs": [],
   "source": [
    "num = int(input(\"Enter a Number:\"))\n",
    "order = len(str(num))\n",
    "temp = num;\n",
    "sum = 0\n",
    "while(temp>0):\n",
    "    digit =temp%10\n",
    "    sum += digit **order\n",
    "    temp = temp//10\n",
    "if(sum==num):\n",
    "    print(\"\",num,\"is an Armstrong number\")\n",
    "else:\n",
    "    print(\"\",num,\"is not an Armstrong number\")"
   ]
  },
  {
   "cell_type": "code",
   "execution_count": 2,
   "id": "731fdf20-f86a-403d-bb1b-ddf0c90c5791",
   "metadata": {},
   "outputs": [
    {
     "name": "stdin",
     "output_type": "stream",
     "text": [
      "Enter a number : 50\n",
      "Enter a number : 14\n",
      "Enter a number : -1\n",
      "Enter a number : -2\n",
      "Enter a number : 0\n"
     ]
    },
    {
     "name": "stdout",
     "output_type": "stream",
     "text": [
      "64\n",
      "-3\n"
     ]
    }
   ],
   "source": [
    "### Program to enter a number until the user enter a zero and find the sum of all the negative and postive number s entered\n",
    "sum_negative = 0\n",
    "sum_positive = 0\n",
    "n = 1\n",
    "while (n != 0 ):\n",
    "    n = int(input(\"Enter a number :\"))\n",
    "    if n>0 :\n",
    "        sum_positive = sum_positive + n      \n",
    "    else :\n",
    "        sum_negative = sum_negative + n\n",
    "        \n",
    "print(sum_positive)\n",
    "print(sum_negative)"
   ]
  },
  {
   "cell_type": "code",
   "execution_count": null,
   "id": "69f80db6-2835-416a-9d06-2a3f1411f238",
   "metadata": {},
   "outputs": [],
   "source": [
    "## program to take n numbers as user input until the user stops and find out the sum of the numbers\n",
    "result = 0\n",
    "Title = \"type + to get the sum of all the numbers you have entered\"\n",
    "stop = 'Y'\n",
    "while stop == \"Y\":\n",
    "        n = int(input(\"Enter a number ;\"))\n",
    "        result = result + n\n",
    "        stop = input(\"Enter N if you want to stop\")\n",
    "        print(result)"
   ]
  },
  {
   "cell_type": "code",
   "execution_count": null,
   "id": "f89eafe3-db47-4b1a-8f09-e83c9e6c6847",
   "metadata": {},
   "outputs": [],
   "source": [
    "## "
   ]
  },
  {
   "cell_type": "code",
   "execution_count": null,
   "id": "970a6852-d4ba-4597-9b43-f993b91ed3f5",
   "metadata": {},
   "outputs": [],
   "source": []
  }
 ],
 "metadata": {
  "kernelspec": {
   "display_name": "Python 3 (ipykernel)",
   "language": "python",
   "name": "python3"
  },
  "language_info": {
   "codemirror_mode": {
    "name": "ipython",
    "version": 3
   },
   "file_extension": ".py",
   "mimetype": "text/x-python",
   "name": "python",
   "nbconvert_exporter": "python",
   "pygments_lexer": "ipython3",
   "version": "3.10.8"
  }
 },
 "nbformat": 4,
 "nbformat_minor": 5
}
