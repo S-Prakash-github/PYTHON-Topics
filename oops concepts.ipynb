{
 "cells": [
  {
   "cell_type": "code",
   "execution_count": 1,
   "id": "2f9f2863-8ace-4e31-8eee-28815e67ca4a",
   "metadata": {},
   "outputs": [],
   "source": [
    "l = list(range(1,101))"
   ]
  },
  {
   "cell_type": "code",
   "execution_count": null,
   "id": "d80295a3-7429-4c73-93eb-fb7350ab73df",
   "metadata": {},
   "outputs": [],
   "source": []
  },
  {
   "cell_type": "code",
   "execution_count": null,
   "id": "85c4a27c-f3a4-4c2a-8283-0e0145b5523b",
   "metadata": {},
   "outputs": [],
   "source": [
    "## Creating a list containing values from 1 to 100\n",
    "l = []\n",
    "i =1\n",
    "\n",
    "while i < 101:\n",
    "    if i%4 == 0 or i%5 == 0:\n",
    "        l.append(i**3)\n",
    "        i = i + 1\n",
    "print(l)"
   ]
  },
  {
   "cell_type": "code",
   "execution_count": null,
   "id": "8ea6a84d-bf46-4864-b79c-4d46b327270f",
   "metadata": {},
   "outputs": [],
   "source": [
    "## finding out the numbers divisible by 4 and 5\n",
    "l2 = []   ## creating an empty list\n",
    "\n",
    "## Looping through l \n",
    "for i in range(1,101):\n",
    "    if  i%4 == 0 or i%5 == 0:\n",
    "        l2.append(i**3)\n",
    "        \n",
    "print(l2) ## final list"
   ]
  },
  {
   "cell_type": "code",
   "execution_count": 2,
   "id": "1eb28209-6f4f-4550-b1a5-13f53f19fd51",
   "metadata": {},
   "outputs": [
    {
     "name": "stdout",
     "output_type": "stream",
     "text": [
      "[1, 2, 3, 4, 5, 6, 7, 8, 9, 10, 11, 12, 13, 14, 15, 16, 17, 18, 19, 20, 21, 22, 23, 24, 25, 26, 27, 28, 29, 30, 31, 32, 33, 34, 35, 36, 37, 38, 39, 40, 41, 42, 43, 44, 45, 46, 47, 48, 49, 50, 51, 52, 53, 54, 55, 56, 57, 58, 59, 60, 61, 62, 63, 64, 65, 66, 67, 68, 69, 70, 71, 72, 73, 74, 75, 76, 77, 78, 79, 80, 81, 82, 83, 84, 85, 86, 87, 88, 89, 90, 91, 92, 93, 94, 95, 96, 97, 98, 99, 100]\n"
     ]
    }
   ],
   "source": [
    "l = list(range(1,101))\n",
    "print(l)"
   ]
  },
  {
   "cell_type": "code",
   "execution_count": 4,
   "id": "a5dec812-7292-4de2-aeeb-da0e04e2fcd5",
   "metadata": {},
   "outputs": [
    {
     "name": "stdout",
     "output_type": "stream",
     "text": [
      "[64, 125, 512, 1000, 1728, 3375, 4096, 8000, 13824, 15625, 21952, 27000, 32768, 42875, 46656, 64000, 85184, 91125, 110592, 125000, 140608, 166375, 175616, 216000, 262144, 274625, 314432, 343000, 373248, 421875, 438976, 512000, 592704, 614125, 681472, 729000, 778688, 857375, 884736, 1000000]\n"
     ]
    }
   ],
   "source": [
    "l2 = []\n",
    "for i in l :\n",
    "    if i %4 ==0 or i %5 == 0:\n",
    "        l2.append(i**3)\n",
    "print(l2)\n",
    "      "
   ]
  },
  {
   "cell_type": "code",
   "execution_count": null,
   "id": "cb66c03a-3c1d-4aa7-b948-d50f3c669c65",
   "metadata": {},
   "outputs": [],
   "source": [
    "##Write a Python program to guess a number between 1 to 9.\n",
    "#Note : User is prompted to enter a guess. If the user guesses wrong then the prompt appears again until the guess is correct, on\n",
    "#successful guess, user will get a \"Well guessed!\" message, and the program will exit\n",
    "\n",
    "\n",
    "import random\n",
    "\n",
    "while True:\n",
    "    n = int(input(\"Enter a number:\"))\n",
    "    random_num = random.randint(0,10)\n",
    "    print(random_num ,\"hoga\")\n",
    "    if n ==  random_num :\n",
    "        print(\"nice tukka\")\n",
    "        break"
   ]
  },
  {
   "cell_type": "code",
   "execution_count": null,
   "id": "e94b5592-27a2-4966-854d-0ffcca186990",
   "metadata": {},
   "outputs": [],
   "source": []
  },
  {
   "cell_type": "code",
   "execution_count": null,
   "id": "9d90fa79-4cc4-40a6-b028-d8703cadffa6",
   "metadata": {},
   "outputs": [],
   "source": []
  },
  {
   "cell_type": "markdown",
   "id": "6dbdb9ad-0e19-4675-8802-42747ae9bf4e",
   "metadata": {},
   "source": [
    "#### Decorators"
   ]
  },
  {
   "cell_type": "code",
   "execution_count": 14,
   "id": "efa5ee5a-90f2-441e-a36f-1937f071b4ab",
   "metadata": {},
   "outputs": [],
   "source": [
    "## we have to write the statements repetedly to avoid this we use decorators\n",
    "def fun():\n",
    "    print(\"start\")\n",
    "    print(\"bottom\")\n",
    "    print(\"end\")"
   ]
  },
  {
   "cell_type": "code",
   "execution_count": 26,
   "id": "4bb464be-7cd9-40ee-9f5d-1d9cfefd5ebf",
   "metadata": {},
   "outputs": [],
   "source": [
    "##\n",
    "def deco(world):\n",
    "    def inner_dec():\n",
    "        print(\"start\")\n",
    "        world()\n",
    "        print(\"bottom\")\n",
    "       \n",
    "    return inner_dec"
   ]
  },
  {
   "cell_type": "code",
   "execution_count": 27,
   "id": "9eb4d4e3-c48f-4e26-b0f4-f8ebaff7fc03",
   "metadata": {},
   "outputs": [],
   "source": [
    "@deco\n",
    "def test1 ():\n",
    "    print(\"Infinite\")"
   ]
  },
  {
   "cell_type": "code",
   "execution_count": 28,
   "id": "04edc641-e627-4092-ab6a-6da20704b7d1",
   "metadata": {},
   "outputs": [
    {
     "name": "stdout",
     "output_type": "stream",
     "text": [
      "start\n",
      "Infinite\n",
      "bottom\n"
     ]
    }
   ],
   "source": [
    "test1()"
   ]
  },
  {
   "cell_type": "code",
   "execution_count": 44,
   "id": "8fe15365-56c0-4c64-b304-81a2c9625a8c",
   "metadata": {},
   "outputs": [],
   "source": [
    "## time taken by a function for execution\n",
    "## CREATING DECORATORR\n",
    "import time\n"
   ]
  },
  {
   "cell_type": "code",
   "execution_count": 56,
   "id": "53ef4e77-e04d-47d0-b367-cafdc1755c31",
   "metadata": {},
   "outputs": [],
   "source": [
    "def timer_test(function):\n",
    "    def inner():\n",
    "        start = time.time()\n",
    "        function()\n",
    "        end = time.time()\n",
    "        print(end-start)\n",
    "    return inner"
   ]
  },
  {
   "cell_type": "code",
   "execution_count": 57,
   "id": "561238b7-308e-41ad-9e84-61ac0dab9d43",
   "metadata": {},
   "outputs": [],
   "source": [
    "@timer_test\n",
    "def test2():\n",
    "    print(5+88)"
   ]
  },
  {
   "cell_type": "code",
   "execution_count": 58,
   "id": "e744ef2c-88c2-49c0-a58d-7a90bf7c8036",
   "metadata": {},
   "outputs": [
    {
     "name": "stdout",
     "output_type": "stream",
     "text": [
      "93\n",
      "4.6253204345703125e-05\n"
     ]
    }
   ],
   "source": [
    "test2()"
   ]
  },
  {
   "cell_type": "code",
   "execution_count": 75,
   "id": "4afc921f-965e-4daf-8daa-9f6c70cc05ac",
   "metadata": {},
   "outputs": [],
   "source": [
    "@timer_test\n",
    "def test3():\n",
    "    for i in range (1,10):\n",
    "        print(i)"
   ]
  },
  {
   "cell_type": "code",
   "execution_count": 76,
   "id": "0da97d6b-e475-466c-b209-3bf3bb756c6b",
   "metadata": {},
   "outputs": [
    {
     "name": "stdout",
     "output_type": "stream",
     "text": [
      "1\n",
      "2\n",
      "3\n",
      "4\n",
      "5\n",
      "6\n",
      "7\n",
      "8\n",
      "9\n",
      "8.082389831542969e-05\n"
     ]
    }
   ],
   "source": [
    "test3()"
   ]
  },
  {
   "cell_type": "code",
   "execution_count": null,
   "id": "1336d233-81ff-418f-a679-0219dd4c42cf",
   "metadata": {},
   "outputs": [],
   "source": []
  },
  {
   "cell_type": "markdown",
   "id": "dd2d2b83-fa6a-4952-8eba-2b152bf141f5",
   "metadata": {},
   "source": [
    "#### CLass Method"
   ]
  },
  {
   "cell_type": "code",
   "execution_count": 78,
   "id": "337db24f-97fc-48ce-8d92-e0f24dadf8aa",
   "metadata": {},
   "outputs": [],
   "source": [
    "class datascience:\n",
    "    def __init__ (self, name, email):\n",
    "        self.name = name\n",
    "        self.email = email\n",
    "    def student_details(self):\n",
    "        print(self.name,self.email)"
   ]
  },
  {
   "cell_type": "code",
   "execution_count": 83,
   "id": "5bade34e-e156-4549-bfeb-6af5fc4a7912",
   "metadata": {},
   "outputs": [
    {
     "data": {
      "text/plain": [
       "'hsfhk@gmail.com'"
      ]
     },
     "execution_count": 83,
     "metadata": {},
     "output_type": "execute_result"
    }
   ],
   "source": [
    "prakash = datascience(\"Singh\",\"hsfhk@gmail.com\")\n",
    "prakash.name\n",
    "prakash.email"
   ]
  },
  {
   "cell_type": "code",
   "execution_count": 84,
   "id": "eb2c1669-3c06-403d-bc44-aef42319bb29",
   "metadata": {},
   "outputs": [
    {
     "name": "stdout",
     "output_type": "stream",
     "text": [
      "Singh hsfhk@gmail.com\n"
     ]
    }
   ],
   "source": [
    "prakash.student_details()"
   ]
  },
  {
   "cell_type": "code",
   "execution_count": 90,
   "id": "e350085c-7bba-4428-9918-1cdeaf6d9b98",
   "metadata": {},
   "outputs": [],
   "source": [
    "## cls binds the method with class without the creation of an object\n",
    "class datascience1:\n",
    "    def __init__ (self, name, email):\n",
    "        self.name = name\n",
    "        self.email = email\n",
    "    \n",
    "    @classmethod ## instead of calling the init method we can access the data because of the class method decorator\n",
    "    def student_details1 (cls,name,email):\n",
    "        return cls(name,email)\n",
    "                          \n",
    "                          \n",
    "    def student_details(self):\n",
    "        print(self.name,self.email)\n",
    "        \n",
    "## without creating an object we can pass data to a class\n",
    "# will be able to use it in any other method inside the class"
   ]
  },
  {
   "cell_type": "code",
   "execution_count": 94,
   "id": "95e6a05a-ca42-4c39-9749-50f77027d129",
   "metadata": {},
   "outputs": [],
   "source": [
    "## access the method with out init method\n",
    "pw = datascience1.student_details1(\"Prakash\",\"raj190344@gmail.com\")"
   ]
  },
  {
   "cell_type": "code",
   "execution_count": 95,
   "id": "d6fe565c-d2ac-4ab5-8811-0ac5da86d44c",
   "metadata": {},
   "outputs": [
    {
     "data": {
      "text/plain": [
       "'Prakash'"
      ]
     },
     "execution_count": 95,
     "metadata": {},
     "output_type": "execute_result"
    }
   ],
   "source": [
    "pw.name"
   ]
  },
  {
   "cell_type": "code",
   "execution_count": 96,
   "id": "d5a3ddff-986c-4767-bde1-0f0694bf8584",
   "metadata": {},
   "outputs": [
    {
     "data": {
      "text/plain": [
       "'raj190344@gmail.com'"
      ]
     },
     "execution_count": 96,
     "metadata": {},
     "output_type": "execute_result"
    }
   ],
   "source": [
    "pw.email"
   ]
  },
  {
   "cell_type": "code",
   "execution_count": null,
   "id": "61c9e1c6-bee1-437a-8b4d-b64c20e4246a",
   "metadata": {},
   "outputs": [],
   "source": []
  },
  {
   "cell_type": "code",
   "execution_count": 2,
   "id": "a9279315-1255-44e4-be6b-17f39155cf8c",
   "metadata": {},
   "outputs": [],
   "source": [
    "class datascience2:\n",
    "    \n",
    "    ## class variable (this is directly available to the class\n",
    "    mobile_num = 5447677888\n",
    "    \n",
    "    def __init__ (self, name, email):\n",
    "        self.name = name\n",
    "        self.email = email\n",
    "        \n",
    "    @classmethod\n",
    "    def change_num(cls,number):\n",
    "        datascience2.mobile_num = number\n",
    "    \n",
    "    @classmethod \n",
    "    \n",
    "    def student_details1 (cls,name,email):\n",
    "        return cls(name,email)\n",
    "                          \n",
    "                          \n",
    "    def student_details(self):\n",
    "        print(self.name,self.email,datascience2.mobile_num)## mobile_num is associated with class so no self"
   ]
  },
  {
   "cell_type": "code",
   "execution_count": 3,
   "id": "8621dbf3-06f3-4472-9d45-a52a4868d985",
   "metadata": {},
   "outputs": [
    {
     "data": {
      "text/plain": [
       "5447677888"
      ]
     },
     "execution_count": 3,
     "metadata": {},
     "output_type": "execute_result"
    }
   ],
   "source": [
    "## we can access the class variable without even creating an object\n",
    "datascience2.mobile_num"
   ]
  },
  {
   "cell_type": "code",
   "execution_count": 4,
   "id": "04108558-08cc-4e60-9524-dd9b2d41bfd7",
   "metadata": {},
   "outputs": [],
   "source": [
    "datascience2.change_num(4464646464)"
   ]
  },
  {
   "cell_type": "code",
   "execution_count": 5,
   "id": "b58a1aab-e949-45c7-92e9-e2a114e04c73",
   "metadata": {},
   "outputs": [
    {
     "data": {
      "text/plain": [
       "4464646464"
      ]
     },
     "execution_count": 5,
     "metadata": {},
     "output_type": "execute_result"
    }
   ],
   "source": [
    "datascience2.mobile_num"
   ]
  },
  {
   "cell_type": "code",
   "execution_count": 6,
   "id": "6abb52d1-3446-41c7-a105-e046df30c4ce",
   "metadata": {},
   "outputs": [],
   "source": [
    "pwobj = datascience2(\"Prakash\",\"rahaj@gmail.com\")"
   ]
  },
  {
   "cell_type": "code",
   "execution_count": 11,
   "id": "84e6bfcd-a0af-4eb8-b2db-8a39df9ec780",
   "metadata": {},
   "outputs": [
    {
     "name": "stdout",
     "output_type": "stream",
     "text": [
      "Prakash rahaj@gmail.com 4464646464\n"
     ]
    }
   ],
   "source": [
    "pwobj.student_details()"
   ]
  },
  {
   "cell_type": "code",
   "execution_count": 18,
   "id": "308a34b7-58bd-4d77-b095-135183beb824",
   "metadata": {},
   "outputs": [],
   "source": [
    "pw = datascience2(\"Singh\",\"Hhfksah\")"
   ]
  },
  {
   "cell_type": "code",
   "execution_count": 17,
   "id": "2b81b02a-b3bd-4f8b-a814-b2e7463bd40d",
   "metadata": {},
   "outputs": [
    {
     "name": "stdout",
     "output_type": "stream",
     "text": [
      "Singh Hhfksah 4464646464\n"
     ]
    }
   ],
   "source": [
    "pw.student_details()"
   ]
  },
  {
   "cell_type": "code",
   "execution_count": 20,
   "id": "2c348ad0-9ad0-4786-8882-62c14641c9fd",
   "metadata": {},
   "outputs": [],
   "source": [
    "datascience2.change_num(95444444)"
   ]
  },
  {
   "cell_type": "code",
   "execution_count": 21,
   "id": "c5bf1532-4e6a-4807-be92-b6111c805ffc",
   "metadata": {},
   "outputs": [
    {
     "name": "stdout",
     "output_type": "stream",
     "text": [
      "Singh Hhfksah 95444444\n"
     ]
    }
   ],
   "source": [
    "pw.student_details()"
   ]
  },
  {
   "cell_type": "code",
   "execution_count": null,
   "id": "c4eb5936-a4a5-4ff8-b9c2-c0481f87f90d",
   "metadata": {},
   "outputs": [],
   "source": []
  },
  {
   "cell_type": "code",
   "execution_count": null,
   "id": "50cb5015-cda8-45fd-95e6-8181570664e1",
   "metadata": {},
   "outputs": [],
   "source": []
  },
  {
   "cell_type": "code",
   "execution_count": 33,
   "id": "cc5cbd8f-5cc8-428a-9e18-3f10d084d01a",
   "metadata": {},
   "outputs": [],
   "source": [
    "class datascience3:\n",
    "    \n",
    "    ## class variable (this is directly available to the class\n",
    "    mobile_num = 5447677888\n",
    "    \n",
    "    def __init__ (self, name, email):\n",
    "        self.name = name\n",
    "        self.email = email\n",
    "        \n",
    "    @classmethod\n",
    "    def change_num(cls,number):\n",
    "        datascience2.mobile_num = number\n",
    "    \n",
    "    @classmethod \n",
    "    \n",
    "    def student_details1 (cls,name,email):\n",
    "        return cls(name,email)\n",
    "                          \n",
    "                          \n",
    "    def student_details(self):\n",
    "        print(self.name,self.email,datascience2.mobile_num)\n",
    "##         print(self.name,self.email,datascience2.mobile_num)## mobile_num is associated with class so no self"
   ]
  },
  {
   "cell_type": "code",
   "execution_count": 34,
   "id": "7688c0b3-46a6-4ab9-acb5-35d35f9efae3",
   "metadata": {},
   "outputs": [],
   "source": [
    "## adding external functoin inside a class\n",
    "def course_Details(cls,course_name):\n",
    "    return(course_name)\n",
    "    "
   ]
  },
  {
   "cell_type": "code",
   "execution_count": 35,
   "id": "ac69bd72-98ac-412d-a692-005c1f23cd79",
   "metadata": {},
   "outputs": [],
   "source": [
    "datascience3.course_Details = classmethod(course_Details)"
   ]
  },
  {
   "cell_type": "code",
   "execution_count": 36,
   "id": "6ed42d1f-9d5b-4039-a6a3-89cb5cc0cc78",
   "metadata": {},
   "outputs": [
    {
     "data": {
      "text/plain": [
       "'Data Science'"
      ]
     },
     "execution_count": 36,
     "metadata": {},
     "output_type": "execute_result"
    }
   ],
   "source": [
    "datascience3.course_Details(\"Data Science\")"
   ]
  },
  {
   "cell_type": "code",
   "execution_count": 37,
   "id": "02e35ea0-f485-4499-8f8a-52a68f9fa18f",
   "metadata": {},
   "outputs": [],
   "source": [
    "def mentor(self,mentor):\n",
    "    return mentor\n",
    "datascience3.mentor = classmethod(mentor)"
   ]
  },
  {
   "cell_type": "code",
   "execution_count": 38,
   "id": "4aa56c4f-8df2-4646-90ae-0d7426824b18",
   "metadata": {},
   "outputs": [
    {
     "data": {
      "text/plain": [
       "'Raj'"
      ]
     },
     "execution_count": 38,
     "metadata": {},
     "output_type": "execute_result"
    }
   ],
   "source": [
    "datascience3.mentor(\"Raj\")"
   ]
  },
  {
   "cell_type": "code",
   "execution_count": 43,
   "id": "3587975b-5ff7-4066-939c-6f6173c11f8d",
   "metadata": {},
   "outputs": [],
   "source": [
    "class datascience4:\n",
    "    \n",
    "    ## class variable (this is directly available to the class\n",
    "    mobile_num = 5447677888\n",
    "    \n",
    "    def __init__ (self, name, email):\n",
    "        self.name = name\n",
    "        self.email = email\n",
    "        \n",
    "    @classmethod\n",
    "    def change_num(cls,number):\n",
    "        datascience2.mobile_num = number\n",
    "    \n",
    "    @classmethod \n",
    "    \n",
    "    def student_details1 (cls,name,email):\n",
    "        return cls(name,email)\n",
    "                          \n",
    "                          \n",
    "    def student_details(self):\n",
    "        print(self.name,self.email,datascience2.mobile_num)\n",
    "##         print(self.name,self.email,datascience2.mobile_num)## mobile_num is associated with class so no self"
   ]
  },
  {
   "cell_type": "code",
   "execution_count": 45,
   "id": "181d7340-0910-455c-8012-92cb2a71ce0c",
   "metadata": {},
   "outputs": [],
   "source": [
    "## deleting a method inside a class\n",
    "del datascience4.change_num\n"
   ]
  },
  {
   "cell_type": "code",
   "execution_count": 46,
   "id": "bad4a4b7-f741-41fa-aa09-4237b3ee28a2",
   "metadata": {},
   "outputs": [],
   "source": [
    "## another method of deleting method\n",
    "delattr(datascience4,\"student_details\")"
   ]
  },
  {
   "cell_type": "code",
   "execution_count": 48,
   "id": "a339be47-2f91-41b7-873c-b4891b17fb49",
   "metadata": {},
   "outputs": [],
   "source": [
    "delattr(datascience4,\"student_details1\")"
   ]
  },
  {
   "cell_type": "code",
   "execution_count": 49,
   "id": "142a87a8-cb08-4dc9-9f9c-fbee30cf5a38",
   "metadata": {},
   "outputs": [],
   "source": [
    "delattr(datascience4,\"mobile_num\")"
   ]
  },
  {
   "cell_type": "markdown",
   "id": "acda0cc7-4487-4289-b042-f60b8db44354",
   "metadata": {},
   "source": [
    "### STATIC METHOD"
   ]
  },
  {
   "cell_type": "code",
   "execution_count": 50,
   "id": "a3e7b9f3-8027-49e6-8681-bac635a868d9",
   "metadata": {},
   "outputs": [],
   "source": [
    "class student:\n",
    "    def stats(self, name, mail_id):\n",
    "        print(name,mail_id)"
   ]
  },
  {
   "cell_type": "code",
   "execution_count": 51,
   "id": "8109ccd9-db30-4d10-9805-47892ae67929",
   "metadata": {},
   "outputs": [],
   "source": [
    "pw = student()"
   ]
  },
  {
   "cell_type": "code",
   "execution_count": 52,
   "id": "bc510b8c-c7e3-45cb-9578-e1eee6b10edf",
   "metadata": {},
   "outputs": [
    {
     "name": "stdout",
     "output_type": "stream",
     "text": [
      "Prakash rahaW@jf.vcom\n"
     ]
    }
   ],
   "source": [
    "pw.stats(\"Prakash\",\"rahaW@jf.vcom\")"
   ]
  },
  {
   "cell_type": "code",
   "execution_count": 77,
   "id": "866a84c1-c10e-452d-8bd9-b73ba1cba6e8",
   "metadata": {},
   "outputs": [],
   "source": [
    "class student1:\n",
    "    \n",
    "    def stats(self, name, mail_id):\n",
    "        print(name,mail_id)\n",
    "    @staticmethod\n",
    "    ## helps in creation of a function without binding with self on the class\n",
    "    def mentors( mentor_name):\n",
    "        return mentor_name\n",
    "\n",
    "    \n",
    "        \n",
    "    def mentor_class(self,mentor):\n",
    "        return(mentor)"
   ]
  },
  {
   "cell_type": "code",
   "execution_count": 78,
   "id": "dcfc6b44-ef77-48bf-a95b-72c16425c766",
   "metadata": {},
   "outputs": [
    {
     "data": {
      "text/plain": [
       "['Prkash', 'hskhgkhsg']"
      ]
     },
     "execution_count": 78,
     "metadata": {},
     "output_type": "execute_result"
    }
   ],
   "source": [
    "## untility function \n",
    "student1.mentors([\"Prkash\",\"hskhgkhsg\"])"
   ]
  },
  {
   "cell_type": "code",
   "execution_count": 79,
   "id": "407c017a-daa8-4ef8-9942-d76216abd57a",
   "metadata": {},
   "outputs": [],
   "source": [
    "pw = student1()"
   ]
  },
  {
   "cell_type": "code",
   "execution_count": 84,
   "id": "8c4b1094-ba7d-45b8-bfb7-dca74100324a",
   "metadata": {},
   "outputs": [],
   "source": [
    "# calling static method with class method\n",
    "class student2:\n",
    "    \n",
    "    def stats(self, name, mail_id):\n",
    "        print(name,mail_id)\n",
    "    @staticmethod\n",
    "    ## helps in creation of a function without binding with self on the class\n",
    "    def mentors( mentor_name):\n",
    "        print( mentor_name)\n",
    "    @classmethod\n",
    "    def class_name(cls):\n",
    "        cls.mentors([\"prakash\",\"singh\"])\n",
    "    \n",
    "        \n",
    "    def mentor_class(self,mentor):\n",
    "        return(mentor)"
   ]
  },
  {
   "cell_type": "code",
   "execution_count": 85,
   "id": "ba47e1da-609a-406d-a811-35ce5a48d8b3",
   "metadata": {},
   "outputs": [
    {
     "name": "stdout",
     "output_type": "stream",
     "text": [
      "['prakash', 'singh']\n"
     ]
    }
   ],
   "source": [
    "student2.class_name()"
   ]
  },
  {
   "cell_type": "code",
   "execution_count": null,
   "id": "c99f511c-bc18-4541-b4ec-4613435a3790",
   "metadata": {},
   "outputs": [],
   "source": []
  },
  {
   "cell_type": "code",
   "execution_count": null,
   "id": "0db31f63-9590-45dd-acb8-62fe55d57469",
   "metadata": {},
   "outputs": [],
   "source": []
  },
  {
   "cell_type": "code",
   "execution_count": 100,
   "id": "ee230b7e-4deb-44ae-8a51-8dc271d78b3b",
   "metadata": {},
   "outputs": [],
   "source": [
    "# calling static method with static method\n",
    "class student3:\n",
    "    \n",
    "    def stats(self, name, mail_id):\n",
    "        print(name,mail_id)\n",
    "        \n",
    "    def mentor_id(mail_id):\n",
    "        print(mail_id)\n",
    "        \n",
    "    @staticmethod\n",
    "    ## helps in creation of a function without binding with self on the class\n",
    "    def mentors( mentor_name):\n",
    "        student3.mentor_id([\"hfgsj@gamil.com\",\"sjg@gmail.com\"])\n",
    "        print( mentor_name)\n",
    "    @classmethod\n",
    "    def class_name(cls):\n",
    "        cls.mentors([\"prakash\",\"singh\"])\n",
    "    \n",
    "    ## instence method or class method    \n",
    "    def mentor_class(self,mentor):\n",
    "        \n",
    "        print(mentor)\n",
    "        self.mentors([\"Raj\",\"Singh\"])"
   ]
  },
  {
   "cell_type": "code",
   "execution_count": 101,
   "id": "66d0c185-5e3a-40c8-9735-feed33711af7",
   "metadata": {},
   "outputs": [
    {
     "name": "stdout",
     "output_type": "stream",
     "text": [
      "['hfgsj@gamil.com', 'sjg@gmail.com']\n",
      "['PRkasj', 'fjsj']\n"
     ]
    }
   ],
   "source": [
    "student3.mentors([\"PRkasj\",\"fjsj\"])"
   ]
  },
  {
   "cell_type": "code",
   "execution_count": null,
   "id": "e24d5658-f5c4-439c-849d-deef4d3d98d9",
   "metadata": {},
   "outputs": [],
   "source": []
  },
  {
   "cell_type": "code",
   "execution_count": null,
   "id": "01396715-88af-4c3d-ab35-56978aaed003",
   "metadata": {},
   "outputs": [],
   "source": []
  },
  {
   "cell_type": "code",
   "execution_count": 102,
   "id": "21050297-a0eb-4a7a-8843-9b1b5dab93e5",
   "metadata": {},
   "outputs": [],
   "source": [
    "\n",
    "# calling static method with instance method\n",
    "pw = student3()"
   ]
  },
  {
   "cell_type": "code",
   "execution_count": 104,
   "id": "f939ad2d-8281-439b-9889-c837db5783ad",
   "metadata": {},
   "outputs": [
    {
     "name": "stdout",
     "output_type": "stream",
     "text": [
      "['11', 'Singh']\n",
      "['hfgsj@gamil.com', 'sjg@gmail.com']\n",
      "['Raj', 'Singh']\n"
     ]
    }
   ],
   "source": [
    "pw.mentor_class([\"11\",\"Singh\"])"
   ]
  },
  {
   "cell_type": "code",
   "execution_count": null,
   "id": "53aadaea-6d68-4fa1-b219-41b5726a0651",
   "metadata": {},
   "outputs": [],
   "source": []
  },
  {
   "cell_type": "code",
   "execution_count": null,
   "id": "20bcfcc3-e7c4-444d-aef1-c54217d65b0e",
   "metadata": {},
   "outputs": [],
   "source": []
  },
  {
   "cell_type": "markdown",
   "id": "c9c6685e-b39c-42b4-9891-b1fcb691ad9b",
   "metadata": {},
   "source": [
    "#### Magic / Dunder Method"
   ]
  },
  {
   "cell_type": "code",
   "execution_count": 105,
   "id": "5eff504f-bd4c-4b5d-90ad-17ab70bce3cc",
   "metadata": {},
   "outputs": [],
   "source": [
    "a = 5"
   ]
  },
  {
   "cell_type": "code",
   "execution_count": 108,
   "id": "590ff5aa-2cea-4096-bfb1-7bdb256e1867",
   "metadata": {},
   "outputs": [
    {
     "data": {
      "text/plain": [
       "55"
      ]
     },
     "execution_count": 108,
     "metadata": {},
     "output_type": "execute_result"
    }
   ],
   "source": [
    "a.__add__(5)"
   ]
  },
  {
   "cell_type": "code",
   "execution_count": 115,
   "id": "93c8ce92-f610-4863-a447-41639f9a3d1b",
   "metadata": {},
   "outputs": [],
   "source": [
    "# order of functions called \n",
    "class num:\n",
    "    def __new__(cls):\n",
    "        print(\"new\")\n",
    "        \n",
    "    def __init__(self):\n",
    "        print(\"init\")\n",
    "        self.number = 44554154"
   ]
  },
  {
   "cell_type": "code",
   "execution_count": 116,
   "id": "f63199b6-4a1c-45fb-9c50-9d0b022aad0c",
   "metadata": {},
   "outputs": [
    {
     "name": "stdout",
     "output_type": "stream",
     "text": [
      "new\n"
     ]
    }
   ],
   "source": [
    "pp = num()"
   ]
  },
  {
   "cell_type": "code",
   "execution_count": null,
   "id": "9addb915-68aa-441a-b060-ea16c74170e0",
   "metadata": {},
   "outputs": [],
   "source": [
    "\n"
   ]
  },
  {
   "cell_type": "code",
   "execution_count": 120,
   "id": "ba7cee8f-f0f3-46a0-955e-32d28366a30a",
   "metadata": {},
   "outputs": [],
   "source": [
    "class num1:\n",
    "    def __init__(self):\n",
    "        print(\"init\")\n",
    "        self.number = 44554154\n",
    "    def __str__(self):\n",
    "        return\"this is str\""
   ]
  },
  {
   "cell_type": "code",
   "execution_count": 121,
   "id": "c803153c-c754-4212-a6ae-f5b3b8692e5b",
   "metadata": {},
   "outputs": [
    {
     "name": "stdout",
     "output_type": "stream",
     "text": [
      "init\n"
     ]
    }
   ],
   "source": [
    "ps = num1()"
   ]
  },
  {
   "cell_type": "code",
   "execution_count": 122,
   "id": "35a24632-ddc3-4f26-adb1-7815281e68ea",
   "metadata": {},
   "outputs": [
    {
     "data": {
      "text/plain": [
       "<__main__.num1 at 0x7f2b0c12acb0>"
      ]
     },
     "execution_count": 122,
     "metadata": {},
     "output_type": "execute_result"
    }
   ],
   "source": [
    "ps"
   ]
  },
  {
   "cell_type": "code",
   "execution_count": 124,
   "id": "c61714c9-86e0-416a-b787-8600da0c3942",
   "metadata": {},
   "outputs": [
    {
     "name": "stdout",
     "output_type": "stream",
     "text": [
      "this is str\n"
     ]
    }
   ],
   "source": [
    "## object showing comment about the class\n",
    "print(ps)"
   ]
  },
  {
   "cell_type": "code",
   "execution_count": null,
   "id": "e18e5a31-9f22-4a99-aed0-1f2309ce1b06",
   "metadata": {},
   "outputs": [],
   "source": []
  },
  {
   "cell_type": "code",
   "execution_count": null,
   "id": "2096365b-8435-4d16-a04c-96263cc329e9",
   "metadata": {},
   "outputs": [],
   "source": []
  },
  {
   "cell_type": "markdown",
   "id": "194be699-8d31-4da3-a88b-ce74c364d5a2",
   "metadata": {},
   "source": [
    "#### Property Decorators (Getter,deleters,and setters)"
   ]
  },
  {
   "cell_type": "code",
   "execution_count": 1,
   "id": "b4ef1433-829f-4ba5-bc72-186bd3940623",
   "metadata": {},
   "outputs": [],
   "source": [
    "class prakash:\n",
    "    def __init__ (self, name,age):\n",
    "        self.__name = name\n",
    "        self.age = age"
   ]
  },
  {
   "cell_type": "code",
   "execution_count": 2,
   "id": "63a5f32c-520a-49f3-aabf-7d5ed02361a4",
   "metadata": {},
   "outputs": [
    {
     "ename": "AttributeError",
     "evalue": "'prakash' object has no attribute 'name'",
     "output_type": "error",
     "traceback": [
      "\u001b[0;31m---------------------------------------------------------------------------\u001b[0m",
      "\u001b[0;31mAttributeError\u001b[0m                            Traceback (most recent call last)",
      "Cell \u001b[0;32mIn[2], line 2\u001b[0m\n\u001b[1;32m      1\u001b[0m pw \u001b[38;5;241m=\u001b[39m prakash(\u001b[38;5;124m\"\u001b[39m\u001b[38;5;124mSingh\u001b[39m\u001b[38;5;124m\"\u001b[39m,\u001b[38;5;241m45\u001b[39m)\n\u001b[0;32m----> 2\u001b[0m \u001b[43mpw\u001b[49m\u001b[38;5;241;43m.\u001b[39;49m\u001b[43mname\u001b[49m\n",
      "\u001b[0;31mAttributeError\u001b[0m: 'prakash' object has no attribute 'name'"
     ]
    }
   ],
   "source": [
    "pw = prakash(\"Singh\",45)\n",
    "pw.name"
   ]
  },
  {
   "cell_type": "code",
   "execution_count": 4,
   "id": "573cfce1-cffb-4c40-ae24-97bb07c28994",
   "metadata": {},
   "outputs": [
    {
     "data": {
      "text/plain": [
       "'Singh'"
      ]
     },
     "execution_count": 4,
     "metadata": {},
     "output_type": "execute_result"
    }
   ],
   "source": [
    "# in order to access the private method we use the below syntax\n",
    "pw._prakash__name"
   ]
  },
  {
   "cell_type": "markdown",
   "id": "865c2a39-cd2d-4b68-b9fa-ca8d1d9aacde",
   "metadata": {},
   "source": [
    "##### In order to give access to the user to modify, access, delete,or update"
   ]
  },
  {
   "cell_type": "code",
   "execution_count": 58,
   "id": "1153be95-33f8-41c7-b8d4-eeec3c9c3658",
   "metadata": {},
   "outputs": [],
   "source": [
    "class prakash1:\n",
    "    def __init__ (self, name,age):\n",
    "        self.name = name\n",
    "        self.__age = age\n",
    "        \n",
    "    ## to access the private attribute    \n",
    "    @property\n",
    "    def age_access(self):\n",
    "        return self.__age\n",
    "    \n",
    "    ## to updtate the value\n",
    "    @age_access.setter\n",
    "    def age_access_set(self,ages):\n",
    "        if ages > 100:\n",
    "            \n",
    "            pass\n",
    "        else:\n",
    "            self.__age = ages\n",
    "            \n",
    "    ## delete access\n",
    "    @age_access.deleter\n",
    "    def delete_age (self):\n",
    "        del self.__age"
   ]
  },
  {
   "cell_type": "code",
   "execution_count": 59,
   "id": "12a6ca16-5d87-439f-acd4-6b527246c20f",
   "metadata": {},
   "outputs": [],
   "source": [
    "pw1 = prakash1(\"singh\",44)"
   ]
  },
  {
   "cell_type": "code",
   "execution_count": 60,
   "id": "42522bfc-f174-44bf-a334-c237caa9494b",
   "metadata": {},
   "outputs": [
    {
     "data": {
      "text/plain": [
       "44"
      ]
     },
     "execution_count": 60,
     "metadata": {},
     "output_type": "execute_result"
    }
   ],
   "source": [
    "pw1.age_access"
   ]
  },
  {
   "cell_type": "code",
   "execution_count": 61,
   "id": "d28f9862-8532-4668-a5ff-3fce9ac16e41",
   "metadata": {},
   "outputs": [],
   "source": [
    "pw1.age_access_set = 111"
   ]
  },
  {
   "cell_type": "code",
   "execution_count": 62,
   "id": "2a6ae834-407d-4717-a108-18871aabf482",
   "metadata": {},
   "outputs": [
    {
     "data": {
      "text/plain": [
       "44"
      ]
     },
     "execution_count": 62,
     "metadata": {},
     "output_type": "execute_result"
    }
   ],
   "source": [
    "pw1.age_access"
   ]
  },
  {
   "cell_type": "code",
   "execution_count": 63,
   "id": "47b4515c-7e3a-4d6e-80a4-18a308558776",
   "metadata": {},
   "outputs": [],
   "source": [
    "del pw1.delete_age"
   ]
  },
  {
   "cell_type": "code",
   "execution_count": 64,
   "id": "c8f16a6b-8500-410d-9450-49e3b255f790",
   "metadata": {},
   "outputs": [
    {
     "ename": "AttributeError",
     "evalue": "'prakash1' object has no attribute '_prakash1__age'",
     "output_type": "error",
     "traceback": [
      "\u001b[0;31m---------------------------------------------------------------------------\u001b[0m",
      "\u001b[0;31mAttributeError\u001b[0m                            Traceback (most recent call last)",
      "Cell \u001b[0;32mIn[64], line 1\u001b[0m\n\u001b[0;32m----> 1\u001b[0m \u001b[43mpw1\u001b[49m\u001b[38;5;241;43m.\u001b[39;49m\u001b[43mage_access\u001b[49m\n",
      "Cell \u001b[0;32mIn[58], line 9\u001b[0m, in \u001b[0;36mprakash1.age_access\u001b[0;34m(self)\u001b[0m\n\u001b[1;32m      7\u001b[0m \u001b[38;5;129m@property\u001b[39m\n\u001b[1;32m      8\u001b[0m \u001b[38;5;28;01mdef\u001b[39;00m \u001b[38;5;21mage_access\u001b[39m(\u001b[38;5;28mself\u001b[39m):\n\u001b[0;32m----> 9\u001b[0m     \u001b[38;5;28;01mreturn\u001b[39;00m \u001b[38;5;28;43mself\u001b[39;49m\u001b[38;5;241;43m.\u001b[39;49m\u001b[43m__age\u001b[49m\n",
      "\u001b[0;31mAttributeError\u001b[0m: 'prakash1' object has no attribute '_prakash1__age'"
     ]
    }
   ],
   "source": [
    "pw1.age_access"
   ]
  },
  {
   "cell_type": "code",
   "execution_count": null,
   "id": "80c4b137-c4e1-4613-aed5-c9dd13ce27f5",
   "metadata": {},
   "outputs": [],
   "source": []
  }
 ],
 "metadata": {
  "kernelspec": {
   "display_name": "Python 3 (ipykernel)",
   "language": "python",
   "name": "python3"
  },
  "language_info": {
   "codemirror_mode": {
    "name": "ipython",
    "version": 3
   },
   "file_extension": ".py",
   "mimetype": "text/x-python",
   "name": "python",
   "nbconvert_exporter": "python",
   "pygments_lexer": "ipython3",
   "version": "3.10.8"
  }
 },
 "nbformat": 4,
 "nbformat_minor": 5
}
