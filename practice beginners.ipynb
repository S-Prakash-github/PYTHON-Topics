{
 "cells": [
  {
   "cell_type": "markdown",
   "id": "517b5cae",
   "metadata": {},
   "source": [
    "### Python beginners problems :-"
   ]
  },
  {
   "cell_type": "markdown",
   "id": "d72886b9",
   "metadata": {},
   "source": [
    "##1 print sum of two numbers"
   ]
  },
  {
   "cell_type": "code",
   "execution_count": null,
   "id": "2c9497ca",
   "metadata": {},
   "outputs": [],
   "source": [
    "a= int(input(\"Enter a number\"))\n",
    "b = int(input(\"Enter a number\"))\n",
    "d = a+b\n",
    "print(d)"
   ]
  },
  {
   "cell_type": "markdown",
   "id": "2b476f6c",
   "metadata": {},
   "source": [
    "  "
   ]
  },
  {
   "cell_type": "markdown",
   "id": "f0cdf6cb",
   "metadata": {},
   "source": [
    "##2 print maximum of two numbers"
   ]
  },
  {
   "cell_type": "code",
   "execution_count": null,
   "id": "6d9a1ae2",
   "metadata": {},
   "outputs": [],
   "source": [
    "a= int(input(\"Enter a number\"))\n",
    "b = int(input(\"Enter a number\"))\n",
    "if a>= b:\n",
    "    print (a)\n",
    "else: \n",
    "    print (b)"
   ]
  },
  {
   "cell_type": "code",
   "execution_count": null,
   "id": "5834e15b",
   "metadata": {},
   "outputs": [],
   "source": [
    "# Second method\n",
    "def maxi(a,b):\n",
    "    if a>=b :\n",
    "        return a\n",
    "    else:\n",
    "            return b\n",
    "a= int(input(\"Enter a number\"))\n",
    "b = int(input(\"Enter a number\"))\n",
    "print(maxi(a,b))"
   ]
  },
  {
   "cell_type": "markdown",
   "id": "36866949",
   "metadata": {},
   "source": [
    "  "
   ]
  },
  {
   "cell_type": "markdown",
   "id": "50a10370",
   "metadata": {},
   "source": [
    "##3 take user input as n and print the value of n+nn+nnn"
   ]
  },
  {
   "cell_type": "code",
   "execution_count": null,
   "id": "e9f6b879",
   "metadata": {},
   "outputs": [],
   "source": [
    "a= int(input(\"Enter a number\"))\n",
    "n = int(\"%s\" % a)\n",
    "n1 = int(\"%s%s\" % (a,a))\n",
    "n2 = int(\"%s%s%s\" % (a,a,a))\n",
    "print(n+n1+n2)"
   ]
  },
  {
   "cell_type": "markdown",
   "id": "80f69a12",
   "metadata": {},
   "source": [
    "  "
   ]
  },
  {
   "cell_type": "markdown",
   "id": "413563c7",
   "metadata": {},
   "source": [
    "##4 show calender of a given year adn month"
   ]
  },
  {
   "cell_type": "code",
   "execution_count": null,
   "id": "62d20a2b",
   "metadata": {},
   "outputs": [],
   "source": [
    "import calendar\n",
    "y = int(input(\"Enter the year\"))\n",
    "m = int(input(\"enter the month\"))\n",
    "print(calender.month(y,m))"
   ]
  },
  {
   "cell_type": "markdown",
   "id": "17d02f22",
   "metadata": {},
   "source": [
    "  "
   ]
  },
  {
   "cell_type": "markdown",
   "id": "894ff0ca",
   "metadata": {},
   "source": [
    "##5 program to print the differnce between two dates"
   ]
  },
  {
   "cell_type": "code",
   "execution_count": null,
   "id": "493a7382",
   "metadata": {},
   "outputs": [],
   "source": [
    "from datetime import date\n",
    "date1 = date (2017,7,2)\n",
    "date2 = date(2017,8,2)\n",
    "diff = date2-date1\n",
    "print(diff)\n"
   ]
  },
  {
   "cell_type": "markdown",
   "id": "7000af22",
   "metadata": {},
   "source": [
    "  "
   ]
  },
  {
   "cell_type": "markdown",
   "id": "1608c060",
   "metadata": {},
   "source": [
    "##6  find volumne of a sphere with radius as user input"
   ]
  },
  {
   "cell_type": "code",
   "execution_count": null,
   "id": "fdc2cf5c",
   "metadata": {},
   "outputs": [],
   "source": [
    "r = int(input(\"Enter the radius of the sphere\"))\n",
    "pi = 3.14\n",
    "vol = 4/3*3.14*r**3\n",
    "print(\"your answer is \" , vol)"
   ]
  },
  {
   "cell_type": "markdown",
   "id": "a2cc4753",
   "metadata": {},
   "source": [
    "  "
   ]
  },
  {
   "cell_type": "markdown",
   "id": "8cafddbb",
   "metadata": {},
   "source": [
    "##7 Write a Python program to get the difference between a given number and 17, \n",
    "if the number is greater than 17 return double the absolute difference."
   ]
  },
  {
   "cell_type": "code",
   "execution_count": null,
   "id": "bd1c2f81",
   "metadata": {},
   "outputs": [],
   "source": [
    "a = int(input(\"Enter a number :\"))\n",
    "if a>17:\n",
    "    r = a-17\n",
    "    print(r+r)\n",
    "else:\n",
    "    print(17-a)"
   ]
  },
  {
   "cell_type": "markdown",
   "id": "5f844730",
   "metadata": {},
   "source": [
    "  "
   ]
  },
  {
   "cell_type": "markdown",
   "id": "e8db263e",
   "metadata": {},
   "source": [
    "##8 Write a Python program to calculate the sum of three given numbers,\n",
    "    if the values are equal then return three times of their sum."
   ]
  },
  {
   "cell_type": "code",
   "execution_count": null,
   "id": "c6d61209",
   "metadata": {},
   "outputs": [],
   "source": [
    "a = int(input(\"Enter a number :\"))\n",
    "b = int(input(\"Enter a number :\"))\n",
    "c = int(input(\"Enter a number :\"))\n",
    "if a!= b :\n",
    "    print( a+b+c)\n",
    "else:\n",
    "    print (3*(a+b+c))\n"
   ]
  },
  {
   "cell_type": "markdown",
   "id": "cdb06dc3",
   "metadata": {},
   "source": [
    "  "
   ]
  },
  {
   "cell_type": "markdown",
   "id": "681f06db",
   "metadata": {},
   "source": [
    "##9 Write a Python program to get a new string from a given string where \"Is\" has been added to the front. \n",
    "    If the given string already begins with \"Is\" then return the string unchanged."
   ]
  },
  {
   "cell_type": "code",
   "execution_count": null,
   "id": "12872ea0",
   "metadata": {},
   "outputs": [],
   "source": [
    "a = (input(\"Enter a string :\"))\n",
    "if a[:2] == \"Is\":\n",
    "    print(a)\n",
    "else:\n",
    "    print('Is' + a)"
   ]
  },
  {
   "cell_type": "markdown",
   "id": "221f034a",
   "metadata": {},
   "source": [
    "  "
   ]
  },
  {
   "cell_type": "markdown",
   "id": "22c4c7ae",
   "metadata": {},
   "source": [
    "##10 program to find a number is EVEN OR ODD."
   ]
  },
  {
   "cell_type": "code",
   "execution_count": null,
   "id": "5845f256",
   "metadata": {},
   "outputs": [],
   "source": [
    "a = int(input(\"Enter a number :\"))\n",
    "if a%2 == 0:\n",
    "    print(\"Even\")\n",
    "else:\n",
    "    print(\"odd\")"
   ]
  },
  {
   "cell_type": "code",
   "execution_count": null,
   "id": "d45142d4",
   "metadata": {},
   "outputs": [],
   "source": [
    "# Second method\n",
    "def mod(a):\n",
    "    if a%2 == 0:\n",
    "        return(\"Even\")\n",
    "    else:\n",
    "        return(\"Odd\")\n",
    "mod(5)"
   ]
  },
  {
   "cell_type": "code",
   "execution_count": null,
   "id": "85868c30",
   "metadata": {},
   "outputs": [],
   "source": [
    "lst = [4,44,44,44,44,4]\n",
    "list.count"
   ]
  },
  {
   "cell_type": "code",
   "execution_count": null,
   "id": "48223b3f",
   "metadata": {},
   "outputs": [],
   "source": [
    "##12 Write a Python program to test whether a number is within 100 of 1000 or 2000.\n",
    "\n",
    "def near_thousand(n):\n",
    "      return ((abs(1000 - n) <= 100) or (abs(2000 - n) <= 100))\n",
    "print(near_thousand(10))\n",
    "print(near_thousand(900))\n",
    "print(near_thousand(800))   \n",
    "print(near_thousand(2200))"
   ]
  },
  {
   "cell_type": "code",
   "execution_count": null,
   "id": "5dc09b6d",
   "metadata": {},
   "outputs": [],
   "source": [
    "##13 Write a Python program to get the n (non-negative integer\n",
    "## ) copies of the first 2 characters of a given string. Return the n copies of the whole string if the length is less than 2."
   ]
  },
  {
   "cell_type": "code",
   "execution_count": null,
   "id": "ff892e5c",
   "metadata": {},
   "outputs": [],
   "source": [
    "## Write a Python program to test whether a passed letter is a vowel or not.\n",
    "a = input(\"enter a letter : \")\n",
    "lst = ['a','e','i','o','u']\n",
    "if a in lst:\n",
    "    print (\"Vowel\")\n",
    "else:\n",
    "    print(\"Consonant \")"
   ]
  },
  {
   "cell_type": "code",
   "execution_count": null,
   "id": "c0706c74",
   "metadata": {},
   "outputs": [],
   "source": [
    "def vowel(a):\n",
    "    if a in ['a','e','i','o','u']:\n",
    "        return('vowel')\n",
    "    else:\n",
    "        return('consonant')\n",
    "vowel('e')"
   ]
  },
  {
   "cell_type": "code",
   "execution_count": null,
   "id": "3256e3a5",
   "metadata": {},
   "outputs": [],
   "source": [
    "###14 Write a Python program to check whether a specified value is contained in a group of values.\n",
    "a = int(input(\"Enter a number :\"))\n",
    "lst = [1,5,6,7,3]\n",
    "if a in lst:\n",
    "    print(1)\n",
    "else:\n",
    "    print(0)"
   ]
  },
  {
   "cell_type": "code",
   "execution_count": null,
   "id": "b35ac891",
   "metadata": {},
   "outputs": [],
   "source": [
    "def val(a):\n",
    "    lst = [6,7,8,9]\n",
    "    if a in lst:\n",
    "        return (True)\n",
    "    else:\n",
    "        return(False)\n",
    "val(1)"
   ]
  },
  {
   "cell_type": "code",
   "execution_count": null,
   "id": "fb4c208c",
   "metadata": {},
   "outputs": [],
   "source": [
    "###15 Write a Python program to print all even numbers from a given numbers list in the\n",
    "## same order and stop the printing if any numbers that come after 237 in the sequence\n",
    "\n",
    "numbers = [    \n",
    "    386, 462, 47, 418, 907, 344, 236, 375, 823, 566, 597, 978, 328, 615, 953, 345, \n",
    "    399, 162, 758, 219, 918, 237, 412, 566, 826, 248, 866, 950, 626, 949, 687, 217, \n",
    "    815, 67, 104, 58, 512, 24, 892, 894, 767, 553, 81, 379, 843, 831, 445, 742, 717, \n",
    "    958,743, 527\n",
    "    ]\n",
    "\n",
    "for x in numbers:\n",
    "    if x == 237:\n",
    "        print(x)\n",
    "        break;\n",
    "    elif x % 2 == 0:\n",
    "        print(x)"
   ]
  },
  {
   "cell_type": "code",
   "execution_count": null,
   "id": "77a57b07",
   "metadata": {},
   "outputs": [],
   "source": [
    "### 16 Write a Python program to concatenate all elements in a list into a string and return it\n",
    "lst = ['a',1,5,6,7]\n",
    "j=\" \"\n",
    "for i in lst:\n",
    "    j += str(i)\n",
    "print(j)"
   ]
  },
  {
   "cell_type": "code",
   "execution_count": null,
   "id": "d353bbac",
   "metadata": {},
   "outputs": [],
   "source": [
    "def con(list):\n",
    "    j = \" \"\n",
    "    for i in list:\n",
    "        j += str(i)\n",
    "    return (j)\n",
    "print(con([1,2,3,8]))"
   ]
  },
  {
   "cell_type": "code",
   "execution_count": null,
   "id": "3eab413d",
   "metadata": {},
   "outputs": [],
   "source": [
    "##17 Write a Python program to print out a set containing all the colors from color_list_1 which are not present in color_list_2\n",
    "## color_list_1 = set([\"White\", \"Black\", \"Red\"])\n",
    "## color_list_2 = set([\"Red\", \"Green\"])\n",
    "list_1 = set([\"White\", \"Black\", \"Red\"])\n",
    "list_2 = set([\"Red\", \"Green\"])\n",
    "diff = list_1-list_2\n",
    "diff2 = list_2-list_1\n",
    "print(diff)\n",
    "print(diff2)"
   ]
  },
  {
   "cell_type": "code",
   "execution_count": null,
   "id": "1f60696d",
   "metadata": {},
   "outputs": [],
   "source": [
    "##18 Write a Python program that will accept the base and height of a triangle and compute the area.\n",
    "h = int(input(\"enter the height of the traingle :\"))\n",
    "b = int(input(\"enter the base of the traingle :\"))\n",
    "area = (h*b)/2\n",
    "print(area)"
   ]
  },
  {
   "cell_type": "code",
   "execution_count": null,
   "id": "e7cfaf18",
   "metadata": {},
   "outputs": [],
   "source": [
    "##19  Write a Python program to add two objects if both objects are an integer type\n",
    "\n",
    "def integer_add(a,b):\n",
    "    if type(a) == int and type(b)== int :\n",
    "        return(a+b)\n",
    "    else:\n",
    "        return(\"number should be integer\")\n",
    "\n",
    "print(integer_add(7.8,9))"
   ]
  },
  {
   "cell_type": "code",
   "execution_count": null,
   "id": "5209b5d3",
   "metadata": {},
   "outputs": [],
   "source": [
    "##20 Write a Python program to solve (x + y) * (x + y)\n",
    "\n",
    "x = int(input(\"Enter a number: \"))\n",
    "y = int(input(\"Enter a number: \"))\n",
    "sum_ = x+ y\n",
    "sum_multiply = sum_ * sum_\n",
    "print(sum_multiply)"
   ]
  },
  {
   "cell_type": "code",
   "execution_count": null,
   "id": "5f3487e1",
   "metadata": {},
   "outputs": [],
   "source": [
    "##21 Write a Python program to sum of the first n positive integers\n",
    "\n",
    "x = int(input(\"Enter a number: \"))\n",
    "sum_x = (x*(x+1))/2\n",
    "print(int(sum_x))"
   ]
  },
  {
   "cell_type": "code",
   "execution_count": null,
   "id": "77aaedc5",
   "metadata": {},
   "outputs": [],
   "source": [
    "# Second method\n",
    "def findSum(n) :\n",
    "    sum = 0\n",
    "    x = 1\n",
    "    while x <=n :\n",
    "        sum = sum + x\n",
    "        x = x + 1\n",
    "    return sum\n",
    "findSum(8)"
   ]
  },
  {
   "cell_type": "code",
   "execution_count": null,
   "id": "35f23b43",
   "metadata": {},
   "outputs": [],
   "source": [
    "## 21  Write a Python program to calculate the hypotenuse of a right angled triangle\n",
    "import math \n",
    "a = int(input(\"Enter a side : \"))\n",
    "b = int(input(\"Enter a side : \"))\n",
    "h = math.sqrt(a**2 + b**2)\n",
    "print(h,\"is the hypotenuse of the triangle\")"
   ]
  },
  {
   "cell_type": "code",
   "execution_count": null,
   "id": "a84ced7e",
   "metadata": {},
   "outputs": [],
   "source": [
    "##22 Write a Python program to convert seconds to day, hour, minutes and seconds.\n",
    "time = float(input(\"Input time in seconds: \"))\n",
    "day = time // (24 * 3600)\n",
    "time = time % (24 * 3600)\n",
    "hour = time // 3600\n",
    "time %= 3600\n",
    "minutes = time // 60\n",
    "time %= 60\n",
    "seconds = time\n",
    "print(\"d:h:m:s-> %d:%d:%d:%d\" % (day, hour, minutes, seconds))\n"
   ]
  },
  {
   "cell_type": "code",
   "execution_count": null,
   "id": "d2f11fcf",
   "metadata": {},
   "outputs": [],
   "source": [
    "##23 Write a Python program to concatenate N strings.\n",
    "\n",
    "lst = [ \"Pea\",\"apple\",\"Meme\",\"Beguni\",\"mango\"]\n",
    "con_lst = '<\\**/>'.join(lst)\n",
    "print(con_lst)"
   ]
  },
  {
   "cell_type": "code",
   "execution_count": 1,
   "id": "2c6ceaf8",
   "metadata": {},
   "outputs": [
    {
     "name": "stdout",
     "output_type": "stream",
     "text": [
      "wholesale cost : 945.4499999999999\n"
     ]
    }
   ],
   "source": [
    "#24\n",
    "#Suppose the cover price of a book is $24.95, but bookstores get a 40% discount. Shipping costs\n",
    "# 3 for the first copy and 75 cents for each additional copy. What is the total wholesale cost for 60 copies?\n",
    "\n",
    "cover_price = 24.95\n",
    "discounted_price = cover_price *0.4\n",
    "final_price = (cover_price - discounted_price)*60\n",
    "shipping = 3 \n",
    "shipping_rest = 59*0.75\n",
    "\n",
    "\n",
    "wholesale_cost= shipping_rest + shipping + final_price\n",
    "print(\"wholesale cost :\",str(wholesale_cost))\n",
    "\n"
   ]
  },
  {
   "cell_type": "code",
   "execution_count": 9,
   "id": "ef6955a1",
   "metadata": {},
   "outputs": [
    {
     "name": "stdout",
     "output_type": "stream",
     "text": [
      "0.0016666666666666666 Total time run:  0.0002777777777777778 Hours:  0.0 Minutes:  0.0 Seconds: \n"
     ]
    }
   ],
   "source": [
    "#25\n",
    "#If I leave my house at 6:52 am and run 1 mile at an easy pace (8:15 per mile), then 3 miles at\n",
    "#tempo (7:12 per mile) and 1 mile at easy pace again, what time do I get home for breakfast\n",
    "import datetime\n",
    "seconds = 1\n",
    "hours = seconds / (60*60)\n",
    "seconds = seconds - hours*60*60\n",
    "minutes = seconds / 60\n",
    "seconds = seconds - minutes *60\n",
    "\n",
    "time_left_house = 6 * hours + 52 * minutes\n",
    "\n",
    "miles_run_easy_pace = 2 * (8 * minutes + 15 * seconds)\n",
    "\n",
    "miles_run_fast_pace = 3 * (7 * minutes + 12 * seconds)\n",
    "\n",
    "\n",
    "total_time_run = miles_run_easy_pace + miles_run_fast_pace + time_left_house\n",
    "\n",
    "\n",
    "print (total_time_run, \"Total time run: \" , hours, 'Hours: ', minutes, 'Minutes: ', seconds, 'Seconds: ')"
   ]
  },
  {
   "cell_type": "code",
   "execution_count": null,
   "id": "a30cf422",
   "metadata": {},
   "outputs": [],
   "source": [
    "echo \"# PYTHON-PRACTICE\" >> README.md\n",
    "git init\n",
    "git add README.md\n",
    "git commit -m \"first commit\"\n",
    "git branch -M main\n",
    "git remote add origin https://github.com/itsPrakash2308/PYTHON-PRACTICE.git\n",
    "git push -u origin main"
   ]
  },
  {
   "cell_type": "code",
   "execution_count": null,
   "id": "d1ccd8a8",
   "metadata": {},
   "outputs": [],
   "source": []
  }
 ],
 "metadata": {
  "kernelspec": {
   "display_name": "Python 3 (ipykernel)",
   "language": "python",
   "name": "python3"
  },
  "language_info": {
   "codemirror_mode": {
    "name": "ipython",
    "version": 3
   },
   "file_extension": ".py",
   "mimetype": "text/x-python",
   "name": "python",
   "nbconvert_exporter": "python",
   "pygments_lexer": "ipython3",
   "version": "3.9.12"
  }
 },
 "nbformat": 4,
 "nbformat_minor": 5
}
